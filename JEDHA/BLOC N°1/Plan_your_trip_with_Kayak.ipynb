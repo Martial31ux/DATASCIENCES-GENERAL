{
 "cells": [
  {
   "cell_type": "markdown",
   "metadata": {},
   "source": [
    "![Kayak](https://seekvectorlogo.com/wp-content/uploads/2018/01/kayak-vector-logo.png)\n",
    "\n",
    "# Plan your trip with Kayak \n",
    "\n",
    "## Company's description 📇\n",
    "\n",
    "<a href=\"https://www.kayak.com\" target=\"_blank\">Kayak</a> is a travel search engine that helps user plan their next trip at the best price.\n",
    "\n",
    "The company was founded in 2004 by Steve Hafner & Paul M. English. After a few rounds of fundraising, Kayak was acquired by <a href=\"https://www.bookingholdings.com/\" target=\"_blank\">Booking Holdings</a> which now holds: \n",
    "\n",
    "* <a href=\"https://booking.com/\" target=\"_blank\">Booking.com</a>\n",
    "* <a href=\"https://kayak.com/\" target=\"_blank\">Kayak</a>\n",
    "* <a href=\"https://www.priceline.com/\" target=\"_blank\">Priceline</a>\n",
    "* <a href=\"https://www.agoda.com/\" target=\"_blank\">Agoda</a>\n",
    "* <a href=\"https://Rentalcars.com/\" target=\"_blank\">RentalCars</a>\n",
    "* <a href=\"https://www.opentable.com/\" target=\"_blank\">OpenTable</a>\n",
    "\n",
    "With over \\$300 million revenue a year, Kayak operates in almost all countries and all languages to help their users book travels accros the globe. "
   ]
  },
  {
   "cell_type": "markdown",
   "metadata": {},
   "source": [
    "## Project 🚧\n",
    "\n",
    "The marketing team needs help on a new project. After doing some user research, the team discovered that **70% of their users who are planning a trip would like to have more information about the destination they are going to**. \n",
    "\n",
    "In addition, user research shows that **people tend to be defiant about the information they are reading if they don't know the brand** which produced the content. \n",
    "\n",
    "Therefore, Kayak Marketing Team would like to create an application that will recommend where people should plan their next holidays. The application should be based on real data about:\n",
    "\n",
    "* Weather \n",
    "* Hotels in the area \n",
    "\n",
    "The application should then be able to recommend the best destinations and hotels based on the above variables at any given time. "
   ]
  },
  {
   "cell_type": "markdown",
   "metadata": {},
   "source": [
    "## Goals 🎯\n",
    "\n",
    "As the project has just started, your team doesn't have any data that can be used to create this application. Therefore, your job will be to: \n",
    "\n",
    "* Scrape data from destinations \n",
    "* Get weather data from each destination \n",
    "* Get hotels' info about each destination\n",
    "* Store all the information above in a data lake\n",
    "* Extract, transform and load cleaned data from your datalake to a data warehouse"
   ]
  },
  {
   "cell_type": "markdown",
   "metadata": {},
   "source": [
    "## Scope of this project 🖼️\n",
    "\n",
    "Marketing team wants to focus first on the best cities to travel to in France. According <a href=\"https://one-week-in.com/35-cities-to-visit-in-france/\" target=\"_blank\">One Week In.com</a> here are the top-35 cities to visit in France: \n",
    "\n",
    "```python \n",
    "[\"Mont Saint Michel\",\n",
    "\"St Malo\",\n",
    "\"Bayeux\",\n",
    "\"Le Havre\",\n",
    "\"Rouen\",\n",
    "\"Paris\",\n",
    "\"Amiens\",\n",
    "\"Lille\",\n",
    "\"Strasbourg\",\n",
    "\"Chateau du Haut Koenigsbourg\",\n",
    "\"Colmar\",\n",
    "\"Eguisheim\",\n",
    "\"Besancon\",\n",
    "\"Dijon\",\n",
    "\"Annecy\",\n",
    "\"Grenoble\",\n",
    "\"Lyon\",\n",
    "\"Gorges du Verdon\",\n",
    "\"Bormes les Mimosas\",\n",
    "\"Cassis\",\n",
    "\"Marseille\",\n",
    "\"Aix en Provence\",\n",
    "\"Avignon\",\n",
    "\"Uzes\",\n",
    "\"Nimes\",\n",
    "\"Aigues Mortes\",\n",
    "\"Saintes Maries de la mer\",\n",
    "\"Collioure\",\n",
    "\"Carcassonne\",\n",
    "\"Ariege\",\n",
    "\"Toulouse\",\n",
    "\"Montauban\",\n",
    "\"Biarritz\",\n",
    "\"Bayonne\",\n",
    "\"La Rochelle\"]\n",
    "```\n",
    "\n",
    "Your team should focus **only on the above cities for your project**. \n"
   ]
  },
  {
   "cell_type": "code",
   "execution_count": 2,
   "metadata": {},
   "outputs": [
    {
     "name": "stdout",
     "output_type": "stream",
     "text": [
      "Collecting plotly==4.9.0\n",
      "  Using cached plotly-4.9.0-py2.py3-none-any.whl (12.9 MB)\n",
      "Requirement already satisfied: six in /opt/conda/lib/python3.8/site-packages (from plotly==4.9.0) (1.15.0)\n",
      "Processing /home/jovyan/.cache/pip/wheels/c4/a7/48/0a434133f6d56e878ca511c0e6c38326907c0792f67b476e56/retrying-1.3.3-py3-none-any.whl\n",
      "Installing collected packages: retrying, plotly\n",
      "Successfully installed plotly-4.9.0 retrying-1.3.3\n",
      "Requirement already satisfied: jupyterlab in /opt/conda/lib/python3.8/site-packages (2.2.8)\n",
      "Collecting ipywidgets==7.5\n",
      "  Using cached ipywidgets-7.5.0-py2.py3-none-any.whl (121 kB)\n",
      "Requirement already satisfied: notebook>=4.3.1 in /opt/conda/lib/python3.8/site-packages (from jupyterlab) (6.1.4)\n",
      "Requirement already satisfied: tornado!=6.0.0,!=6.0.1,!=6.0.2 in /opt/conda/lib/python3.8/site-packages (from jupyterlab) (6.0.4)\n",
      "Requirement already satisfied: jupyterlab_server<2.0,>=1.1.5 in /opt/conda/lib/python3.8/site-packages (from jupyterlab) (1.2.0)\n",
      "Requirement already satisfied: jinja2>=2.10 in /opt/conda/lib/python3.8/site-packages (from jupyterlab) (2.11.2)\n",
      "Requirement already satisfied: traitlets>=4.3.1 in /opt/conda/lib/python3.8/site-packages (from ipywidgets==7.5) (5.0.4)\n",
      "Requirement already satisfied: widgetsnbextension~=3.5.0 in /opt/conda/lib/python3.8/site-packages (from ipywidgets==7.5) (3.5.1)\n",
      "Requirement already satisfied: ipykernel>=4.5.1 in /opt/conda/lib/python3.8/site-packages (from ipywidgets==7.5) (5.3.4)\n",
      "Requirement already satisfied: nbformat>=4.2.0 in /opt/conda/lib/python3.8/site-packages (from ipywidgets==7.5) (5.0.7)\n",
      "Requirement already satisfied: ipython>=4.0.0; python_version >= \"3.3\" in /opt/conda/lib/python3.8/site-packages (from ipywidgets==7.5) (7.18.1)\n",
      "Requirement already satisfied: pyzmq>=17 in /opt/conda/lib/python3.8/site-packages (from notebook>=4.3.1->jupyterlab) (19.0.2)\n",
      "Requirement already satisfied: ipython-genutils in /opt/conda/lib/python3.8/site-packages (from notebook>=4.3.1->jupyterlab) (0.2.0)\n",
      "Requirement already satisfied: terminado>=0.8.3 in /opt/conda/lib/python3.8/site-packages (from notebook>=4.3.1->jupyterlab) (0.9.1)\n",
      "Requirement already satisfied: prometheus-client in /opt/conda/lib/python3.8/site-packages (from notebook>=4.3.1->jupyterlab) (0.8.0)\n",
      "Requirement already satisfied: jupyter-core>=4.6.1 in /opt/conda/lib/python3.8/site-packages (from notebook>=4.3.1->jupyterlab) (4.6.3)\n",
      "Requirement already satisfied: nbconvert in /opt/conda/lib/python3.8/site-packages (from notebook>=4.3.1->jupyterlab) (6.0.7)\n",
      "Requirement already satisfied: jupyter-client>=5.3.4 in /opt/conda/lib/python3.8/site-packages (from notebook>=4.3.1->jupyterlab) (6.1.7)\n",
      "Requirement already satisfied: Send2Trash in /opt/conda/lib/python3.8/site-packages (from notebook>=4.3.1->jupyterlab) (1.5.0)\n",
      "Requirement already satisfied: argon2-cffi in /opt/conda/lib/python3.8/site-packages (from notebook>=4.3.1->jupyterlab) (20.1.0)\n",
      "Requirement already satisfied: requests in /opt/conda/lib/python3.8/site-packages (from jupyterlab_server<2.0,>=1.1.5->jupyterlab) (2.24.0)\n",
      "Requirement already satisfied: json5 in /opt/conda/lib/python3.8/site-packages (from jupyterlab_server<2.0,>=1.1.5->jupyterlab) (0.9.5)\n",
      "Requirement already satisfied: jsonschema>=3.0.1 in /opt/conda/lib/python3.8/site-packages (from jupyterlab_server<2.0,>=1.1.5->jupyterlab) (3.2.0)\n",
      "Requirement already satisfied: MarkupSafe>=0.23 in /opt/conda/lib/python3.8/site-packages (from jinja2>=2.10->jupyterlab) (1.1.1)\n",
      "Requirement already satisfied: decorator in /opt/conda/lib/python3.8/site-packages (from ipython>=4.0.0; python_version >= \"3.3\"->ipywidgets==7.5) (4.4.2)\n",
      "Requirement already satisfied: backcall in /opt/conda/lib/python3.8/site-packages (from ipython>=4.0.0; python_version >= \"3.3\"->ipywidgets==7.5) (0.2.0)\n",
      "Requirement already satisfied: pexpect>4.3; sys_platform != \"win32\" in /opt/conda/lib/python3.8/site-packages (from ipython>=4.0.0; python_version >= \"3.3\"->ipywidgets==7.5) (4.8.0)\n",
      "Requirement already satisfied: jedi>=0.10 in /opt/conda/lib/python3.8/site-packages (from ipython>=4.0.0; python_version >= \"3.3\"->ipywidgets==7.5) (0.17.2)\n",
      "Requirement already satisfied: pickleshare in /opt/conda/lib/python3.8/site-packages (from ipython>=4.0.0; python_version >= \"3.3\"->ipywidgets==7.5) (0.7.5)\n",
      "Requirement already satisfied: prompt-toolkit!=3.0.0,!=3.0.1,<3.1.0,>=2.0.0 in /opt/conda/lib/python3.8/site-packages (from ipython>=4.0.0; python_version >= \"3.3\"->ipywidgets==7.5) (3.0.7)\n",
      "Requirement already satisfied: pygments in /opt/conda/lib/python3.8/site-packages (from ipython>=4.0.0; python_version >= \"3.3\"->ipywidgets==7.5) (2.7.1)\n",
      "Requirement already satisfied: setuptools>=18.5 in /opt/conda/lib/python3.8/site-packages (from ipython>=4.0.0; python_version >= \"3.3\"->ipywidgets==7.5) (49.6.0.post20201009)\n",
      "Requirement already satisfied: ptyprocess; os_name != \"nt\" in /opt/conda/lib/python3.8/site-packages (from terminado>=0.8.3->notebook>=4.3.1->jupyterlab) (0.6.0)\n",
      "Requirement already satisfied: bleach in /opt/conda/lib/python3.8/site-packages (from nbconvert->notebook>=4.3.1->jupyterlab) (3.2.1)\n",
      "Requirement already satisfied: defusedxml in /opt/conda/lib/python3.8/site-packages (from nbconvert->notebook>=4.3.1->jupyterlab) (0.6.0)\n",
      "Requirement already satisfied: nbclient<0.6.0,>=0.5.0 in /opt/conda/lib/python3.8/site-packages (from nbconvert->notebook>=4.3.1->jupyterlab) (0.5.0)\n",
      "Requirement already satisfied: pandocfilters>=1.4.1 in /opt/conda/lib/python3.8/site-packages (from nbconvert->notebook>=4.3.1->jupyterlab) (1.4.2)\n",
      "Requirement already satisfied: testpath in /opt/conda/lib/python3.8/site-packages (from nbconvert->notebook>=4.3.1->jupyterlab) (0.4.4)\n",
      "Requirement already satisfied: jupyterlab-pygments in /opt/conda/lib/python3.8/site-packages (from nbconvert->notebook>=4.3.1->jupyterlab) (0.1.2)\n",
      "Requirement already satisfied: mistune<2,>=0.8.1 in /opt/conda/lib/python3.8/site-packages (from nbconvert->notebook>=4.3.1->jupyterlab) (0.8.4)\n",
      "Requirement already satisfied: entrypoints>=0.2.2 in /opt/conda/lib/python3.8/site-packages (from nbconvert->notebook>=4.3.1->jupyterlab) (0.3)\n",
      "Requirement already satisfied: python-dateutil>=2.1 in /opt/conda/lib/python3.8/site-packages (from jupyter-client>=5.3.4->notebook>=4.3.1->jupyterlab) (2.8.1)\n",
      "Requirement already satisfied: six in /opt/conda/lib/python3.8/site-packages (from argon2-cffi->notebook>=4.3.1->jupyterlab) (1.15.0)\n",
      "Requirement already satisfied: cffi>=1.0.0 in /opt/conda/lib/python3.8/site-packages (from argon2-cffi->notebook>=4.3.1->jupyterlab) (1.14.3)\n",
      "Requirement already satisfied: certifi>=2017.4.17 in /opt/conda/lib/python3.8/site-packages (from requests->jupyterlab_server<2.0,>=1.1.5->jupyterlab) (2020.6.20)\n",
      "Requirement already satisfied: idna<3,>=2.5 in /opt/conda/lib/python3.8/site-packages (from requests->jupyterlab_server<2.0,>=1.1.5->jupyterlab) (2.10)\n",
      "Requirement already satisfied: urllib3!=1.25.0,!=1.25.1,<1.26,>=1.21.1 in /opt/conda/lib/python3.8/site-packages (from requests->jupyterlab_server<2.0,>=1.1.5->jupyterlab) (1.25.10)\n",
      "Requirement already satisfied: chardet<4,>=3.0.2 in /opt/conda/lib/python3.8/site-packages (from requests->jupyterlab_server<2.0,>=1.1.5->jupyterlab) (3.0.4)\n",
      "Requirement already satisfied: pyrsistent>=0.14.0 in /opt/conda/lib/python3.8/site-packages (from jsonschema>=3.0.1->jupyterlab_server<2.0,>=1.1.5->jupyterlab) (0.17.3)\n",
      "Requirement already satisfied: attrs>=17.4.0 in /opt/conda/lib/python3.8/site-packages (from jsonschema>=3.0.1->jupyterlab_server<2.0,>=1.1.5->jupyterlab) (20.2.0)\n",
      "Requirement already satisfied: parso<0.8.0,>=0.7.0 in /opt/conda/lib/python3.8/site-packages (from jedi>=0.10->ipython>=4.0.0; python_version >= \"3.3\"->ipywidgets==7.5) (0.7.1)\n",
      "Requirement already satisfied: wcwidth in /opt/conda/lib/python3.8/site-packages (from prompt-toolkit!=3.0.0,!=3.0.1,<3.1.0,>=2.0.0->ipython>=4.0.0; python_version >= \"3.3\"->ipywidgets==7.5) (0.2.5)\n",
      "Requirement already satisfied: packaging in /opt/conda/lib/python3.8/site-packages (from bleach->nbconvert->notebook>=4.3.1->jupyterlab) (20.4)\n",
      "Requirement already satisfied: webencodings in /opt/conda/lib/python3.8/site-packages (from bleach->nbconvert->notebook>=4.3.1->jupyterlab) (0.5.1)\n",
      "Requirement already satisfied: async-generator in /opt/conda/lib/python3.8/site-packages (from nbclient<0.6.0,>=0.5.0->nbconvert->notebook>=4.3.1->jupyterlab) (1.10)\n",
      "Requirement already satisfied: nest-asyncio in /opt/conda/lib/python3.8/site-packages (from nbclient<0.6.0,>=0.5.0->nbconvert->notebook>=4.3.1->jupyterlab) (1.4.1)\n",
      "Requirement already satisfied: pycparser in /opt/conda/lib/python3.8/site-packages (from cffi>=1.0.0->argon2-cffi->notebook>=4.3.1->jupyterlab) (2.20)\n",
      "Requirement already satisfied: pyparsing>=2.0.2 in /opt/conda/lib/python3.8/site-packages (from packaging->bleach->nbconvert->notebook>=4.3.1->jupyterlab) (2.4.7)\n",
      "Installing collected packages: ipywidgets\n",
      "  Attempting uninstall: ipywidgets\n",
      "    Found existing installation: ipywidgets 7.5.1\n",
      "    Uninstalling ipywidgets-7.5.1:\n",
      "      Successfully uninstalled ipywidgets-7.5.1\n",
      "Successfully installed ipywidgets-7.5.0\n",
      "Building jupyterlab assets (build:prod:minimize)\n",
      "Building jupyterlab assets (build:prod:minimize)\n"
     ]
    }
   ],
   "source": [
    "!pip install plotly==4.9.0\n",
    "## Installation des extensions nécessaires à plotly sur Julie ##\n",
    "!pip install jupyterlab \"ipywidgets==7.5\"\n",
    "!jupyter labextension install jupyterlab-plotly@4.9.0\n",
    "!jupyter labextension install @jupyter-widgets/jupyterlab-manager plotlywidget@4.9.0\n",
    "## Sans ces lignes de commande, les graphiques ne s'afficheront pas ##\n"
   ]
  },
  {
   "cell_type": "code",
   "execution_count": 3,
   "metadata": {},
   "outputs": [
    {
     "name": "stdout",
     "output_type": "stream",
     "text": [
      "Collecting scrapy\n",
      "  Using cached Scrapy-2.5.1-py2.py3-none-any.whl (254 kB)\n",
      "Requirement already satisfied: pyOpenSSL>=16.2.0 in /opt/conda/lib/python3.8/site-packages (from scrapy) (19.1.0)\n",
      "Collecting cssselect>=0.9.1\n",
      "  Using cached cssselect-1.1.0-py2.py3-none-any.whl (16 kB)\n",
      "Collecting itemloaders>=1.0.1\n",
      "  Using cached itemloaders-1.0.4-py3-none-any.whl (11 kB)\n",
      "Collecting w3lib>=1.17.0\n",
      "  Using cached w3lib-1.22.0-py2.py3-none-any.whl (20 kB)\n",
      "Collecting itemadapter>=0.1.0\n",
      "  Using cached itemadapter-0.4.0-py3-none-any.whl (10 kB)\n",
      "Collecting h2<4.0,>=3.0\n",
      "  Using cached h2-3.2.0-py2.py3-none-any.whl (65 kB)\n",
      "Collecting zope.interface>=4.1.3\n",
      "  Using cached zope.interface-5.4.0-cp38-cp38-manylinux2010_x86_64.whl (259 kB)\n",
      "Collecting service-identity>=16.0.0\n",
      "  Using cached service_identity-21.1.0-py2.py3-none-any.whl (12 kB)\n",
      "Processing /home/jovyan/.cache/pip/wheels/d1/d7/61/11b5b370ee487d38b5408ecb7e0257db9107fa622412cbe2ff/PyDispatcher-2.0.5-py3-none-any.whl\n",
      "Collecting Twisted[http2]>=17.9.0\n",
      "  Using cached Twisted-21.7.0-py3-none-any.whl (3.1 MB)\n",
      "Collecting lxml>=3.5.0; platform_python_implementation == \"CPython\"\n",
      "  Using cached lxml-4.6.3-cp38-cp38-manylinux2014_x86_64.whl (6.8 MB)\n",
      "Requirement already satisfied: cryptography>=2.0 in /opt/conda/lib/python3.8/site-packages (from scrapy) (3.1.1)\n",
      "Collecting parsel>=1.5.0\n",
      "  Using cached parsel-1.6.0-py2.py3-none-any.whl (13 kB)\n",
      "Processing /home/jovyan/.cache/pip/wheels/91/64/36/bd0d11306cb22a78c7f53d603c7eb74ebb6c211703bc40b686/Protego-0.1.16-py3-none-any.whl\n",
      "Collecting queuelib>=1.4.2\n",
      "  Using cached queuelib-1.6.2-py2.py3-none-any.whl (13 kB)\n",
      "Requirement already satisfied: six>=1.5.2 in /opt/conda/lib/python3.8/site-packages (from pyOpenSSL>=16.2.0->scrapy) (1.15.0)\n",
      "Collecting jmespath>=0.9.5\n",
      "  Using cached jmespath-0.10.0-py2.py3-none-any.whl (24 kB)\n",
      "Collecting hpack<4,>=3.0\n",
      "  Using cached hpack-3.0.0-py2.py3-none-any.whl (38 kB)\n",
      "Collecting hyperframe<6,>=5.2.0\n",
      "  Using cached hyperframe-5.2.0-py2.py3-none-any.whl (12 kB)\n",
      "Requirement already satisfied: setuptools in /opt/conda/lib/python3.8/site-packages (from zope.interface>=4.1.3->scrapy) (49.6.0.post20201009)\n",
      "Requirement already satisfied: attrs>=19.1.0 in /opt/conda/lib/python3.8/site-packages (from service-identity>=16.0.0->scrapy) (20.2.0)\n",
      "Collecting pyasn1\n",
      "  Using cached pyasn1-0.4.8-py2.py3-none-any.whl (77 kB)\n",
      "Collecting pyasn1-modules\n",
      "  Using cached pyasn1_modules-0.2.8-py2.py3-none-any.whl (155 kB)\n",
      "Collecting hyperlink>=17.1.1\n",
      "  Using cached hyperlink-21.0.0-py2.py3-none-any.whl (74 kB)\n",
      "Requirement already satisfied: typing-extensions>=3.6.5 in /opt/conda/lib/python3.8/site-packages (from Twisted[http2]>=17.9.0->scrapy) (3.7.4.2)\n",
      "Collecting incremental>=21.3.0\n",
      "  Using cached incremental-21.3.0-py2.py3-none-any.whl (15 kB)\n",
      "Collecting Automat>=0.8.0\n",
      "  Using cached Automat-20.2.0-py2.py3-none-any.whl (31 kB)\n",
      "Collecting constantly>=15.1\n",
      "  Using cached constantly-15.1.0-py2.py3-none-any.whl (7.9 kB)\n",
      "Collecting priority<2.0,>=1.1.0; extra == \"http2\"\n",
      "  Using cached priority-1.3.0-py2.py3-none-any.whl (11 kB)\n",
      "Requirement already satisfied: cffi!=1.11.3,>=1.8 in /opt/conda/lib/python3.8/site-packages (from cryptography>=2.0->scrapy) (1.14.3)\n",
      "Requirement already satisfied: idna>=2.5 in /opt/conda/lib/python3.8/site-packages (from hyperlink>=17.1.1->Twisted[http2]>=17.9.0->scrapy) (2.10)\n",
      "Requirement already satisfied: pycparser in /opt/conda/lib/python3.8/site-packages (from cffi!=1.11.3,>=1.8->cryptography>=2.0->scrapy) (2.20)\n",
      "Installing collected packages: cssselect, lxml, w3lib, parsel, jmespath, itemadapter, itemloaders, hpack, hyperframe, h2, zope.interface, pyasn1, pyasn1-modules, service-identity, PyDispatcher, hyperlink, incremental, Automat, constantly, priority, Twisted, protego, queuelib, scrapy\n",
      "Successfully installed Automat-20.2.0 PyDispatcher-2.0.5 Twisted-21.7.0 constantly-15.1.0 cssselect-1.1.0 h2-3.2.0 hpack-3.0.0 hyperframe-5.2.0 hyperlink-21.0.0 incremental-21.3.0 itemadapter-0.4.0 itemloaders-1.0.4 jmespath-0.10.0 lxml-4.6.3 parsel-1.6.0 priority-1.3.0 protego-0.1.16 pyasn1-0.4.8 pyasn1-modules-0.2.8 queuelib-1.6.2 scrapy-2.5.1 service-identity-21.1.0 w3lib-1.22.0 zope.interface-5.4.0\n",
      "Collecting boto3\n",
      "  Downloading boto3-1.18.64-py3-none-any.whl (131 kB)\n",
      "\u001b[K     |████████████████████████████████| 131 kB 10.3 MB/s eta 0:00:01\n",
      "\u001b[?25hRequirement already satisfied: jmespath<1.0.0,>=0.7.1 in /opt/conda/lib/python3.8/site-packages (from boto3) (0.10.0)\n",
      "Collecting s3transfer<0.6.0,>=0.5.0\n",
      "  Using cached s3transfer-0.5.0-py3-none-any.whl (79 kB)\n",
      "Collecting botocore<1.22.0,>=1.21.64\n",
      "  Downloading botocore-1.21.64-py3-none-any.whl (8.0 MB)\n",
      "\u001b[K     |████████████████████████████████| 8.0 MB 47.4 MB/s eta 0:00:01\n",
      "\u001b[?25hRequirement already satisfied: urllib3<1.27,>=1.25.4 in /opt/conda/lib/python3.8/site-packages (from botocore<1.22.0,>=1.21.64->boto3) (1.25.10)\n",
      "Requirement already satisfied: python-dateutil<3.0.0,>=2.1 in /opt/conda/lib/python3.8/site-packages (from botocore<1.22.0,>=1.21.64->boto3) (2.8.1)\n",
      "Requirement already satisfied: six>=1.5 in /opt/conda/lib/python3.8/site-packages (from python-dateutil<3.0.0,>=2.1->botocore<1.22.0,>=1.21.64->boto3) (1.15.0)\n",
      "Installing collected packages: botocore, s3transfer, boto3\n",
      "Successfully installed boto3-1.18.64 botocore-1.21.64 s3transfer-0.5.0\n"
     ]
    }
   ],
   "source": [
    "!pip install scrapy\n",
    "!pip install boto3"
   ]
  },
  {
   "cell_type": "code",
   "execution_count": 53,
   "metadata": {},
   "outputs": [],
   "source": [
    "import requests\n",
    "import pandas as pd\n",
    "import json\n",
    "import plotly.express as px\n",
    "import os\n",
    "import logging\n",
    "\n",
    "import scrapy\n",
    "from scrapy.crawler import CrawlerProcess\n",
    "\n",
    "import boto3"
   ]
  },
  {
   "cell_type": "code",
   "execution_count": 54,
   "metadata": {},
   "outputs": [],
   "source": [
    "#Some global variables\n",
    "API_KEY = \" \"\n",
    "openweather_url = \"https://api.openweathermap.org/data/2.5/onecall\"\n",
    "#AWS credentials\n",
    "aws_access_key_id=\"YOUR AWS ACCESS KEY\"\n",
    "aws_secret_access_key=\"YOUR AWS SECRET KEY\"\n",
    "#S3 bucket\n",
    "kayak_bucket = \"Your AWS Bucket\""
   ]
  },
  {
   "cell_type": "code",
   "execution_count": 55,
   "metadata": {},
   "outputs": [],
   "source": [
    "#Scraping cities data"
   ]
  },
  {
   "cell_type": "code",
   "execution_count": 7,
   "metadata": {},
   "outputs": [],
   "source": [
    "#see spider cities in kayak scrapy projet"
   ]
  },
  {
   "cell_type": "code",
   "execution_count": 8,
   "metadata": {},
   "outputs": [],
   "source": [
    "#Scraping Hotels data : be sure that spider cities in kayak scrapy projet runs\n",
    "#and have generated cities.json at the same folder this note book\n",
    "# scrapy crawl cities -o output/cities.json"
   ]
  },
  {
   "cell_type": "code",
   "execution_count": 56,
   "metadata": {},
   "outputs": [],
   "source": [
    "class HotelsSpider(scrapy.Spider):\n",
    "    name = 'hotels'\n",
    "    #allowed_domains = ['www.booking.com']\n",
    "    start_urls = ['http://www.booking.com']\n",
    "    \n",
    "    def __init__(self, *args,**kwargs):\n",
    "        super(HotelsSpider, self).__init__(*args, **kwargs)\n",
    "        #Be careful : this code will execute after getting cities from cities Spider\n",
    "        self.cities = pd.read_json('output/cities.json')\n",
    "        \n",
    "    def parse(self, response):\n",
    "        # FormRequest used to make a search\n",
    "        for i, city in self.cities.iterrows() :\n",
    "            logging.info('===============Searching hotel for %s ===================', city['city'])\n",
    "            #logging.info('Index = %s', i)\n",
    "            yield scrapy.FormRequest.from_response(response,\n",
    "                                               formdata={'ss': city['city']}, callback=self.after_search,\n",
    "                                                   cb_kwargs={'city_id': city['id']}\n",
    "                                              )\n",
    "\n",
    "    # Callback \n",
    "    def after_search(self, response, city_id):\n",
    "        logger = logging.getLogger()\n",
    "        logger.info('===============Processing Results for a page ===================')\n",
    "        results = response.css('div.sr_item')\n",
    "\n",
    "        for r in results:\n",
    "            #logger.info('===============Get Hotel informations ===================')\n",
    "\n",
    "            h3 = r.css('h3')\n",
    "            gps = r.css('a::attr(data-coords)').get()\n",
    "            rating = r.css('span.bui-rating::attr(aria-label)').get()\n",
    "            lon = gps.split(\",\")[0]\n",
    "            lat = gps.split(\",\")[1]\n",
    "            yield {\n",
    "                'name': h3.css('a span::text').get(),\n",
    "                'url':  response.urljoin(h3.css('a').attrib['href'].strip()),\n",
    "                #'url': \"http://www.booking.com\" + h3.css('a').attrib['href'],\n",
    "                'description' : r.css('div.hotel_desc::text').get(),\n",
    "                'lat' : lat, \n",
    "                'lon' : lon,\n",
    "                'score' : rating,\n",
    "                'city_id':city_id\n",
    "            }\n",
    "        # Select the NEXT button and store it in next_page\n",
    "        #try:\n",
    "        #    next_page = response.css('a.paging-next').attrib[\"href\"]\n",
    "        #except KeyError:\n",
    "         #   logging.info('No next page. Terminating crawling process.')\n",
    "       # else:\n",
    "          #  yield response.follow(next_page, callback=self.after_search, cb_kwargs={'city_id': city_id})"
   ]
  },
  {
   "cell_type": "code",
   "execution_count": 57,
   "metadata": {},
   "outputs": [],
   "source": [
    "# Name of the file where the results will be saved\n",
    "filename = \"hotels.json\"\n",
    "\n",
    "# If file already exists, delete it before crawling (because Scrapy will concatenate the last and new results otherwise)\n",
    "if filename not in os.listdir('output/'):\n",
    "    #os.remove('output/' + filename)\n",
    "    # Declare a new CrawlerProcess with some settings\n",
    "    process = CrawlerProcess(settings = {\n",
    "        'USER_AGENT': 'Chrome/84.0 (compatible; MSIE 7.0; Windows NT 5.1)',\n",
    "        'LOG_LEVEL': logging.INFO,\n",
    "        \"FEEDS\": {\n",
    "            'output/' + filename : {\"format\": \"json\"}\n",
    "        }})\n",
    "    # Start the crawling using the spider you defined above\n",
    "    process.crawl(HotelsSpider)\n",
    "    process.start()"
   ]
  },
  {
   "cell_type": "code",
   "execution_count": 58,
   "metadata": {},
   "outputs": [],
   "source": [
    "#Load Hotel"
   ]
  },
  {
   "cell_type": "code",
   "execution_count": 59,
   "metadata": {},
   "outputs": [],
   "source": [
    "hotels =  pd.read_json('output/hotels.json')"
   ]
  },
  {
   "cell_type": "code",
   "execution_count": 60,
   "metadata": {},
   "outputs": [],
   "source": [
    "#Load cities data : name, gps coordinates"
   ]
  },
  {
   "cell_type": "code",
   "execution_count": 61,
   "metadata": {},
   "outputs": [],
   "source": [
    "cities = pd.read_json('output/cities.json')"
   ]
  },
  {
   "cell_type": "code",
   "execution_count": 62,
   "metadata": {},
   "outputs": [
    {
     "data": {
      "text/html": [
       "<div>\n",
       "<style scoped>\n",
       "    .dataframe tbody tr th:only-of-type {\n",
       "        vertical-align: middle;\n",
       "    }\n",
       "\n",
       "    .dataframe tbody tr th {\n",
       "        vertical-align: top;\n",
       "    }\n",
       "\n",
       "    .dataframe thead th {\n",
       "        text-align: right;\n",
       "    }\n",
       "</style>\n",
       "<table border=\"1\" class=\"dataframe\">\n",
       "  <thead>\n",
       "    <tr style=\"text-align: right;\">\n",
       "      <th></th>\n",
       "      <th>id</th>\n",
       "      <th>city</th>\n",
       "    </tr>\n",
       "  </thead>\n",
       "  <tbody>\n",
       "    <tr>\n",
       "      <th>0</th>\n",
       "      <td>1</td>\n",
       "      <td>Mont Saint Michel</td>\n",
       "    </tr>\n",
       "    <tr>\n",
       "      <th>1</th>\n",
       "      <td>2</td>\n",
       "      <td>St Malo</td>\n",
       "    </tr>\n",
       "    <tr>\n",
       "      <th>2</th>\n",
       "      <td>3</td>\n",
       "      <td>Bayeux</td>\n",
       "    </tr>\n",
       "    <tr>\n",
       "      <th>3</th>\n",
       "      <td>4</td>\n",
       "      <td>Le Havre</td>\n",
       "    </tr>\n",
       "    <tr>\n",
       "      <th>4</th>\n",
       "      <td>5</td>\n",
       "      <td>Rouen</td>\n",
       "    </tr>\n",
       "  </tbody>\n",
       "</table>\n",
       "</div>"
      ],
      "text/plain": [
       "   id               city\n",
       "0   1  Mont Saint Michel\n",
       "1   2            St Malo\n",
       "2   3             Bayeux\n",
       "3   4           Le Havre\n",
       "4   5              Rouen"
      ]
     },
     "execution_count": 62,
     "metadata": {},
     "output_type": "execute_result"
    }
   ],
   "source": [
    "cities.head()"
   ]
  },
  {
   "cell_type": "code",
   "execution_count": 63,
   "metadata": {},
   "outputs": [],
   "source": [
    "#get gps cordinates of a city"
   ]
  },
  {
   "cell_type": "code",
   "execution_count": 64,
   "metadata": {},
   "outputs": [],
   "source": [
    "#get gps cordinates of a city\n",
    "#get gps cordinates of a city\n",
    "def get_gps(city) :\n",
    "    url = \"https://nominatim.openstreetmap.org/search?q=\" + city + \"&county=France&format=json&limit=1\"\n",
    "    gps = requests.get(url)\n",
    "    yield gps.json()[0]['lat'], gps.json()[0]['lon']\n",
    "    \n",
    "def get_lat(city) :\n",
    "    url = \"https://nominatim.openstreetmap.org/search?q=\" + city + \"&county=France&format=json&limit=1\"\n",
    "    gps = requests.get(url)\n",
    "    return gps.json()[0]['lat']\n",
    "\n",
    "def get_lon(city) :\n",
    "    url = \"https://nominatim.openstreetmap.org/search?q=\" + city + \"&county=France&format=json&limit=1\"\n",
    "    gps = requests.get(url)\n",
    "    return gps.json()[0]['lon']\n"
   ]
  },
  {
   "cell_type": "code",
   "execution_count": 65,
   "metadata": {},
   "outputs": [],
   "source": [
    "#get the gps coordinates of all the cities\n",
    "cities['lat'] = cities['city'].apply(get_lat) # very slow\n",
    "cities['lon'] = cities['city'].apply(get_lon)\n",
    "\n",
    "    \n"
   ]
  },
  {
   "cell_type": "code",
   "execution_count": 66,
   "metadata": {},
   "outputs": [
    {
     "data": {
      "text/html": [
       "<div>\n",
       "<style scoped>\n",
       "    .dataframe tbody tr th:only-of-type {\n",
       "        vertical-align: middle;\n",
       "    }\n",
       "\n",
       "    .dataframe tbody tr th {\n",
       "        vertical-align: top;\n",
       "    }\n",
       "\n",
       "    .dataframe thead th {\n",
       "        text-align: right;\n",
       "    }\n",
       "</style>\n",
       "<table border=\"1\" class=\"dataframe\">\n",
       "  <thead>\n",
       "    <tr style=\"text-align: right;\">\n",
       "      <th></th>\n",
       "      <th>id</th>\n",
       "      <th>city</th>\n",
       "      <th>lat</th>\n",
       "      <th>lon</th>\n",
       "    </tr>\n",
       "  </thead>\n",
       "  <tbody>\n",
       "    <tr>\n",
       "      <th>0</th>\n",
       "      <td>1</td>\n",
       "      <td>Mont Saint Michel</td>\n",
       "      <td>48.6355232</td>\n",
       "      <td>-1.5102571</td>\n",
       "    </tr>\n",
       "    <tr>\n",
       "      <th>1</th>\n",
       "      <td>2</td>\n",
       "      <td>St Malo</td>\n",
       "      <td>48.649518</td>\n",
       "      <td>-2.0260409</td>\n",
       "    </tr>\n",
       "    <tr>\n",
       "      <th>2</th>\n",
       "      <td>3</td>\n",
       "      <td>Bayeux</td>\n",
       "      <td>49.2764624</td>\n",
       "      <td>-0.7024738</td>\n",
       "    </tr>\n",
       "    <tr>\n",
       "      <th>3</th>\n",
       "      <td>4</td>\n",
       "      <td>Le Havre</td>\n",
       "      <td>49.4938975</td>\n",
       "      <td>0.1079732</td>\n",
       "    </tr>\n",
       "    <tr>\n",
       "      <th>4</th>\n",
       "      <td>5</td>\n",
       "      <td>Rouen</td>\n",
       "      <td>49.4404591</td>\n",
       "      <td>1.0939658</td>\n",
       "    </tr>\n",
       "  </tbody>\n",
       "</table>\n",
       "</div>"
      ],
      "text/plain": [
       "   id               city         lat         lon\n",
       "0   1  Mont Saint Michel  48.6355232  -1.5102571\n",
       "1   2            St Malo   48.649518  -2.0260409\n",
       "2   3             Bayeux  49.2764624  -0.7024738\n",
       "3   4           Le Havre  49.4938975   0.1079732\n",
       "4   5              Rouen  49.4404591   1.0939658"
      ]
     },
     "execution_count": 66,
     "metadata": {},
     "output_type": "execute_result"
    }
   ],
   "source": [
    "cities.head()"
   ]
  },
  {
   "cell_type": "code",
   "execution_count": 67,
   "metadata": {},
   "outputs": [
    {
     "data": {
      "text/plain": [
       "(35, 4)"
      ]
     },
     "execution_count": 67,
     "metadata": {},
     "output_type": "execute_result"
    }
   ],
   "source": [
    "cities.shape"
   ]
  },
  {
   "cell_type": "code",
   "execution_count": 68,
   "metadata": {},
   "outputs": [],
   "source": [
    "#Scraping weather data"
   ]
  },
  {
   "cell_type": "code",
   "execution_count": 69,
   "metadata": {},
   "outputs": [],
   "source": [
    "#Extract weather data\n",
    "weather = pd.DataFrame()\n",
    "for index, city in cities.iterrows() :\n",
    "\n",
    "    weather_url = openweather_url +\"?lat=\"+city['lat'] + \"&lon=\" + city['lon'] \\\n",
    "    + \"&appid=\" + API_KEY + \"&exclude=hourly,minutely,current\" + \"&units=metric&lang=fr\"\n",
    "   \n",
    "    weather_response = requests.get(weather_url)\n",
    "    weather_data = weather_response.json()\n",
    "    #add current city id as foreign key in weather\n",
    "    weather_data['city_id'] = city['id']\n",
    "    new_rows = pd.json_normalize(weather_data,\n",
    "                             record_path ='daily',\n",
    "                             meta=['city_id', 'lat', 'lon', 'timezone','timezone_offset'])\n",
    "    weather = weather.append(new_rows, ignore_index=True)"
   ]
  },
  {
   "cell_type": "code",
   "execution_count": 70,
   "metadata": {},
   "outputs": [
    {
     "data": {
      "text/html": [
       "<div>\n",
       "<style scoped>\n",
       "    .dataframe tbody tr th:only-of-type {\n",
       "        vertical-align: middle;\n",
       "    }\n",
       "\n",
       "    .dataframe tbody tr th {\n",
       "        vertical-align: top;\n",
       "    }\n",
       "\n",
       "    .dataframe thead th {\n",
       "        text-align: right;\n",
       "    }\n",
       "</style>\n",
       "<table border=\"1\" class=\"dataframe\">\n",
       "  <thead>\n",
       "    <tr style=\"text-align: right;\">\n",
       "      <th></th>\n",
       "      <th>dt</th>\n",
       "      <th>sunrise</th>\n",
       "      <th>sunset</th>\n",
       "      <th>moonrise</th>\n",
       "      <th>moonset</th>\n",
       "      <th>moon_phase</th>\n",
       "      <th>pressure</th>\n",
       "      <th>humidity</th>\n",
       "      <th>dew_point</th>\n",
       "      <th>wind_speed</th>\n",
       "      <th>...</th>\n",
       "      <th>feels_like.day</th>\n",
       "      <th>feels_like.night</th>\n",
       "      <th>feels_like.eve</th>\n",
       "      <th>feels_like.morn</th>\n",
       "      <th>rain</th>\n",
       "      <th>city_id</th>\n",
       "      <th>lat</th>\n",
       "      <th>lon</th>\n",
       "      <th>timezone</th>\n",
       "      <th>timezone_offset</th>\n",
       "    </tr>\n",
       "  </thead>\n",
       "  <tbody>\n",
       "    <tr>\n",
       "      <th>0</th>\n",
       "      <td>1634641200</td>\n",
       "      <td>1634625124</td>\n",
       "      <td>1634663374</td>\n",
       "      <td>1634663100</td>\n",
       "      <td>1634619420</td>\n",
       "      <td>0.46</td>\n",
       "      <td>1017</td>\n",
       "      <td>64</td>\n",
       "      <td>13.96</td>\n",
       "      <td>8.26</td>\n",
       "      <td>...</td>\n",
       "      <td>20.85</td>\n",
       "      <td>16.70</td>\n",
       "      <td>20.80</td>\n",
       "      <td>16.13</td>\n",
       "      <td>NaN</td>\n",
       "      <td>1</td>\n",
       "      <td>48.6355</td>\n",
       "      <td>-1.5103</td>\n",
       "      <td>Europe/Paris</td>\n",
       "      <td>7200</td>\n",
       "    </tr>\n",
       "    <tr>\n",
       "      <th>1</th>\n",
       "      <td>1634727600</td>\n",
       "      <td>1634711617</td>\n",
       "      <td>1634749661</td>\n",
       "      <td>1634750520</td>\n",
       "      <td>1634709960</td>\n",
       "      <td>0.50</td>\n",
       "      <td>1008</td>\n",
       "      <td>75</td>\n",
       "      <td>14.04</td>\n",
       "      <td>13.60</td>\n",
       "      <td>...</td>\n",
       "      <td>18.73</td>\n",
       "      <td>11.72</td>\n",
       "      <td>15.93</td>\n",
       "      <td>16.53</td>\n",
       "      <td>5.27</td>\n",
       "      <td>1</td>\n",
       "      <td>48.6355</td>\n",
       "      <td>-1.5103</td>\n",
       "      <td>Europe/Paris</td>\n",
       "      <td>7200</td>\n",
       "    </tr>\n",
       "    <tr>\n",
       "      <th>2</th>\n",
       "      <td>1634814000</td>\n",
       "      <td>1634798109</td>\n",
       "      <td>1634835950</td>\n",
       "      <td>1634838000</td>\n",
       "      <td>1634800440</td>\n",
       "      <td>0.52</td>\n",
       "      <td>1010</td>\n",
       "      <td>77</td>\n",
       "      <td>8.95</td>\n",
       "      <td>16.19</td>\n",
       "      <td>...</td>\n",
       "      <td>12.43</td>\n",
       "      <td>7.72</td>\n",
       "      <td>9.19</td>\n",
       "      <td>10.16</td>\n",
       "      <td>8.96</td>\n",
       "      <td>1</td>\n",
       "      <td>48.6355</td>\n",
       "      <td>-1.5103</td>\n",
       "      <td>Europe/Paris</td>\n",
       "      <td>7200</td>\n",
       "    </tr>\n",
       "    <tr>\n",
       "      <th>3</th>\n",
       "      <td>1634900400</td>\n",
       "      <td>1634884602</td>\n",
       "      <td>1634922239</td>\n",
       "      <td>1634925600</td>\n",
       "      <td>1634890920</td>\n",
       "      <td>0.56</td>\n",
       "      <td>1027</td>\n",
       "      <td>55</td>\n",
       "      <td>4.96</td>\n",
       "      <td>4.84</td>\n",
       "      <td>...</td>\n",
       "      <td>12.88</td>\n",
       "      <td>10.75</td>\n",
       "      <td>10.92</td>\n",
       "      <td>6.48</td>\n",
       "      <td>0.13</td>\n",
       "      <td>1</td>\n",
       "      <td>48.6355</td>\n",
       "      <td>-1.5103</td>\n",
       "      <td>Europe/Paris</td>\n",
       "      <td>7200</td>\n",
       "    </tr>\n",
       "    <tr>\n",
       "      <th>4</th>\n",
       "      <td>1634986800</td>\n",
       "      <td>1634971095</td>\n",
       "      <td>1635008529</td>\n",
       "      <td>1635013440</td>\n",
       "      <td>1634981460</td>\n",
       "      <td>0.59</td>\n",
       "      <td>1026</td>\n",
       "      <td>54</td>\n",
       "      <td>4.51</td>\n",
       "      <td>3.93</td>\n",
       "      <td>...</td>\n",
       "      <td>12.81</td>\n",
       "      <td>7.13</td>\n",
       "      <td>9.25</td>\n",
       "      <td>5.95</td>\n",
       "      <td>NaN</td>\n",
       "      <td>1</td>\n",
       "      <td>48.6355</td>\n",
       "      <td>-1.5103</td>\n",
       "      <td>Europe/Paris</td>\n",
       "      <td>7200</td>\n",
       "    </tr>\n",
       "  </tbody>\n",
       "</table>\n",
       "<p>5 rows × 32 columns</p>\n",
       "</div>"
      ],
      "text/plain": [
       "           dt     sunrise      sunset    moonrise     moonset  moon_phase  \\\n",
       "0  1634641200  1634625124  1634663374  1634663100  1634619420        0.46   \n",
       "1  1634727600  1634711617  1634749661  1634750520  1634709960        0.50   \n",
       "2  1634814000  1634798109  1634835950  1634838000  1634800440        0.52   \n",
       "3  1634900400  1634884602  1634922239  1634925600  1634890920        0.56   \n",
       "4  1634986800  1634971095  1635008529  1635013440  1634981460        0.59   \n",
       "\n",
       "   pressure  humidity  dew_point  wind_speed  ...  feels_like.day  \\\n",
       "0      1017        64      13.96        8.26  ...           20.85   \n",
       "1      1008        75      14.04       13.60  ...           18.73   \n",
       "2      1010        77       8.95       16.19  ...           12.43   \n",
       "3      1027        55       4.96        4.84  ...           12.88   \n",
       "4      1026        54       4.51        3.93  ...           12.81   \n",
       "\n",
       "   feels_like.night feels_like.eve  feels_like.morn  rain  city_id      lat  \\\n",
       "0             16.70          20.80            16.13   NaN        1  48.6355   \n",
       "1             11.72          15.93            16.53  5.27        1  48.6355   \n",
       "2              7.72           9.19            10.16  8.96        1  48.6355   \n",
       "3             10.75          10.92             6.48  0.13        1  48.6355   \n",
       "4              7.13           9.25             5.95   NaN        1  48.6355   \n",
       "\n",
       "      lon      timezone  timezone_offset  \n",
       "0 -1.5103  Europe/Paris             7200  \n",
       "1 -1.5103  Europe/Paris             7200  \n",
       "2 -1.5103  Europe/Paris             7200  \n",
       "3 -1.5103  Europe/Paris             7200  \n",
       "4 -1.5103  Europe/Paris             7200  \n",
       "\n",
       "[5 rows x 32 columns]"
      ]
     },
     "execution_count": 70,
     "metadata": {},
     "output_type": "execute_result"
    }
   ],
   "source": [
    "weather.head()"
   ]
  },
  {
   "cell_type": "code",
   "execution_count": null,
   "metadata": {},
   "outputs": [],
   "source": []
  },
  {
   "cell_type": "code",
   "execution_count": 71,
   "metadata": {},
   "outputs": [],
   "source": [
    "#Cleanning / Transforming data"
   ]
  },
  {
   "cell_type": "code",
   "execution_count": 72,
   "metadata": {},
   "outputs": [],
   "source": [
    "\n",
    "weather['rain'] = weather['rain'].fillna(0)"
   ]
  },
  {
   "cell_type": "code",
   "execution_count": 73,
   "metadata": {},
   "outputs": [],
   "source": [
    "hotels['score'] = hotels['score'].fillna(0)\n",
    "hotels['score'] = hotels['score'].apply(lambda x : str(x).split()[0] if len(str(x).split()) > 0 else 0)\n",
    "\n",
    "hotels['name'] = hotels['name'].apply(lambda x : x.strip())\n",
    "hotels['url'] = hotels['url'].apply(lambda x : x.strip())\n",
    "hotels['description'] = hotels['description'].apply(lambda x : x.strip())"
   ]
  },
  {
   "cell_type": "code",
   "execution_count": 74,
   "metadata": {},
   "outputs": [
    {
     "data": {
      "text/html": [
       "<div>\n",
       "<style scoped>\n",
       "    .dataframe tbody tr th:only-of-type {\n",
       "        vertical-align: middle;\n",
       "    }\n",
       "\n",
       "    .dataframe tbody tr th {\n",
       "        vertical-align: top;\n",
       "    }\n",
       "\n",
       "    .dataframe thead th {\n",
       "        text-align: right;\n",
       "    }\n",
       "</style>\n",
       "<table border=\"1\" class=\"dataframe\">\n",
       "  <thead>\n",
       "    <tr style=\"text-align: right;\">\n",
       "      <th></th>\n",
       "      <th>dt</th>\n",
       "      <th>sunrise</th>\n",
       "      <th>sunset</th>\n",
       "      <th>moonrise</th>\n",
       "      <th>moonset</th>\n",
       "      <th>moon_phase</th>\n",
       "      <th>pressure</th>\n",
       "      <th>humidity</th>\n",
       "      <th>dew_point</th>\n",
       "      <th>wind_speed</th>\n",
       "      <th>...</th>\n",
       "      <th>feels_like.day</th>\n",
       "      <th>feels_like.night</th>\n",
       "      <th>feels_like.eve</th>\n",
       "      <th>feels_like.morn</th>\n",
       "      <th>rain</th>\n",
       "      <th>city_id</th>\n",
       "      <th>lat</th>\n",
       "      <th>lon</th>\n",
       "      <th>timezone</th>\n",
       "      <th>timezone_offset</th>\n",
       "    </tr>\n",
       "  </thead>\n",
       "  <tbody>\n",
       "    <tr>\n",
       "      <th>0</th>\n",
       "      <td>1634641200</td>\n",
       "      <td>1634625124</td>\n",
       "      <td>1634663374</td>\n",
       "      <td>1634663100</td>\n",
       "      <td>1634619420</td>\n",
       "      <td>0.46</td>\n",
       "      <td>1017</td>\n",
       "      <td>64</td>\n",
       "      <td>13.96</td>\n",
       "      <td>8.26</td>\n",
       "      <td>...</td>\n",
       "      <td>20.85</td>\n",
       "      <td>16.70</td>\n",
       "      <td>20.80</td>\n",
       "      <td>16.13</td>\n",
       "      <td>0.00</td>\n",
       "      <td>1</td>\n",
       "      <td>48.6355</td>\n",
       "      <td>-1.5103</td>\n",
       "      <td>Europe/Paris</td>\n",
       "      <td>7200</td>\n",
       "    </tr>\n",
       "    <tr>\n",
       "      <th>1</th>\n",
       "      <td>1634727600</td>\n",
       "      <td>1634711617</td>\n",
       "      <td>1634749661</td>\n",
       "      <td>1634750520</td>\n",
       "      <td>1634709960</td>\n",
       "      <td>0.50</td>\n",
       "      <td>1008</td>\n",
       "      <td>75</td>\n",
       "      <td>14.04</td>\n",
       "      <td>13.60</td>\n",
       "      <td>...</td>\n",
       "      <td>18.73</td>\n",
       "      <td>11.72</td>\n",
       "      <td>15.93</td>\n",
       "      <td>16.53</td>\n",
       "      <td>5.27</td>\n",
       "      <td>1</td>\n",
       "      <td>48.6355</td>\n",
       "      <td>-1.5103</td>\n",
       "      <td>Europe/Paris</td>\n",
       "      <td>7200</td>\n",
       "    </tr>\n",
       "    <tr>\n",
       "      <th>2</th>\n",
       "      <td>1634814000</td>\n",
       "      <td>1634798109</td>\n",
       "      <td>1634835950</td>\n",
       "      <td>1634838000</td>\n",
       "      <td>1634800440</td>\n",
       "      <td>0.52</td>\n",
       "      <td>1010</td>\n",
       "      <td>77</td>\n",
       "      <td>8.95</td>\n",
       "      <td>16.19</td>\n",
       "      <td>...</td>\n",
       "      <td>12.43</td>\n",
       "      <td>7.72</td>\n",
       "      <td>9.19</td>\n",
       "      <td>10.16</td>\n",
       "      <td>8.96</td>\n",
       "      <td>1</td>\n",
       "      <td>48.6355</td>\n",
       "      <td>-1.5103</td>\n",
       "      <td>Europe/Paris</td>\n",
       "      <td>7200</td>\n",
       "    </tr>\n",
       "    <tr>\n",
       "      <th>3</th>\n",
       "      <td>1634900400</td>\n",
       "      <td>1634884602</td>\n",
       "      <td>1634922239</td>\n",
       "      <td>1634925600</td>\n",
       "      <td>1634890920</td>\n",
       "      <td>0.56</td>\n",
       "      <td>1027</td>\n",
       "      <td>55</td>\n",
       "      <td>4.96</td>\n",
       "      <td>4.84</td>\n",
       "      <td>...</td>\n",
       "      <td>12.88</td>\n",
       "      <td>10.75</td>\n",
       "      <td>10.92</td>\n",
       "      <td>6.48</td>\n",
       "      <td>0.13</td>\n",
       "      <td>1</td>\n",
       "      <td>48.6355</td>\n",
       "      <td>-1.5103</td>\n",
       "      <td>Europe/Paris</td>\n",
       "      <td>7200</td>\n",
       "    </tr>\n",
       "    <tr>\n",
       "      <th>4</th>\n",
       "      <td>1634986800</td>\n",
       "      <td>1634971095</td>\n",
       "      <td>1635008529</td>\n",
       "      <td>1635013440</td>\n",
       "      <td>1634981460</td>\n",
       "      <td>0.59</td>\n",
       "      <td>1026</td>\n",
       "      <td>54</td>\n",
       "      <td>4.51</td>\n",
       "      <td>3.93</td>\n",
       "      <td>...</td>\n",
       "      <td>12.81</td>\n",
       "      <td>7.13</td>\n",
       "      <td>9.25</td>\n",
       "      <td>5.95</td>\n",
       "      <td>0.00</td>\n",
       "      <td>1</td>\n",
       "      <td>48.6355</td>\n",
       "      <td>-1.5103</td>\n",
       "      <td>Europe/Paris</td>\n",
       "      <td>7200</td>\n",
       "    </tr>\n",
       "  </tbody>\n",
       "</table>\n",
       "<p>5 rows × 32 columns</p>\n",
       "</div>"
      ],
      "text/plain": [
       "           dt     sunrise      sunset    moonrise     moonset  moon_phase  \\\n",
       "0  1634641200  1634625124  1634663374  1634663100  1634619420        0.46   \n",
       "1  1634727600  1634711617  1634749661  1634750520  1634709960        0.50   \n",
       "2  1634814000  1634798109  1634835950  1634838000  1634800440        0.52   \n",
       "3  1634900400  1634884602  1634922239  1634925600  1634890920        0.56   \n",
       "4  1634986800  1634971095  1635008529  1635013440  1634981460        0.59   \n",
       "\n",
       "   pressure  humidity  dew_point  wind_speed  ...  feels_like.day  \\\n",
       "0      1017        64      13.96        8.26  ...           20.85   \n",
       "1      1008        75      14.04       13.60  ...           18.73   \n",
       "2      1010        77       8.95       16.19  ...           12.43   \n",
       "3      1027        55       4.96        4.84  ...           12.88   \n",
       "4      1026        54       4.51        3.93  ...           12.81   \n",
       "\n",
       "   feels_like.night feels_like.eve  feels_like.morn  rain  city_id      lat  \\\n",
       "0             16.70          20.80            16.13  0.00        1  48.6355   \n",
       "1             11.72          15.93            16.53  5.27        1  48.6355   \n",
       "2              7.72           9.19            10.16  8.96        1  48.6355   \n",
       "3             10.75          10.92             6.48  0.13        1  48.6355   \n",
       "4              7.13           9.25             5.95  0.00        1  48.6355   \n",
       "\n",
       "      lon      timezone  timezone_offset  \n",
       "0 -1.5103  Europe/Paris             7200  \n",
       "1 -1.5103  Europe/Paris             7200  \n",
       "2 -1.5103  Europe/Paris             7200  \n",
       "3 -1.5103  Europe/Paris             7200  \n",
       "4 -1.5103  Europe/Paris             7200  \n",
       "\n",
       "[5 rows x 32 columns]"
      ]
     },
     "execution_count": 74,
     "metadata": {},
     "output_type": "execute_result"
    }
   ],
   "source": [
    "weather.head()"
   ]
  },
  {
   "cell_type": "code",
   "execution_count": 75,
   "metadata": {},
   "outputs": [],
   "source": [
    "#Make some data conversion\n",
    "\n",
    "#convert Unix dt to datetime\n",
    "weather['dt'] = pd.to_datetime(weather['dt'], unit='s', origin='unix')\n",
    "weather['dt'] = weather['dt'].apply(lambda x : x.date())\n",
    "\n",
    "#convert lon, lat, rain and temperature to float\n",
    "weather['city_id'] = weather['city_id'].astype(int)\n",
    "weather['lat'] = weather['lat'].astype(float)\n",
    "weather['lon'] = weather['lon'].astype(float)\n",
    "weather['temp.day'] = weather['temp.day'].astype(float)\n",
    "weather['feels_like.day'] = weather['feels_like.day'].astype(float)\n",
    "\n",
    "\n",
    "cities['id'] = cities['id'].astype(int)\n",
    "cities['lat'] = cities['lat'].astype(float)\n",
    "cities['lon'] = cities['lon'].astype(float)\n",
    "weather['rain'] = weather['rain'].astype(float)\n",
    "\n",
    "hotels['score'] = hotels['score'].astype(int)"
   ]
  },
  {
   "cell_type": "code",
   "execution_count": 76,
   "metadata": {},
   "outputs": [
    {
     "name": "stdout",
     "output_type": "stream",
     "text": [
      "<class 'pandas.core.frame.DataFrame'>\n",
      "RangeIndex: 35 entries, 0 to 34\n",
      "Data columns (total 4 columns):\n",
      " #   Column  Non-Null Count  Dtype  \n",
      "---  ------  --------------  -----  \n",
      " 0   id      35 non-null     int64  \n",
      " 1   city    35 non-null     object \n",
      " 2   lat     35 non-null     float64\n",
      " 3   lon     35 non-null     float64\n",
      "dtypes: float64(2), int64(1), object(1)\n",
      "memory usage: 1.2+ KB\n"
     ]
    }
   ],
   "source": [
    "cities.info()"
   ]
  },
  {
   "cell_type": "code",
   "execution_count": 77,
   "metadata": {},
   "outputs": [],
   "source": [
    "#add primary key to weather \n",
    "weather.insert(0, 'id', range(1, 1+len(weather)))"
   ]
  },
  {
   "cell_type": "code",
   "execution_count": 78,
   "metadata": {},
   "outputs": [
    {
     "data": {
      "text/html": [
       "<div>\n",
       "<style scoped>\n",
       "    .dataframe tbody tr th:only-of-type {\n",
       "        vertical-align: middle;\n",
       "    }\n",
       "\n",
       "    .dataframe tbody tr th {\n",
       "        vertical-align: top;\n",
       "    }\n",
       "\n",
       "    .dataframe thead th {\n",
       "        text-align: right;\n",
       "    }\n",
       "</style>\n",
       "<table border=\"1\" class=\"dataframe\">\n",
       "  <thead>\n",
       "    <tr style=\"text-align: right;\">\n",
       "      <th></th>\n",
       "      <th>id</th>\n",
       "      <th>city_id</th>\n",
       "      <th>lat</th>\n",
       "      <th>lon</th>\n",
       "      <th>dt</th>\n",
       "      <th>temp.day</th>\n",
       "      <th>feels_like.day</th>\n",
       "      <th>rain</th>\n",
       "      <th>timezone</th>\n",
       "    </tr>\n",
       "  </thead>\n",
       "  <tbody>\n",
       "    <tr>\n",
       "      <th>0</th>\n",
       "      <td>1</td>\n",
       "      <td>1</td>\n",
       "      <td>48.6355</td>\n",
       "      <td>-1.5103</td>\n",
       "      <td>2021-10-19</td>\n",
       "      <td>21.02</td>\n",
       "      <td>20.85</td>\n",
       "      <td>0.00</td>\n",
       "      <td>Europe/Paris</td>\n",
       "    </tr>\n",
       "    <tr>\n",
       "      <th>1</th>\n",
       "      <td>2</td>\n",
       "      <td>1</td>\n",
       "      <td>48.6355</td>\n",
       "      <td>-1.5103</td>\n",
       "      <td>2021-10-20</td>\n",
       "      <td>18.83</td>\n",
       "      <td>18.73</td>\n",
       "      <td>5.27</td>\n",
       "      <td>Europe/Paris</td>\n",
       "    </tr>\n",
       "    <tr>\n",
       "      <th>2</th>\n",
       "      <td>3</td>\n",
       "      <td>1</td>\n",
       "      <td>48.6355</td>\n",
       "      <td>-1.5103</td>\n",
       "      <td>2021-10-21</td>\n",
       "      <td>13.06</td>\n",
       "      <td>12.43</td>\n",
       "      <td>8.96</td>\n",
       "      <td>Europe/Paris</td>\n",
       "    </tr>\n",
       "    <tr>\n",
       "      <th>3</th>\n",
       "      <td>4</td>\n",
       "      <td>1</td>\n",
       "      <td>48.6355</td>\n",
       "      <td>-1.5103</td>\n",
       "      <td>2021-10-22</td>\n",
       "      <td>13.99</td>\n",
       "      <td>12.88</td>\n",
       "      <td>0.13</td>\n",
       "      <td>Europe/Paris</td>\n",
       "    </tr>\n",
       "    <tr>\n",
       "      <th>4</th>\n",
       "      <td>5</td>\n",
       "      <td>1</td>\n",
       "      <td>48.6355</td>\n",
       "      <td>-1.5103</td>\n",
       "      <td>2021-10-23</td>\n",
       "      <td>13.95</td>\n",
       "      <td>12.81</td>\n",
       "      <td>0.00</td>\n",
       "      <td>Europe/Paris</td>\n",
       "    </tr>\n",
       "    <tr>\n",
       "      <th>...</th>\n",
       "      <td>...</td>\n",
       "      <td>...</td>\n",
       "      <td>...</td>\n",
       "      <td>...</td>\n",
       "      <td>...</td>\n",
       "      <td>...</td>\n",
       "      <td>...</td>\n",
       "      <td>...</td>\n",
       "      <td>...</td>\n",
       "    </tr>\n",
       "    <tr>\n",
       "      <th>275</th>\n",
       "      <td>276</td>\n",
       "      <td>35</td>\n",
       "      <td>46.1591</td>\n",
       "      <td>-1.1520</td>\n",
       "      <td>2021-10-22</td>\n",
       "      <td>12.97</td>\n",
       "      <td>11.39</td>\n",
       "      <td>0.00</td>\n",
       "      <td>Europe/Paris</td>\n",
       "    </tr>\n",
       "    <tr>\n",
       "      <th>276</th>\n",
       "      <td>277</td>\n",
       "      <td>35</td>\n",
       "      <td>46.1591</td>\n",
       "      <td>-1.1520</td>\n",
       "      <td>2021-10-23</td>\n",
       "      <td>14.26</td>\n",
       "      <td>12.97</td>\n",
       "      <td>0.00</td>\n",
       "      <td>Europe/Paris</td>\n",
       "    </tr>\n",
       "    <tr>\n",
       "      <th>277</th>\n",
       "      <td>278</td>\n",
       "      <td>35</td>\n",
       "      <td>46.1591</td>\n",
       "      <td>-1.1520</td>\n",
       "      <td>2021-10-24</td>\n",
       "      <td>16.39</td>\n",
       "      <td>15.86</td>\n",
       "      <td>1.69</td>\n",
       "      <td>Europe/Paris</td>\n",
       "    </tr>\n",
       "    <tr>\n",
       "      <th>278</th>\n",
       "      <td>279</td>\n",
       "      <td>35</td>\n",
       "      <td>46.1591</td>\n",
       "      <td>-1.1520</td>\n",
       "      <td>2021-10-25</td>\n",
       "      <td>16.38</td>\n",
       "      <td>15.72</td>\n",
       "      <td>2.74</td>\n",
       "      <td>Europe/Paris</td>\n",
       "    </tr>\n",
       "    <tr>\n",
       "      <th>279</th>\n",
       "      <td>280</td>\n",
       "      <td>35</td>\n",
       "      <td>46.1591</td>\n",
       "      <td>-1.1520</td>\n",
       "      <td>2021-10-26</td>\n",
       "      <td>15.14</td>\n",
       "      <td>14.41</td>\n",
       "      <td>0.12</td>\n",
       "      <td>Europe/Paris</td>\n",
       "    </tr>\n",
       "  </tbody>\n",
       "</table>\n",
       "<p>280 rows × 9 columns</p>\n",
       "</div>"
      ],
      "text/plain": [
       "      id  city_id      lat     lon          dt  temp.day  feels_like.day  \\\n",
       "0      1        1  48.6355 -1.5103  2021-10-19     21.02           20.85   \n",
       "1      2        1  48.6355 -1.5103  2021-10-20     18.83           18.73   \n",
       "2      3        1  48.6355 -1.5103  2021-10-21     13.06           12.43   \n",
       "3      4        1  48.6355 -1.5103  2021-10-22     13.99           12.88   \n",
       "4      5        1  48.6355 -1.5103  2021-10-23     13.95           12.81   \n",
       "..   ...      ...      ...     ...         ...       ...             ...   \n",
       "275  276       35  46.1591 -1.1520  2021-10-22     12.97           11.39   \n",
       "276  277       35  46.1591 -1.1520  2021-10-23     14.26           12.97   \n",
       "277  278       35  46.1591 -1.1520  2021-10-24     16.39           15.86   \n",
       "278  279       35  46.1591 -1.1520  2021-10-25     16.38           15.72   \n",
       "279  280       35  46.1591 -1.1520  2021-10-26     15.14           14.41   \n",
       "\n",
       "     rain      timezone  \n",
       "0    0.00  Europe/Paris  \n",
       "1    5.27  Europe/Paris  \n",
       "2    8.96  Europe/Paris  \n",
       "3    0.13  Europe/Paris  \n",
       "4    0.00  Europe/Paris  \n",
       "..    ...           ...  \n",
       "275  0.00  Europe/Paris  \n",
       "276  0.00  Europe/Paris  \n",
       "277  1.69  Europe/Paris  \n",
       "278  2.74  Europe/Paris  \n",
       "279  0.12  Europe/Paris  \n",
       "\n",
       "[280 rows x 9 columns]"
      ]
     },
     "execution_count": 78,
     "metadata": {},
     "output_type": "execute_result"
    }
   ],
   "source": [
    "weather[['id','city_id','lat','lon', 'dt', 'temp.day', 'feels_like.day', 'rain', 'timezone']]"
   ]
  },
  {
   "cell_type": "code",
   "execution_count": 79,
   "metadata": {},
   "outputs": [
    {
     "name": "stdout",
     "output_type": "stream",
     "text": [
      "<class 'pandas.core.frame.DataFrame'>\n",
      "RangeIndex: 280 entries, 0 to 279\n",
      "Data columns (total 33 columns):\n",
      " #   Column            Non-Null Count  Dtype  \n",
      "---  ------            --------------  -----  \n",
      " 0   id                280 non-null    int64  \n",
      " 1   dt                280 non-null    object \n",
      " 2   sunrise           280 non-null    int64  \n",
      " 3   sunset            280 non-null    int64  \n",
      " 4   moonrise          280 non-null    int64  \n",
      " 5   moonset           280 non-null    int64  \n",
      " 6   moon_phase        280 non-null    float64\n",
      " 7   pressure          280 non-null    int64  \n",
      " 8   humidity          280 non-null    int64  \n",
      " 9   dew_point         280 non-null    float64\n",
      " 10  wind_speed        280 non-null    float64\n",
      " 11  wind_deg          280 non-null    int64  \n",
      " 12  wind_gust         280 non-null    float64\n",
      " 13  weather           280 non-null    object \n",
      " 14  clouds            280 non-null    int64  \n",
      " 15  pop               280 non-null    float64\n",
      " 16  uvi               280 non-null    float64\n",
      " 17  temp.day          280 non-null    float64\n",
      " 18  temp.min          280 non-null    float64\n",
      " 19  temp.max          280 non-null    float64\n",
      " 20  temp.night        280 non-null    float64\n",
      " 21  temp.eve          280 non-null    float64\n",
      " 22  temp.morn         280 non-null    float64\n",
      " 23  feels_like.day    280 non-null    float64\n",
      " 24  feels_like.night  280 non-null    float64\n",
      " 25  feels_like.eve    280 non-null    float64\n",
      " 26  feels_like.morn   280 non-null    float64\n",
      " 27  rain              280 non-null    float64\n",
      " 28  city_id           280 non-null    int64  \n",
      " 29  lat               280 non-null    float64\n",
      " 30  lon               280 non-null    float64\n",
      " 31  timezone          280 non-null    object \n",
      " 32  timezone_offset   280 non-null    object \n",
      "dtypes: float64(19), int64(10), object(4)\n",
      "memory usage: 72.3+ KB\n"
     ]
    }
   ],
   "source": [
    "weather.info()"
   ]
  },
  {
   "cell_type": "code",
   "execution_count": null,
   "metadata": {},
   "outputs": [],
   "source": []
  },
  {
   "cell_type": "code",
   "execution_count": 80,
   "metadata": {},
   "outputs": [],
   "source": [
    "#add primary key to hotels\n",
    "hotels.insert(0, 'id', range(1, 1+len(hotels)))\n"
   ]
  },
  {
   "cell_type": "code",
   "execution_count": 81,
   "metadata": {},
   "outputs": [
    {
     "name": "stdout",
     "output_type": "stream",
     "text": [
      "<class 'pandas.core.frame.DataFrame'>\n",
      "RangeIndex: 875 entries, 0 to 874\n",
      "Data columns (total 8 columns):\n",
      " #   Column       Non-Null Count  Dtype  \n",
      "---  ------       --------------  -----  \n",
      " 0   id           875 non-null    int64  \n",
      " 1   name         875 non-null    object \n",
      " 2   url          875 non-null    object \n",
      " 3   description  875 non-null    object \n",
      " 4   lat          875 non-null    float64\n",
      " 5   lon          875 non-null    float64\n",
      " 6   score        875 non-null    int64  \n",
      " 7   city_id      875 non-null    int64  \n",
      "dtypes: float64(2), int64(3), object(3)\n",
      "memory usage: 54.8+ KB\n"
     ]
    }
   ],
   "source": [
    "hotels.info()"
   ]
  },
  {
   "cell_type": "code",
   "execution_count": null,
   "metadata": {},
   "outputs": [],
   "source": []
  },
  {
   "cell_type": "code",
   "execution_count": 82,
   "metadata": {},
   "outputs": [
    {
     "data": {
      "text/html": [
       "<div>\n",
       "<style scoped>\n",
       "    .dataframe tbody tr th:only-of-type {\n",
       "        vertical-align: middle;\n",
       "    }\n",
       "\n",
       "    .dataframe tbody tr th {\n",
       "        vertical-align: top;\n",
       "    }\n",
       "\n",
       "    .dataframe thead th {\n",
       "        text-align: right;\n",
       "    }\n",
       "</style>\n",
       "<table border=\"1\" class=\"dataframe\">\n",
       "  <thead>\n",
       "    <tr style=\"text-align: right;\">\n",
       "      <th></th>\n",
       "      <th>id</th>\n",
       "      <th>name</th>\n",
       "      <th>url</th>\n",
       "      <th>description</th>\n",
       "      <th>lat</th>\n",
       "      <th>lon</th>\n",
       "      <th>score</th>\n",
       "      <th>city_id</th>\n",
       "    </tr>\n",
       "  </thead>\n",
       "  <tbody>\n",
       "    <tr>\n",
       "      <th>0</th>\n",
       "      <td>1</td>\n",
       "      <td>Hôtel Vert</td>\n",
       "      <td>https://www.booking.com/hotel/fr/vert.en-gb.ht...</td>\n",
       "      <td>Hotel Vert offers pastel-coloured rooms with a...</td>\n",
       "      <td>48.614700</td>\n",
       "      <td>-1.509617</td>\n",
       "      <td>2</td>\n",
       "      <td>1</td>\n",
       "    </tr>\n",
       "    <tr>\n",
       "      <th>1</th>\n",
       "      <td>2</td>\n",
       "      <td>Les Terrasses Poulard</td>\n",
       "      <td>https://www.booking.com/hotel/fr/les-terrasses...</td>\n",
       "      <td>Composed of 2 different buildings, Les Terrass...</td>\n",
       "      <td>48.635349</td>\n",
       "      <td>-1.510379</td>\n",
       "      <td>3</td>\n",
       "      <td>1</td>\n",
       "    </tr>\n",
       "    <tr>\n",
       "      <th>2</th>\n",
       "      <td>3</td>\n",
       "      <td>Mercure Mont Saint Michel</td>\n",
       "      <td>https://www.booking.com/hotel/fr/mont-saint-mi...</td>\n",
       "      <td>This Mercure is situated in parkland just 2 km...</td>\n",
       "      <td>48.614247</td>\n",
       "      <td>-1.510545</td>\n",
       "      <td>4</td>\n",
       "      <td>1</td>\n",
       "    </tr>\n",
       "    <tr>\n",
       "      <th>3</th>\n",
       "      <td>4</td>\n",
       "      <td>Le Mouton Blanc</td>\n",
       "      <td>https://www.booking.com/hotel/fr/le-mouton-bla...</td>\n",
       "      <td>At the foot of the abbey, the Mouton Blanc Hot...</td>\n",
       "      <td>48.636023</td>\n",
       "      <td>-1.509896</td>\n",
       "      <td>3</td>\n",
       "      <td>1</td>\n",
       "    </tr>\n",
       "    <tr>\n",
       "      <th>4</th>\n",
       "      <td>5</td>\n",
       "      <td>La Vieille Auberge</td>\n",
       "      <td>https://www.booking.com/hotel/fr/la-vieille-au...</td>\n",
       "      <td>La Vieille Auberge is located in the medieval ...</td>\n",
       "      <td>48.636063</td>\n",
       "      <td>-1.511457</td>\n",
       "      <td>2</td>\n",
       "      <td>1</td>\n",
       "    </tr>\n",
       "  </tbody>\n",
       "</table>\n",
       "</div>"
      ],
      "text/plain": [
       "   id                       name  \\\n",
       "0   1                 Hôtel Vert   \n",
       "1   2      Les Terrasses Poulard   \n",
       "2   3  Mercure Mont Saint Michel   \n",
       "3   4            Le Mouton Blanc   \n",
       "4   5         La Vieille Auberge   \n",
       "\n",
       "                                                 url  \\\n",
       "0  https://www.booking.com/hotel/fr/vert.en-gb.ht...   \n",
       "1  https://www.booking.com/hotel/fr/les-terrasses...   \n",
       "2  https://www.booking.com/hotel/fr/mont-saint-mi...   \n",
       "3  https://www.booking.com/hotel/fr/le-mouton-bla...   \n",
       "4  https://www.booking.com/hotel/fr/la-vieille-au...   \n",
       "\n",
       "                                         description        lat       lon  \\\n",
       "0  Hotel Vert offers pastel-coloured rooms with a...  48.614700 -1.509617   \n",
       "1  Composed of 2 different buildings, Les Terrass...  48.635349 -1.510379   \n",
       "2  This Mercure is situated in parkland just 2 km...  48.614247 -1.510545   \n",
       "3  At the foot of the abbey, the Mouton Blanc Hot...  48.636023 -1.509896   \n",
       "4  La Vieille Auberge is located in the medieval ...  48.636063 -1.511457   \n",
       "\n",
       "   score  city_id  \n",
       "0      2        1  \n",
       "1      3        1  \n",
       "2      4        1  \n",
       "3      3        1  \n",
       "4      2        1  "
      ]
     },
     "execution_count": 82,
     "metadata": {},
     "output_type": "execute_result"
    }
   ],
   "source": [
    "hotels.head()"
   ]
  },
  {
   "cell_type": "code",
   "execution_count": null,
   "metadata": {},
   "outputs": [],
   "source": []
  },
  {
   "cell_type": "code",
   "execution_count": 83,
   "metadata": {},
   "outputs": [],
   "source": [
    "#Perform aggration in order to help decision\n",
    "#We will take feels_like.day and rain to take decision\n",
    "#For us, nice weather is : high feels like temperature and no rain\n",
    "#Then we will take the mean of feels_like.day and sum of rain during the next 7 days\n",
    "#We add another column score with the following rule : \n",
    "     #1 temperature gives 1 in score and 1 rain give -1 in score\n",
    "     # doing this score = feels_like.day.mean - rain.sum"
   ]
  },
  {
   "cell_type": "code",
   "execution_count": 84,
   "metadata": {},
   "outputs": [],
   "source": [
    "#add feels_like.day (mean of daily feeling like temperature for each city during next 7 days) column in cities_weather dataframe"
   ]
  },
  {
   "cell_type": "code",
   "execution_count": 85,
   "metadata": {},
   "outputs": [],
   "source": [
    "cities_weather = cities.merge(weather.groupby(\"city_id\", as_index=False)[\"feels_like.day\"].mean(),\n",
    "                       left_on = ['id'], right_on = ['city_id'])"
   ]
  },
  {
   "cell_type": "code",
   "execution_count": 86,
   "metadata": {},
   "outputs": [],
   "source": [
    "cities_weather.drop('city_id', inplace=True, axis=1)"
   ]
  },
  {
   "cell_type": "code",
   "execution_count": 87,
   "metadata": {},
   "outputs": [
    {
     "data": {
      "text/html": [
       "<div>\n",
       "<style scoped>\n",
       "    .dataframe tbody tr th:only-of-type {\n",
       "        vertical-align: middle;\n",
       "    }\n",
       "\n",
       "    .dataframe tbody tr th {\n",
       "        vertical-align: top;\n",
       "    }\n",
       "\n",
       "    .dataframe thead th {\n",
       "        text-align: right;\n",
       "    }\n",
       "</style>\n",
       "<table border=\"1\" class=\"dataframe\">\n",
       "  <thead>\n",
       "    <tr style=\"text-align: right;\">\n",
       "      <th></th>\n",
       "      <th>id</th>\n",
       "      <th>city</th>\n",
       "      <th>lat</th>\n",
       "      <th>lon</th>\n",
       "      <th>feels_like.day</th>\n",
       "    </tr>\n",
       "  </thead>\n",
       "  <tbody>\n",
       "    <tr>\n",
       "      <th>0</th>\n",
       "      <td>1</td>\n",
       "      <td>Mont Saint Michel</td>\n",
       "      <td>48.635523</td>\n",
       "      <td>-1.510257</td>\n",
       "      <td>15.21875</td>\n",
       "    </tr>\n",
       "    <tr>\n",
       "      <th>1</th>\n",
       "      <td>2</td>\n",
       "      <td>St Malo</td>\n",
       "      <td>48.649518</td>\n",
       "      <td>-2.026041</td>\n",
       "      <td>15.34000</td>\n",
       "    </tr>\n",
       "    <tr>\n",
       "      <th>2</th>\n",
       "      <td>3</td>\n",
       "      <td>Bayeux</td>\n",
       "      <td>49.276462</td>\n",
       "      <td>-0.702474</td>\n",
       "      <td>15.29250</td>\n",
       "    </tr>\n",
       "    <tr>\n",
       "      <th>3</th>\n",
       "      <td>4</td>\n",
       "      <td>Le Havre</td>\n",
       "      <td>49.493898</td>\n",
       "      <td>0.107973</td>\n",
       "      <td>14.47250</td>\n",
       "    </tr>\n",
       "    <tr>\n",
       "      <th>4</th>\n",
       "      <td>5</td>\n",
       "      <td>Rouen</td>\n",
       "      <td>49.440459</td>\n",
       "      <td>1.093966</td>\n",
       "      <td>14.37000</td>\n",
       "    </tr>\n",
       "    <tr>\n",
       "      <th>5</th>\n",
       "      <td>6</td>\n",
       "      <td>Paris</td>\n",
       "      <td>48.856697</td>\n",
       "      <td>2.351462</td>\n",
       "      <td>14.66750</td>\n",
       "    </tr>\n",
       "    <tr>\n",
       "      <th>6</th>\n",
       "      <td>7</td>\n",
       "      <td>Amiens</td>\n",
       "      <td>49.894171</td>\n",
       "      <td>2.295695</td>\n",
       "      <td>13.59875</td>\n",
       "    </tr>\n",
       "    <tr>\n",
       "      <th>7</th>\n",
       "      <td>8</td>\n",
       "      <td>Lille</td>\n",
       "      <td>50.636565</td>\n",
       "      <td>3.063528</td>\n",
       "      <td>13.94125</td>\n",
       "    </tr>\n",
       "    <tr>\n",
       "      <th>8</th>\n",
       "      <td>9</td>\n",
       "      <td>Strasbourg</td>\n",
       "      <td>48.584614</td>\n",
       "      <td>7.750713</td>\n",
       "      <td>12.52500</td>\n",
       "    </tr>\n",
       "    <tr>\n",
       "      <th>9</th>\n",
       "      <td>10</td>\n",
       "      <td>Chateau du Haut Koenigsbourg</td>\n",
       "      <td>48.249490</td>\n",
       "      <td>7.344296</td>\n",
       "      <td>10.52875</td>\n",
       "    </tr>\n",
       "    <tr>\n",
       "      <th>10</th>\n",
       "      <td>11</td>\n",
       "      <td>Colmar</td>\n",
       "      <td>48.077752</td>\n",
       "      <td>7.357964</td>\n",
       "      <td>13.49500</td>\n",
       "    </tr>\n",
       "    <tr>\n",
       "      <th>11</th>\n",
       "      <td>12</td>\n",
       "      <td>Eguisheim</td>\n",
       "      <td>48.044797</td>\n",
       "      <td>7.307962</td>\n",
       "      <td>13.67000</td>\n",
       "    </tr>\n",
       "    <tr>\n",
       "      <th>12</th>\n",
       "      <td>13</td>\n",
       "      <td>Besancon</td>\n",
       "      <td>47.238022</td>\n",
       "      <td>6.024362</td>\n",
       "      <td>12.79750</td>\n",
       "    </tr>\n",
       "    <tr>\n",
       "      <th>13</th>\n",
       "      <td>14</td>\n",
       "      <td>Dijon</td>\n",
       "      <td>47.321581</td>\n",
       "      <td>5.041470</td>\n",
       "      <td>12.90125</td>\n",
       "    </tr>\n",
       "    <tr>\n",
       "      <th>14</th>\n",
       "      <td>15</td>\n",
       "      <td>Annecy</td>\n",
       "      <td>45.899235</td>\n",
       "      <td>6.128885</td>\n",
       "      <td>13.72125</td>\n",
       "    </tr>\n",
       "    <tr>\n",
       "      <th>15</th>\n",
       "      <td>16</td>\n",
       "      <td>Grenoble</td>\n",
       "      <td>45.187560</td>\n",
       "      <td>5.735782</td>\n",
       "      <td>15.74875</td>\n",
       "    </tr>\n",
       "    <tr>\n",
       "      <th>16</th>\n",
       "      <td>17</td>\n",
       "      <td>Lyon</td>\n",
       "      <td>45.757814</td>\n",
       "      <td>4.832011</td>\n",
       "      <td>14.58500</td>\n",
       "    </tr>\n",
       "    <tr>\n",
       "      <th>17</th>\n",
       "      <td>18</td>\n",
       "      <td>Verdon Gorge</td>\n",
       "      <td>43.740335</td>\n",
       "      <td>6.379998</td>\n",
       "      <td>16.48375</td>\n",
       "    </tr>\n",
       "    <tr>\n",
       "      <th>18</th>\n",
       "      <td>19</td>\n",
       "      <td>Bormes les Mimosas</td>\n",
       "      <td>43.150697</td>\n",
       "      <td>6.341928</td>\n",
       "      <td>18.50375</td>\n",
       "    </tr>\n",
       "    <tr>\n",
       "      <th>19</th>\n",
       "      <td>20</td>\n",
       "      <td>Cassis</td>\n",
       "      <td>43.214036</td>\n",
       "      <td>5.539632</td>\n",
       "      <td>18.27750</td>\n",
       "    </tr>\n",
       "    <tr>\n",
       "      <th>20</th>\n",
       "      <td>21</td>\n",
       "      <td>Marseille</td>\n",
       "      <td>43.296174</td>\n",
       "      <td>5.369953</td>\n",
       "      <td>17.89875</td>\n",
       "    </tr>\n",
       "    <tr>\n",
       "      <th>21</th>\n",
       "      <td>22</td>\n",
       "      <td>Aix en Provence</td>\n",
       "      <td>43.529842</td>\n",
       "      <td>5.447474</td>\n",
       "      <td>17.36375</td>\n",
       "    </tr>\n",
       "    <tr>\n",
       "      <th>22</th>\n",
       "      <td>23</td>\n",
       "      <td>Avignon</td>\n",
       "      <td>43.949249</td>\n",
       "      <td>4.805901</td>\n",
       "      <td>16.93625</td>\n",
       "    </tr>\n",
       "    <tr>\n",
       "      <th>23</th>\n",
       "      <td>24</td>\n",
       "      <td>Uzès</td>\n",
       "      <td>44.012128</td>\n",
       "      <td>4.419672</td>\n",
       "      <td>16.59250</td>\n",
       "    </tr>\n",
       "    <tr>\n",
       "      <th>24</th>\n",
       "      <td>25</td>\n",
       "      <td>Nímes</td>\n",
       "      <td>43.837425</td>\n",
       "      <td>4.360069</td>\n",
       "      <td>17.34750</td>\n",
       "    </tr>\n",
       "    <tr>\n",
       "      <th>25</th>\n",
       "      <td>26</td>\n",
       "      <td>Aigues Mortes</td>\n",
       "      <td>43.565823</td>\n",
       "      <td>4.191284</td>\n",
       "      <td>17.36000</td>\n",
       "    </tr>\n",
       "    <tr>\n",
       "      <th>26</th>\n",
       "      <td>27</td>\n",
       "      <td>Saintes Maries de la mer</td>\n",
       "      <td>43.452277</td>\n",
       "      <td>4.428717</td>\n",
       "      <td>17.16750</td>\n",
       "    </tr>\n",
       "    <tr>\n",
       "      <th>27</th>\n",
       "      <td>28</td>\n",
       "      <td>Collioure</td>\n",
       "      <td>42.525050</td>\n",
       "      <td>3.083155</td>\n",
       "      <td>18.87000</td>\n",
       "    </tr>\n",
       "    <tr>\n",
       "      <th>28</th>\n",
       "      <td>29</td>\n",
       "      <td>Carcassonne</td>\n",
       "      <td>43.213036</td>\n",
       "      <td>2.349107</td>\n",
       "      <td>16.57750</td>\n",
       "    </tr>\n",
       "    <tr>\n",
       "      <th>29</th>\n",
       "      <td>30</td>\n",
       "      <td>Ariege</td>\n",
       "      <td>42.945537</td>\n",
       "      <td>1.406554</td>\n",
       "      <td>10.74250</td>\n",
       "    </tr>\n",
       "    <tr>\n",
       "      <th>30</th>\n",
       "      <td>31</td>\n",
       "      <td>Toulouse</td>\n",
       "      <td>43.604462</td>\n",
       "      <td>1.444247</td>\n",
       "      <td>16.14875</td>\n",
       "    </tr>\n",
       "    <tr>\n",
       "      <th>31</th>\n",
       "      <td>32</td>\n",
       "      <td>Montauban</td>\n",
       "      <td>44.017584</td>\n",
       "      <td>1.354999</td>\n",
       "      <td>16.62625</td>\n",
       "    </tr>\n",
       "    <tr>\n",
       "      <th>32</th>\n",
       "      <td>33</td>\n",
       "      <td>Biarritz</td>\n",
       "      <td>43.471144</td>\n",
       "      <td>-1.552727</td>\n",
       "      <td>16.52500</td>\n",
       "    </tr>\n",
       "    <tr>\n",
       "      <th>33</th>\n",
       "      <td>34</td>\n",
       "      <td>Bayonne</td>\n",
       "      <td>43.493338</td>\n",
       "      <td>-1.475099</td>\n",
       "      <td>17.09875</td>\n",
       "    </tr>\n",
       "    <tr>\n",
       "      <th>34</th>\n",
       "      <td>35</td>\n",
       "      <td>La Rochelle</td>\n",
       "      <td>46.159113</td>\n",
       "      <td>-1.152043</td>\n",
       "      <td>15.70625</td>\n",
       "    </tr>\n",
       "  </tbody>\n",
       "</table>\n",
       "</div>"
      ],
      "text/plain": [
       "    id                          city        lat       lon  feels_like.day\n",
       "0    1             Mont Saint Michel  48.635523 -1.510257        15.21875\n",
       "1    2                       St Malo  48.649518 -2.026041        15.34000\n",
       "2    3                        Bayeux  49.276462 -0.702474        15.29250\n",
       "3    4                      Le Havre  49.493898  0.107973        14.47250\n",
       "4    5                         Rouen  49.440459  1.093966        14.37000\n",
       "5    6                         Paris  48.856697  2.351462        14.66750\n",
       "6    7                        Amiens  49.894171  2.295695        13.59875\n",
       "7    8                         Lille  50.636565  3.063528        13.94125\n",
       "8    9                    Strasbourg  48.584614  7.750713        12.52500\n",
       "9   10  Chateau du Haut Koenigsbourg  48.249490  7.344296        10.52875\n",
       "10  11                        Colmar  48.077752  7.357964        13.49500\n",
       "11  12                     Eguisheim  48.044797  7.307962        13.67000\n",
       "12  13                      Besancon  47.238022  6.024362        12.79750\n",
       "13  14                         Dijon  47.321581  5.041470        12.90125\n",
       "14  15                        Annecy  45.899235  6.128885        13.72125\n",
       "15  16                      Grenoble  45.187560  5.735782        15.74875\n",
       "16  17                          Lyon  45.757814  4.832011        14.58500\n",
       "17  18                  Verdon Gorge  43.740335  6.379998        16.48375\n",
       "18  19            Bormes les Mimosas  43.150697  6.341928        18.50375\n",
       "19  20                        Cassis  43.214036  5.539632        18.27750\n",
       "20  21                     Marseille  43.296174  5.369953        17.89875\n",
       "21  22               Aix en Provence  43.529842  5.447474        17.36375\n",
       "22  23                       Avignon  43.949249  4.805901        16.93625\n",
       "23  24                          Uzès  44.012128  4.419672        16.59250\n",
       "24  25                         Nímes  43.837425  4.360069        17.34750\n",
       "25  26                 Aigues Mortes  43.565823  4.191284        17.36000\n",
       "26  27      Saintes Maries de la mer  43.452277  4.428717        17.16750\n",
       "27  28                     Collioure  42.525050  3.083155        18.87000\n",
       "28  29                   Carcassonne  43.213036  2.349107        16.57750\n",
       "29  30                        Ariege  42.945537  1.406554        10.74250\n",
       "30  31                      Toulouse  43.604462  1.444247        16.14875\n",
       "31  32                     Montauban  44.017584  1.354999        16.62625\n",
       "32  33                      Biarritz  43.471144 -1.552727        16.52500\n",
       "33  34                       Bayonne  43.493338 -1.475099        17.09875\n",
       "34  35                   La Rochelle  46.159113 -1.152043        15.70625"
      ]
     },
     "execution_count": 87,
     "metadata": {},
     "output_type": "execute_result"
    }
   ],
   "source": [
    "cities_weather"
   ]
  },
  {
   "cell_type": "code",
   "execution_count": 88,
   "metadata": {},
   "outputs": [],
   "source": [
    "#add rain (sum of rain for each city during the next 7 days) column in cities_weather dataframe"
   ]
  },
  {
   "cell_type": "code",
   "execution_count": 89,
   "metadata": {},
   "outputs": [],
   "source": [
    "cities_weather = cities_weather.merge(weather.groupby(\"city_id\", as_index=False)[\"rain\"].sum(),\n",
    "                       left_on = ['id'], right_on = ['city_id'])"
   ]
  },
  {
   "cell_type": "code",
   "execution_count": null,
   "metadata": {},
   "outputs": [],
   "source": []
  },
  {
   "cell_type": "code",
   "execution_count": 90,
   "metadata": {},
   "outputs": [],
   "source": [
    "cities_weather.drop('city_id', inplace=True, axis=1)"
   ]
  },
  {
   "cell_type": "code",
   "execution_count": 91,
   "metadata": {},
   "outputs": [
    {
     "data": {
      "text/html": [
       "<div>\n",
       "<style scoped>\n",
       "    .dataframe tbody tr th:only-of-type {\n",
       "        vertical-align: middle;\n",
       "    }\n",
       "\n",
       "    .dataframe tbody tr th {\n",
       "        vertical-align: top;\n",
       "    }\n",
       "\n",
       "    .dataframe thead th {\n",
       "        text-align: right;\n",
       "    }\n",
       "</style>\n",
       "<table border=\"1\" class=\"dataframe\">\n",
       "  <thead>\n",
       "    <tr style=\"text-align: right;\">\n",
       "      <th></th>\n",
       "      <th>id</th>\n",
       "      <th>city</th>\n",
       "      <th>lat</th>\n",
       "      <th>lon</th>\n",
       "      <th>feels_like.day</th>\n",
       "      <th>rain</th>\n",
       "    </tr>\n",
       "  </thead>\n",
       "  <tbody>\n",
       "    <tr>\n",
       "      <th>0</th>\n",
       "      <td>1</td>\n",
       "      <td>Mont Saint Michel</td>\n",
       "      <td>48.635523</td>\n",
       "      <td>-1.510257</td>\n",
       "      <td>15.21875</td>\n",
       "      <td>16.35</td>\n",
       "    </tr>\n",
       "    <tr>\n",
       "      <th>1</th>\n",
       "      <td>2</td>\n",
       "      <td>St Malo</td>\n",
       "      <td>48.649518</td>\n",
       "      <td>-2.026041</td>\n",
       "      <td>15.34000</td>\n",
       "      <td>15.29</td>\n",
       "    </tr>\n",
       "    <tr>\n",
       "      <th>2</th>\n",
       "      <td>3</td>\n",
       "      <td>Bayeux</td>\n",
       "      <td>49.276462</td>\n",
       "      <td>-0.702474</td>\n",
       "      <td>15.29250</td>\n",
       "      <td>13.43</td>\n",
       "    </tr>\n",
       "    <tr>\n",
       "      <th>3</th>\n",
       "      <td>4</td>\n",
       "      <td>Le Havre</td>\n",
       "      <td>49.493898</td>\n",
       "      <td>0.107973</td>\n",
       "      <td>14.47250</td>\n",
       "      <td>17.90</td>\n",
       "    </tr>\n",
       "    <tr>\n",
       "      <th>4</th>\n",
       "      <td>5</td>\n",
       "      <td>Rouen</td>\n",
       "      <td>49.440459</td>\n",
       "      <td>1.093966</td>\n",
       "      <td>14.37000</td>\n",
       "      <td>13.18</td>\n",
       "    </tr>\n",
       "    <tr>\n",
       "      <th>5</th>\n",
       "      <td>6</td>\n",
       "      <td>Paris</td>\n",
       "      <td>48.856697</td>\n",
       "      <td>2.351462</td>\n",
       "      <td>14.66750</td>\n",
       "      <td>14.50</td>\n",
       "    </tr>\n",
       "    <tr>\n",
       "      <th>6</th>\n",
       "      <td>7</td>\n",
       "      <td>Amiens</td>\n",
       "      <td>49.894171</td>\n",
       "      <td>2.295695</td>\n",
       "      <td>13.59875</td>\n",
       "      <td>22.84</td>\n",
       "    </tr>\n",
       "    <tr>\n",
       "      <th>7</th>\n",
       "      <td>8</td>\n",
       "      <td>Lille</td>\n",
       "      <td>50.636565</td>\n",
       "      <td>3.063528</td>\n",
       "      <td>13.94125</td>\n",
       "      <td>16.39</td>\n",
       "    </tr>\n",
       "    <tr>\n",
       "      <th>8</th>\n",
       "      <td>9</td>\n",
       "      <td>Strasbourg</td>\n",
       "      <td>48.584614</td>\n",
       "      <td>7.750713</td>\n",
       "      <td>12.52500</td>\n",
       "      <td>11.66</td>\n",
       "    </tr>\n",
       "    <tr>\n",
       "      <th>9</th>\n",
       "      <td>10</td>\n",
       "      <td>Chateau du Haut Koenigsbourg</td>\n",
       "      <td>48.249490</td>\n",
       "      <td>7.344296</td>\n",
       "      <td>10.52875</td>\n",
       "      <td>11.84</td>\n",
       "    </tr>\n",
       "    <tr>\n",
       "      <th>10</th>\n",
       "      <td>11</td>\n",
       "      <td>Colmar</td>\n",
       "      <td>48.077752</td>\n",
       "      <td>7.357964</td>\n",
       "      <td>13.49500</td>\n",
       "      <td>9.57</td>\n",
       "    </tr>\n",
       "    <tr>\n",
       "      <th>11</th>\n",
       "      <td>12</td>\n",
       "      <td>Eguisheim</td>\n",
       "      <td>48.044797</td>\n",
       "      <td>7.307962</td>\n",
       "      <td>13.67000</td>\n",
       "      <td>10.25</td>\n",
       "    </tr>\n",
       "    <tr>\n",
       "      <th>12</th>\n",
       "      <td>13</td>\n",
       "      <td>Besancon</td>\n",
       "      <td>47.238022</td>\n",
       "      <td>6.024362</td>\n",
       "      <td>12.79750</td>\n",
       "      <td>12.79</td>\n",
       "    </tr>\n",
       "    <tr>\n",
       "      <th>13</th>\n",
       "      <td>14</td>\n",
       "      <td>Dijon</td>\n",
       "      <td>47.321581</td>\n",
       "      <td>5.041470</td>\n",
       "      <td>12.90125</td>\n",
       "      <td>10.95</td>\n",
       "    </tr>\n",
       "    <tr>\n",
       "      <th>14</th>\n",
       "      <td>15</td>\n",
       "      <td>Annecy</td>\n",
       "      <td>45.899235</td>\n",
       "      <td>6.128885</td>\n",
       "      <td>13.72125</td>\n",
       "      <td>8.58</td>\n",
       "    </tr>\n",
       "    <tr>\n",
       "      <th>15</th>\n",
       "      <td>16</td>\n",
       "      <td>Grenoble</td>\n",
       "      <td>45.187560</td>\n",
       "      <td>5.735782</td>\n",
       "      <td>15.74875</td>\n",
       "      <td>3.01</td>\n",
       "    </tr>\n",
       "    <tr>\n",
       "      <th>16</th>\n",
       "      <td>17</td>\n",
       "      <td>Lyon</td>\n",
       "      <td>45.757814</td>\n",
       "      <td>4.832011</td>\n",
       "      <td>14.58500</td>\n",
       "      <td>2.20</td>\n",
       "    </tr>\n",
       "    <tr>\n",
       "      <th>17</th>\n",
       "      <td>18</td>\n",
       "      <td>Verdon Gorge</td>\n",
       "      <td>43.740335</td>\n",
       "      <td>6.379998</td>\n",
       "      <td>16.48375</td>\n",
       "      <td>0.00</td>\n",
       "    </tr>\n",
       "    <tr>\n",
       "      <th>18</th>\n",
       "      <td>19</td>\n",
       "      <td>Bormes les Mimosas</td>\n",
       "      <td>43.150697</td>\n",
       "      <td>6.341928</td>\n",
       "      <td>18.50375</td>\n",
       "      <td>1.91</td>\n",
       "    </tr>\n",
       "    <tr>\n",
       "      <th>19</th>\n",
       "      <td>20</td>\n",
       "      <td>Cassis</td>\n",
       "      <td>43.214036</td>\n",
       "      <td>5.539632</td>\n",
       "      <td>18.27750</td>\n",
       "      <td>1.31</td>\n",
       "    </tr>\n",
       "    <tr>\n",
       "      <th>20</th>\n",
       "      <td>21</td>\n",
       "      <td>Marseille</td>\n",
       "      <td>43.296174</td>\n",
       "      <td>5.369953</td>\n",
       "      <td>17.89875</td>\n",
       "      <td>0.86</td>\n",
       "    </tr>\n",
       "    <tr>\n",
       "      <th>21</th>\n",
       "      <td>22</td>\n",
       "      <td>Aix en Provence</td>\n",
       "      <td>43.529842</td>\n",
       "      <td>5.447474</td>\n",
       "      <td>17.36375</td>\n",
       "      <td>0.00</td>\n",
       "    </tr>\n",
       "    <tr>\n",
       "      <th>22</th>\n",
       "      <td>23</td>\n",
       "      <td>Avignon</td>\n",
       "      <td>43.949249</td>\n",
       "      <td>4.805901</td>\n",
       "      <td>16.93625</td>\n",
       "      <td>1.24</td>\n",
       "    </tr>\n",
       "    <tr>\n",
       "      <th>23</th>\n",
       "      <td>24</td>\n",
       "      <td>Uzès</td>\n",
       "      <td>44.012128</td>\n",
       "      <td>4.419672</td>\n",
       "      <td>16.59250</td>\n",
       "      <td>4.64</td>\n",
       "    </tr>\n",
       "    <tr>\n",
       "      <th>24</th>\n",
       "      <td>25</td>\n",
       "      <td>Nímes</td>\n",
       "      <td>43.837425</td>\n",
       "      <td>4.360069</td>\n",
       "      <td>17.34750</td>\n",
       "      <td>6.05</td>\n",
       "    </tr>\n",
       "    <tr>\n",
       "      <th>25</th>\n",
       "      <td>26</td>\n",
       "      <td>Aigues Mortes</td>\n",
       "      <td>43.565823</td>\n",
       "      <td>4.191284</td>\n",
       "      <td>17.36000</td>\n",
       "      <td>6.80</td>\n",
       "    </tr>\n",
       "    <tr>\n",
       "      <th>26</th>\n",
       "      <td>27</td>\n",
       "      <td>Saintes Maries de la mer</td>\n",
       "      <td>43.452277</td>\n",
       "      <td>4.428717</td>\n",
       "      <td>17.16750</td>\n",
       "      <td>5.84</td>\n",
       "    </tr>\n",
       "    <tr>\n",
       "      <th>27</th>\n",
       "      <td>28</td>\n",
       "      <td>Collioure</td>\n",
       "      <td>42.525050</td>\n",
       "      <td>3.083155</td>\n",
       "      <td>18.87000</td>\n",
       "      <td>0.00</td>\n",
       "    </tr>\n",
       "    <tr>\n",
       "      <th>28</th>\n",
       "      <td>29</td>\n",
       "      <td>Carcassonne</td>\n",
       "      <td>43.213036</td>\n",
       "      <td>2.349107</td>\n",
       "      <td>16.57750</td>\n",
       "      <td>0.47</td>\n",
       "    </tr>\n",
       "    <tr>\n",
       "      <th>29</th>\n",
       "      <td>30</td>\n",
       "      <td>Ariege</td>\n",
       "      <td>42.945537</td>\n",
       "      <td>1.406554</td>\n",
       "      <td>10.74250</td>\n",
       "      <td>11.72</td>\n",
       "    </tr>\n",
       "    <tr>\n",
       "      <th>30</th>\n",
       "      <td>31</td>\n",
       "      <td>Toulouse</td>\n",
       "      <td>43.604462</td>\n",
       "      <td>1.444247</td>\n",
       "      <td>16.14875</td>\n",
       "      <td>1.97</td>\n",
       "    </tr>\n",
       "    <tr>\n",
       "      <th>31</th>\n",
       "      <td>32</td>\n",
       "      <td>Montauban</td>\n",
       "      <td>44.017584</td>\n",
       "      <td>1.354999</td>\n",
       "      <td>16.62625</td>\n",
       "      <td>0.98</td>\n",
       "    </tr>\n",
       "    <tr>\n",
       "      <th>32</th>\n",
       "      <td>33</td>\n",
       "      <td>Biarritz</td>\n",
       "      <td>43.471144</td>\n",
       "      <td>-1.552727</td>\n",
       "      <td>16.52500</td>\n",
       "      <td>22.47</td>\n",
       "    </tr>\n",
       "    <tr>\n",
       "      <th>33</th>\n",
       "      <td>34</td>\n",
       "      <td>Bayonne</td>\n",
       "      <td>43.493338</td>\n",
       "      <td>-1.475099</td>\n",
       "      <td>17.09875</td>\n",
       "      <td>21.52</td>\n",
       "    </tr>\n",
       "    <tr>\n",
       "      <th>34</th>\n",
       "      <td>35</td>\n",
       "      <td>La Rochelle</td>\n",
       "      <td>46.159113</td>\n",
       "      <td>-1.152043</td>\n",
       "      <td>15.70625</td>\n",
       "      <td>8.08</td>\n",
       "    </tr>\n",
       "  </tbody>\n",
       "</table>\n",
       "</div>"
      ],
      "text/plain": [
       "    id                          city        lat       lon  feels_like.day  \\\n",
       "0    1             Mont Saint Michel  48.635523 -1.510257        15.21875   \n",
       "1    2                       St Malo  48.649518 -2.026041        15.34000   \n",
       "2    3                        Bayeux  49.276462 -0.702474        15.29250   \n",
       "3    4                      Le Havre  49.493898  0.107973        14.47250   \n",
       "4    5                         Rouen  49.440459  1.093966        14.37000   \n",
       "5    6                         Paris  48.856697  2.351462        14.66750   \n",
       "6    7                        Amiens  49.894171  2.295695        13.59875   \n",
       "7    8                         Lille  50.636565  3.063528        13.94125   \n",
       "8    9                    Strasbourg  48.584614  7.750713        12.52500   \n",
       "9   10  Chateau du Haut Koenigsbourg  48.249490  7.344296        10.52875   \n",
       "10  11                        Colmar  48.077752  7.357964        13.49500   \n",
       "11  12                     Eguisheim  48.044797  7.307962        13.67000   \n",
       "12  13                      Besancon  47.238022  6.024362        12.79750   \n",
       "13  14                         Dijon  47.321581  5.041470        12.90125   \n",
       "14  15                        Annecy  45.899235  6.128885        13.72125   \n",
       "15  16                      Grenoble  45.187560  5.735782        15.74875   \n",
       "16  17                          Lyon  45.757814  4.832011        14.58500   \n",
       "17  18                  Verdon Gorge  43.740335  6.379998        16.48375   \n",
       "18  19            Bormes les Mimosas  43.150697  6.341928        18.50375   \n",
       "19  20                        Cassis  43.214036  5.539632        18.27750   \n",
       "20  21                     Marseille  43.296174  5.369953        17.89875   \n",
       "21  22               Aix en Provence  43.529842  5.447474        17.36375   \n",
       "22  23                       Avignon  43.949249  4.805901        16.93625   \n",
       "23  24                          Uzès  44.012128  4.419672        16.59250   \n",
       "24  25                         Nímes  43.837425  4.360069        17.34750   \n",
       "25  26                 Aigues Mortes  43.565823  4.191284        17.36000   \n",
       "26  27      Saintes Maries de la mer  43.452277  4.428717        17.16750   \n",
       "27  28                     Collioure  42.525050  3.083155        18.87000   \n",
       "28  29                   Carcassonne  43.213036  2.349107        16.57750   \n",
       "29  30                        Ariege  42.945537  1.406554        10.74250   \n",
       "30  31                      Toulouse  43.604462  1.444247        16.14875   \n",
       "31  32                     Montauban  44.017584  1.354999        16.62625   \n",
       "32  33                      Biarritz  43.471144 -1.552727        16.52500   \n",
       "33  34                       Bayonne  43.493338 -1.475099        17.09875   \n",
       "34  35                   La Rochelle  46.159113 -1.152043        15.70625   \n",
       "\n",
       "     rain  \n",
       "0   16.35  \n",
       "1   15.29  \n",
       "2   13.43  \n",
       "3   17.90  \n",
       "4   13.18  \n",
       "5   14.50  \n",
       "6   22.84  \n",
       "7   16.39  \n",
       "8   11.66  \n",
       "9   11.84  \n",
       "10   9.57  \n",
       "11  10.25  \n",
       "12  12.79  \n",
       "13  10.95  \n",
       "14   8.58  \n",
       "15   3.01  \n",
       "16   2.20  \n",
       "17   0.00  \n",
       "18   1.91  \n",
       "19   1.31  \n",
       "20   0.86  \n",
       "21   0.00  \n",
       "22   1.24  \n",
       "23   4.64  \n",
       "24   6.05  \n",
       "25   6.80  \n",
       "26   5.84  \n",
       "27   0.00  \n",
       "28   0.47  \n",
       "29  11.72  \n",
       "30   1.97  \n",
       "31   0.98  \n",
       "32  22.47  \n",
       "33  21.52  \n",
       "34   8.08  "
      ]
     },
     "execution_count": 91,
     "metadata": {},
     "output_type": "execute_result"
    }
   ],
   "source": [
    "cities_weather"
   ]
  },
  {
   "cell_type": "code",
   "execution_count": 92,
   "metadata": {},
   "outputs": [],
   "source": [
    "cities_weather['score'] = cities_weather['feels_like.day'] - cities_weather['rain'] "
   ]
  },
  {
   "cell_type": "code",
   "execution_count": 93,
   "metadata": {},
   "outputs": [
    {
     "name": "stdout",
     "output_type": "stream",
     "text": [
      "<class 'pandas.core.frame.DataFrame'>\n",
      "Int64Index: 35 entries, 0 to 34\n",
      "Data columns (total 7 columns):\n",
      " #   Column          Non-Null Count  Dtype  \n",
      "---  ------          --------------  -----  \n",
      " 0   id              35 non-null     int64  \n",
      " 1   city            35 non-null     object \n",
      " 2   lat             35 non-null     float64\n",
      " 3   lon             35 non-null     float64\n",
      " 4   feels_like.day  35 non-null     float64\n",
      " 5   rain            35 non-null     float64\n",
      " 6   score           35 non-null     float64\n",
      "dtypes: float64(5), int64(1), object(1)\n",
      "memory usage: 2.2+ KB\n"
     ]
    }
   ],
   "source": [
    "cities_weather.info()"
   ]
  },
  {
   "cell_type": "code",
   "execution_count": 94,
   "metadata": {},
   "outputs": [],
   "source": [
    "cities_weather = cities_weather.sort_values(by='score', ascending = False)"
   ]
  },
  {
   "cell_type": "code",
   "execution_count": 95,
   "metadata": {},
   "outputs": [
    {
     "data": {
      "text/html": [
       "<div>\n",
       "<style scoped>\n",
       "    .dataframe tbody tr th:only-of-type {\n",
       "        vertical-align: middle;\n",
       "    }\n",
       "\n",
       "    .dataframe tbody tr th {\n",
       "        vertical-align: top;\n",
       "    }\n",
       "\n",
       "    .dataframe thead th {\n",
       "        text-align: right;\n",
       "    }\n",
       "</style>\n",
       "<table border=\"1\" class=\"dataframe\">\n",
       "  <thead>\n",
       "    <tr style=\"text-align: right;\">\n",
       "      <th></th>\n",
       "      <th>id</th>\n",
       "      <th>city</th>\n",
       "      <th>lat</th>\n",
       "      <th>lon</th>\n",
       "      <th>feels_like.day</th>\n",
       "      <th>rain</th>\n",
       "      <th>score</th>\n",
       "    </tr>\n",
       "  </thead>\n",
       "  <tbody>\n",
       "    <tr>\n",
       "      <th>27</th>\n",
       "      <td>28</td>\n",
       "      <td>Collioure</td>\n",
       "      <td>42.525050</td>\n",
       "      <td>3.083155</td>\n",
       "      <td>18.87000</td>\n",
       "      <td>0.00</td>\n",
       "      <td>18.87000</td>\n",
       "    </tr>\n",
       "    <tr>\n",
       "      <th>21</th>\n",
       "      <td>22</td>\n",
       "      <td>Aix en Provence</td>\n",
       "      <td>43.529842</td>\n",
       "      <td>5.447474</td>\n",
       "      <td>17.36375</td>\n",
       "      <td>0.00</td>\n",
       "      <td>17.36375</td>\n",
       "    </tr>\n",
       "    <tr>\n",
       "      <th>20</th>\n",
       "      <td>21</td>\n",
       "      <td>Marseille</td>\n",
       "      <td>43.296174</td>\n",
       "      <td>5.369953</td>\n",
       "      <td>17.89875</td>\n",
       "      <td>0.86</td>\n",
       "      <td>17.03875</td>\n",
       "    </tr>\n",
       "    <tr>\n",
       "      <th>19</th>\n",
       "      <td>20</td>\n",
       "      <td>Cassis</td>\n",
       "      <td>43.214036</td>\n",
       "      <td>5.539632</td>\n",
       "      <td>18.27750</td>\n",
       "      <td>1.31</td>\n",
       "      <td>16.96750</td>\n",
       "    </tr>\n",
       "    <tr>\n",
       "      <th>18</th>\n",
       "      <td>19</td>\n",
       "      <td>Bormes les Mimosas</td>\n",
       "      <td>43.150697</td>\n",
       "      <td>6.341928</td>\n",
       "      <td>18.50375</td>\n",
       "      <td>1.91</td>\n",
       "      <td>16.59375</td>\n",
       "    </tr>\n",
       "    <tr>\n",
       "      <th>17</th>\n",
       "      <td>18</td>\n",
       "      <td>Verdon Gorge</td>\n",
       "      <td>43.740335</td>\n",
       "      <td>6.379998</td>\n",
       "      <td>16.48375</td>\n",
       "      <td>0.00</td>\n",
       "      <td>16.48375</td>\n",
       "    </tr>\n",
       "    <tr>\n",
       "      <th>28</th>\n",
       "      <td>29</td>\n",
       "      <td>Carcassonne</td>\n",
       "      <td>43.213036</td>\n",
       "      <td>2.349107</td>\n",
       "      <td>16.57750</td>\n",
       "      <td>0.47</td>\n",
       "      <td>16.10750</td>\n",
       "    </tr>\n",
       "    <tr>\n",
       "      <th>22</th>\n",
       "      <td>23</td>\n",
       "      <td>Avignon</td>\n",
       "      <td>43.949249</td>\n",
       "      <td>4.805901</td>\n",
       "      <td>16.93625</td>\n",
       "      <td>1.24</td>\n",
       "      <td>15.69625</td>\n",
       "    </tr>\n",
       "    <tr>\n",
       "      <th>31</th>\n",
       "      <td>32</td>\n",
       "      <td>Montauban</td>\n",
       "      <td>44.017584</td>\n",
       "      <td>1.354999</td>\n",
       "      <td>16.62625</td>\n",
       "      <td>0.98</td>\n",
       "      <td>15.64625</td>\n",
       "    </tr>\n",
       "    <tr>\n",
       "      <th>30</th>\n",
       "      <td>31</td>\n",
       "      <td>Toulouse</td>\n",
       "      <td>43.604462</td>\n",
       "      <td>1.444247</td>\n",
       "      <td>16.14875</td>\n",
       "      <td>1.97</td>\n",
       "      <td>14.17875</td>\n",
       "    </tr>\n",
       "    <tr>\n",
       "      <th>15</th>\n",
       "      <td>16</td>\n",
       "      <td>Grenoble</td>\n",
       "      <td>45.187560</td>\n",
       "      <td>5.735782</td>\n",
       "      <td>15.74875</td>\n",
       "      <td>3.01</td>\n",
       "      <td>12.73875</td>\n",
       "    </tr>\n",
       "    <tr>\n",
       "      <th>16</th>\n",
       "      <td>17</td>\n",
       "      <td>Lyon</td>\n",
       "      <td>45.757814</td>\n",
       "      <td>4.832011</td>\n",
       "      <td>14.58500</td>\n",
       "      <td>2.20</td>\n",
       "      <td>12.38500</td>\n",
       "    </tr>\n",
       "    <tr>\n",
       "      <th>23</th>\n",
       "      <td>24</td>\n",
       "      <td>Uzès</td>\n",
       "      <td>44.012128</td>\n",
       "      <td>4.419672</td>\n",
       "      <td>16.59250</td>\n",
       "      <td>4.64</td>\n",
       "      <td>11.95250</td>\n",
       "    </tr>\n",
       "    <tr>\n",
       "      <th>26</th>\n",
       "      <td>27</td>\n",
       "      <td>Saintes Maries de la mer</td>\n",
       "      <td>43.452277</td>\n",
       "      <td>4.428717</td>\n",
       "      <td>17.16750</td>\n",
       "      <td>5.84</td>\n",
       "      <td>11.32750</td>\n",
       "    </tr>\n",
       "    <tr>\n",
       "      <th>24</th>\n",
       "      <td>25</td>\n",
       "      <td>Nímes</td>\n",
       "      <td>43.837425</td>\n",
       "      <td>4.360069</td>\n",
       "      <td>17.34750</td>\n",
       "      <td>6.05</td>\n",
       "      <td>11.29750</td>\n",
       "    </tr>\n",
       "    <tr>\n",
       "      <th>25</th>\n",
       "      <td>26</td>\n",
       "      <td>Aigues Mortes</td>\n",
       "      <td>43.565823</td>\n",
       "      <td>4.191284</td>\n",
       "      <td>17.36000</td>\n",
       "      <td>6.80</td>\n",
       "      <td>10.56000</td>\n",
       "    </tr>\n",
       "    <tr>\n",
       "      <th>34</th>\n",
       "      <td>35</td>\n",
       "      <td>La Rochelle</td>\n",
       "      <td>46.159113</td>\n",
       "      <td>-1.152043</td>\n",
       "      <td>15.70625</td>\n",
       "      <td>8.08</td>\n",
       "      <td>7.62625</td>\n",
       "    </tr>\n",
       "    <tr>\n",
       "      <th>14</th>\n",
       "      <td>15</td>\n",
       "      <td>Annecy</td>\n",
       "      <td>45.899235</td>\n",
       "      <td>6.128885</td>\n",
       "      <td>13.72125</td>\n",
       "      <td>8.58</td>\n",
       "      <td>5.14125</td>\n",
       "    </tr>\n",
       "    <tr>\n",
       "      <th>10</th>\n",
       "      <td>11</td>\n",
       "      <td>Colmar</td>\n",
       "      <td>48.077752</td>\n",
       "      <td>7.357964</td>\n",
       "      <td>13.49500</td>\n",
       "      <td>9.57</td>\n",
       "      <td>3.92500</td>\n",
       "    </tr>\n",
       "    <tr>\n",
       "      <th>11</th>\n",
       "      <td>12</td>\n",
       "      <td>Eguisheim</td>\n",
       "      <td>48.044797</td>\n",
       "      <td>7.307962</td>\n",
       "      <td>13.67000</td>\n",
       "      <td>10.25</td>\n",
       "      <td>3.42000</td>\n",
       "    </tr>\n",
       "    <tr>\n",
       "      <th>13</th>\n",
       "      <td>14</td>\n",
       "      <td>Dijon</td>\n",
       "      <td>47.321581</td>\n",
       "      <td>5.041470</td>\n",
       "      <td>12.90125</td>\n",
       "      <td>10.95</td>\n",
       "      <td>1.95125</td>\n",
       "    </tr>\n",
       "    <tr>\n",
       "      <th>2</th>\n",
       "      <td>3</td>\n",
       "      <td>Bayeux</td>\n",
       "      <td>49.276462</td>\n",
       "      <td>-0.702474</td>\n",
       "      <td>15.29250</td>\n",
       "      <td>13.43</td>\n",
       "      <td>1.86250</td>\n",
       "    </tr>\n",
       "    <tr>\n",
       "      <th>4</th>\n",
       "      <td>5</td>\n",
       "      <td>Rouen</td>\n",
       "      <td>49.440459</td>\n",
       "      <td>1.093966</td>\n",
       "      <td>14.37000</td>\n",
       "      <td>13.18</td>\n",
       "      <td>1.19000</td>\n",
       "    </tr>\n",
       "    <tr>\n",
       "      <th>8</th>\n",
       "      <td>9</td>\n",
       "      <td>Strasbourg</td>\n",
       "      <td>48.584614</td>\n",
       "      <td>7.750713</td>\n",
       "      <td>12.52500</td>\n",
       "      <td>11.66</td>\n",
       "      <td>0.86500</td>\n",
       "    </tr>\n",
       "    <tr>\n",
       "      <th>5</th>\n",
       "      <td>6</td>\n",
       "      <td>Paris</td>\n",
       "      <td>48.856697</td>\n",
       "      <td>2.351462</td>\n",
       "      <td>14.66750</td>\n",
       "      <td>14.50</td>\n",
       "      <td>0.16750</td>\n",
       "    </tr>\n",
       "    <tr>\n",
       "      <th>1</th>\n",
       "      <td>2</td>\n",
       "      <td>St Malo</td>\n",
       "      <td>48.649518</td>\n",
       "      <td>-2.026041</td>\n",
       "      <td>15.34000</td>\n",
       "      <td>15.29</td>\n",
       "      <td>0.05000</td>\n",
       "    </tr>\n",
       "    <tr>\n",
       "      <th>12</th>\n",
       "      <td>13</td>\n",
       "      <td>Besancon</td>\n",
       "      <td>47.238022</td>\n",
       "      <td>6.024362</td>\n",
       "      <td>12.79750</td>\n",
       "      <td>12.79</td>\n",
       "      <td>0.00750</td>\n",
       "    </tr>\n",
       "    <tr>\n",
       "      <th>29</th>\n",
       "      <td>30</td>\n",
       "      <td>Ariege</td>\n",
       "      <td>42.945537</td>\n",
       "      <td>1.406554</td>\n",
       "      <td>10.74250</td>\n",
       "      <td>11.72</td>\n",
       "      <td>-0.97750</td>\n",
       "    </tr>\n",
       "    <tr>\n",
       "      <th>0</th>\n",
       "      <td>1</td>\n",
       "      <td>Mont Saint Michel</td>\n",
       "      <td>48.635523</td>\n",
       "      <td>-1.510257</td>\n",
       "      <td>15.21875</td>\n",
       "      <td>16.35</td>\n",
       "      <td>-1.13125</td>\n",
       "    </tr>\n",
       "    <tr>\n",
       "      <th>9</th>\n",
       "      <td>10</td>\n",
       "      <td>Chateau du Haut Koenigsbourg</td>\n",
       "      <td>48.249490</td>\n",
       "      <td>7.344296</td>\n",
       "      <td>10.52875</td>\n",
       "      <td>11.84</td>\n",
       "      <td>-1.31125</td>\n",
       "    </tr>\n",
       "    <tr>\n",
       "      <th>7</th>\n",
       "      <td>8</td>\n",
       "      <td>Lille</td>\n",
       "      <td>50.636565</td>\n",
       "      <td>3.063528</td>\n",
       "      <td>13.94125</td>\n",
       "      <td>16.39</td>\n",
       "      <td>-2.44875</td>\n",
       "    </tr>\n",
       "    <tr>\n",
       "      <th>3</th>\n",
       "      <td>4</td>\n",
       "      <td>Le Havre</td>\n",
       "      <td>49.493898</td>\n",
       "      <td>0.107973</td>\n",
       "      <td>14.47250</td>\n",
       "      <td>17.90</td>\n",
       "      <td>-3.42750</td>\n",
       "    </tr>\n",
       "    <tr>\n",
       "      <th>33</th>\n",
       "      <td>34</td>\n",
       "      <td>Bayonne</td>\n",
       "      <td>43.493338</td>\n",
       "      <td>-1.475099</td>\n",
       "      <td>17.09875</td>\n",
       "      <td>21.52</td>\n",
       "      <td>-4.42125</td>\n",
       "    </tr>\n",
       "    <tr>\n",
       "      <th>32</th>\n",
       "      <td>33</td>\n",
       "      <td>Biarritz</td>\n",
       "      <td>43.471144</td>\n",
       "      <td>-1.552727</td>\n",
       "      <td>16.52500</td>\n",
       "      <td>22.47</td>\n",
       "      <td>-5.94500</td>\n",
       "    </tr>\n",
       "    <tr>\n",
       "      <th>6</th>\n",
       "      <td>7</td>\n",
       "      <td>Amiens</td>\n",
       "      <td>49.894171</td>\n",
       "      <td>2.295695</td>\n",
       "      <td>13.59875</td>\n",
       "      <td>22.84</td>\n",
       "      <td>-9.24125</td>\n",
       "    </tr>\n",
       "  </tbody>\n",
       "</table>\n",
       "</div>"
      ],
      "text/plain": [
       "    id                          city        lat       lon  feels_like.day  \\\n",
       "27  28                     Collioure  42.525050  3.083155        18.87000   \n",
       "21  22               Aix en Provence  43.529842  5.447474        17.36375   \n",
       "20  21                     Marseille  43.296174  5.369953        17.89875   \n",
       "19  20                        Cassis  43.214036  5.539632        18.27750   \n",
       "18  19            Bormes les Mimosas  43.150697  6.341928        18.50375   \n",
       "17  18                  Verdon Gorge  43.740335  6.379998        16.48375   \n",
       "28  29                   Carcassonne  43.213036  2.349107        16.57750   \n",
       "22  23                       Avignon  43.949249  4.805901        16.93625   \n",
       "31  32                     Montauban  44.017584  1.354999        16.62625   \n",
       "30  31                      Toulouse  43.604462  1.444247        16.14875   \n",
       "15  16                      Grenoble  45.187560  5.735782        15.74875   \n",
       "16  17                          Lyon  45.757814  4.832011        14.58500   \n",
       "23  24                          Uzès  44.012128  4.419672        16.59250   \n",
       "26  27      Saintes Maries de la mer  43.452277  4.428717        17.16750   \n",
       "24  25                         Nímes  43.837425  4.360069        17.34750   \n",
       "25  26                 Aigues Mortes  43.565823  4.191284        17.36000   \n",
       "34  35                   La Rochelle  46.159113 -1.152043        15.70625   \n",
       "14  15                        Annecy  45.899235  6.128885        13.72125   \n",
       "10  11                        Colmar  48.077752  7.357964        13.49500   \n",
       "11  12                     Eguisheim  48.044797  7.307962        13.67000   \n",
       "13  14                         Dijon  47.321581  5.041470        12.90125   \n",
       "2    3                        Bayeux  49.276462 -0.702474        15.29250   \n",
       "4    5                         Rouen  49.440459  1.093966        14.37000   \n",
       "8    9                    Strasbourg  48.584614  7.750713        12.52500   \n",
       "5    6                         Paris  48.856697  2.351462        14.66750   \n",
       "1    2                       St Malo  48.649518 -2.026041        15.34000   \n",
       "12  13                      Besancon  47.238022  6.024362        12.79750   \n",
       "29  30                        Ariege  42.945537  1.406554        10.74250   \n",
       "0    1             Mont Saint Michel  48.635523 -1.510257        15.21875   \n",
       "9   10  Chateau du Haut Koenigsbourg  48.249490  7.344296        10.52875   \n",
       "7    8                         Lille  50.636565  3.063528        13.94125   \n",
       "3    4                      Le Havre  49.493898  0.107973        14.47250   \n",
       "33  34                       Bayonne  43.493338 -1.475099        17.09875   \n",
       "32  33                      Biarritz  43.471144 -1.552727        16.52500   \n",
       "6    7                        Amiens  49.894171  2.295695        13.59875   \n",
       "\n",
       "     rain     score  \n",
       "27   0.00  18.87000  \n",
       "21   0.00  17.36375  \n",
       "20   0.86  17.03875  \n",
       "19   1.31  16.96750  \n",
       "18   1.91  16.59375  \n",
       "17   0.00  16.48375  \n",
       "28   0.47  16.10750  \n",
       "22   1.24  15.69625  \n",
       "31   0.98  15.64625  \n",
       "30   1.97  14.17875  \n",
       "15   3.01  12.73875  \n",
       "16   2.20  12.38500  \n",
       "23   4.64  11.95250  \n",
       "26   5.84  11.32750  \n",
       "24   6.05  11.29750  \n",
       "25   6.80  10.56000  \n",
       "34   8.08   7.62625  \n",
       "14   8.58   5.14125  \n",
       "10   9.57   3.92500  \n",
       "11  10.25   3.42000  \n",
       "13  10.95   1.95125  \n",
       "2   13.43   1.86250  \n",
       "4   13.18   1.19000  \n",
       "8   11.66   0.86500  \n",
       "5   14.50   0.16750  \n",
       "1   15.29   0.05000  \n",
       "12  12.79   0.00750  \n",
       "29  11.72  -0.97750  \n",
       "0   16.35  -1.13125  \n",
       "9   11.84  -1.31125  \n",
       "7   16.39  -2.44875  \n",
       "3   17.90  -3.42750  \n",
       "33  21.52  -4.42125  \n",
       "32  22.47  -5.94500  \n",
       "6   22.84  -9.24125  "
      ]
     },
     "execution_count": 95,
     "metadata": {},
     "output_type": "execute_result"
    }
   ],
   "source": [
    "cities_weather"
   ]
  },
  {
   "cell_type": "code",
   "execution_count": 96,
   "metadata": {},
   "outputs": [],
   "source": [
    "#View all cities in map"
   ]
  },
  {
   "cell_type": "code",
   "execution_count": 97,
   "metadata": {},
   "outputs": [
    {
     "data": {
      "application/vnd.plotly.v1+json": {
       "config": {
        "plotlyServerURL": "https://plot.ly"
       },
       "data": [
        {
         "customdata": [
          [
           18.869999999999997,
           0
          ],
          [
           17.36375,
           0
          ],
          [
           17.89875,
           0.86
          ],
          [
           18.2775,
           1.31
          ],
          [
           18.50375,
           1.91
          ],
          [
           16.48375,
           0
          ],
          [
           16.5775,
           0.47
          ],
          [
           16.936250000000005,
           1.24
          ],
          [
           16.62625,
           0.9800000000000001
          ],
          [
           16.148750000000003,
           1.9700000000000002
          ],
          [
           15.74875,
           3.01
          ],
          [
           14.584999999999999,
           2.2
          ],
          [
           16.5925,
           4.640000000000001
          ],
          [
           17.167499999999997,
           5.84
          ],
          [
           17.3475,
           6.050000000000001
          ],
          [
           17.359999999999996,
           6.800000000000001
          ],
          [
           15.706249999999999,
           8.08
          ],
          [
           13.721250000000001,
           8.58
          ],
          [
           13.495,
           9.57
          ],
          [
           13.669999999999998,
           10.25
          ],
          [
           12.901250000000001,
           10.950000000000001
          ],
          [
           15.292499999999999,
           13.43
          ],
          [
           14.370000000000001,
           13.18
          ],
          [
           12.525,
           11.66
          ],
          [
           14.6675,
           14.5
          ],
          [
           15.34,
           15.290000000000001
          ],
          [
           12.7975,
           12.79
          ],
          [
           10.742500000000001,
           11.72
          ],
          [
           15.218750000000002,
           16.35
          ],
          [
           10.528749999999999,
           11.839999999999998
          ],
          [
           13.941249999999998,
           16.39
          ],
          [
           14.4725,
           17.900000000000002
          ],
          [
           17.09875,
           21.52
          ],
          [
           16.525000000000002,
           22.470000000000002
          ],
          [
           13.59875,
           22.84
          ]
         ],
         "hovertemplate": "<b>%{hovertext}</b><br><br>rain=%{customdata[1]}<br>lat=%{lat}<br>lon=%{lon}<br>feels_like.day=%{marker.color}<extra></extra>",
         "hovertext": [
          "Collioure",
          "Aix en Provence",
          "Marseille",
          "Cassis",
          "Bormes les Mimosas",
          "Verdon Gorge",
          "Carcassonne",
          "Avignon",
          "Montauban",
          "Toulouse",
          "Grenoble",
          "Lyon",
          "Uzès",
          "Saintes Maries de la mer",
          "Nímes",
          "Aigues Mortes",
          "La Rochelle",
          "Annecy",
          "Colmar",
          "Eguisheim",
          "Dijon",
          "Bayeux",
          "Rouen",
          "Strasbourg",
          "Paris",
          "St Malo",
          "Besancon",
          "Ariege",
          "Mont Saint Michel",
          "Chateau du Haut Koenigsbourg",
          "Lille",
          "Le Havre",
          "Bayonne",
          "Biarritz",
          "Amiens"
         ],
         "lat": [
          42.52505,
          43.5298424,
          43.2961743,
          43.2140359,
          43.1506968,
          43.740335,
          43.2130358,
          43.9492493,
          44.0175835,
          43.6044622,
          45.1875602,
          45.7578137,
          44.0121279,
          43.4522771,
          43.8374249,
          43.5658225,
          46.1591126,
          45.8992348,
          48.0777517,
          48.0447968,
          47.3215806,
          49.2764624,
          49.4404591,
          48.584614,
          48.8566969,
          48.649518,
          47.2380222,
          42.9455368,
          48.6355232,
          48.249489800000006,
          50.6365654,
          49.4938975,
          43.4933379,
          43.471143749999996,
          49.8941708
         ],
         "legendgroup": "",
         "lon": [
          3.0831554,
          5.4474738,
          5.3699525,
          5.5396318,
          6.3419285,
          6.3799984,
          2.3491069,
          4.8059012,
          1.3549991,
          1.4442469,
          5.7357819,
          4.8320114,
          4.4196718,
          4.4287172,
          4.3600687,
          4.1912837,
          -1.1520434,
          6.1288847,
          7.3579641,
          7.3079618,
          5.0414701,
          -0.7024738,
          1.0939658,
          7.7507127,
          2.3514616,
          -2.0260409,
          6.0243622,
          1.4065544156065486,
          -1.5102571,
          7.34429620253195,
          3.0635282,
          0.1079732,
          -1.475099,
          -1.552726590666314,
          2.2956951
         ],
         "marker": {
          "color": [
           18.869999999999997,
           17.36375,
           17.89875,
           18.2775,
           18.50375,
           16.48375,
           16.5775,
           16.936250000000005,
           16.62625,
           16.148750000000003,
           15.74875,
           14.584999999999999,
           16.5925,
           17.167499999999997,
           17.3475,
           17.359999999999996,
           15.706249999999999,
           13.721250000000001,
           13.495,
           13.669999999999998,
           12.901250000000001,
           15.292499999999999,
           14.370000000000001,
           12.525,
           14.6675,
           15.34,
           12.7975,
           10.742500000000001,
           15.218750000000002,
           10.528749999999999,
           13.941249999999998,
           14.4725,
           17.09875,
           16.525000000000002,
           13.59875
          ],
          "coloraxis": "coloraxis",
          "size": [
           0,
           0,
           0.86,
           1.31,
           1.91,
           0,
           0.47,
           1.24,
           0.9800000000000001,
           1.9700000000000002,
           3.01,
           2.2,
           4.640000000000001,
           5.84,
           6.050000000000001,
           6.800000000000001,
           8.08,
           8.58,
           9.57,
           10.25,
           10.950000000000001,
           13.43,
           13.18,
           11.66,
           14.5,
           15.290000000000001,
           12.79,
           11.72,
           16.35,
           11.839999999999998,
           16.39,
           17.900000000000002,
           21.52,
           22.470000000000002,
           22.84
          ],
          "sizemode": "area",
          "sizeref": 0.0571
         },
         "mode": "markers",
         "name": "",
         "showlegend": false,
         "subplot": "mapbox",
         "type": "scattermapbox"
        }
       ],
       "layout": {
        "autosize": true,
        "coloraxis": {
         "colorbar": {
          "title": {
           "text": "feels_like.day"
          }
         },
         "colorscale": [
          [
           0,
           "#0d0887"
          ],
          [
           0.1111111111111111,
           "#46039f"
          ],
          [
           0.2222222222222222,
           "#7201a8"
          ],
          [
           0.3333333333333333,
           "#9c179e"
          ],
          [
           0.4444444444444444,
           "#bd3786"
          ],
          [
           0.5555555555555556,
           "#d8576b"
          ],
          [
           0.6666666666666666,
           "#ed7953"
          ],
          [
           0.7777777777777778,
           "#fb9f3a"
          ],
          [
           0.8888888888888888,
           "#fdca26"
          ],
          [
           1,
           "#f0f921"
          ]
         ]
        },
        "legend": {
         "itemsizing": "constant",
         "tracegroupgap": 0
        },
        "mapbox": {
         "center": {
          "lat": 45.840611592857144,
          "lon": 3.3982891007849196
         },
         "domain": {
          "x": [
           0,
           1
          ],
          "y": [
           0,
           1
          ]
         },
         "style": "carto-positron",
         "zoom": 3
        },
        "template": {
         "data": {
          "bar": [
           {
            "error_x": {
             "color": "#2a3f5f"
            },
            "error_y": {
             "color": "#2a3f5f"
            },
            "marker": {
             "line": {
              "color": "#E5ECF6",
              "width": 0.5
             }
            },
            "type": "bar"
           }
          ],
          "barpolar": [
           {
            "marker": {
             "line": {
              "color": "#E5ECF6",
              "width": 0.5
             }
            },
            "type": "barpolar"
           }
          ],
          "carpet": [
           {
            "aaxis": {
             "endlinecolor": "#2a3f5f",
             "gridcolor": "white",
             "linecolor": "white",
             "minorgridcolor": "white",
             "startlinecolor": "#2a3f5f"
            },
            "baxis": {
             "endlinecolor": "#2a3f5f",
             "gridcolor": "white",
             "linecolor": "white",
             "minorgridcolor": "white",
             "startlinecolor": "#2a3f5f"
            },
            "type": "carpet"
           }
          ],
          "choropleth": [
           {
            "colorbar": {
             "outlinewidth": 0,
             "ticks": ""
            },
            "type": "choropleth"
           }
          ],
          "contour": [
           {
            "colorbar": {
             "outlinewidth": 0,
             "ticks": ""
            },
            "colorscale": [
             [
              0,
              "#0d0887"
             ],
             [
              0.1111111111111111,
              "#46039f"
             ],
             [
              0.2222222222222222,
              "#7201a8"
             ],
             [
              0.3333333333333333,
              "#9c179e"
             ],
             [
              0.4444444444444444,
              "#bd3786"
             ],
             [
              0.5555555555555556,
              "#d8576b"
             ],
             [
              0.6666666666666666,
              "#ed7953"
             ],
             [
              0.7777777777777778,
              "#fb9f3a"
             ],
             [
              0.8888888888888888,
              "#fdca26"
             ],
             [
              1,
              "#f0f921"
             ]
            ],
            "type": "contour"
           }
          ],
          "contourcarpet": [
           {
            "colorbar": {
             "outlinewidth": 0,
             "ticks": ""
            },
            "type": "contourcarpet"
           }
          ],
          "heatmap": [
           {
            "colorbar": {
             "outlinewidth": 0,
             "ticks": ""
            },
            "colorscale": [
             [
              0,
              "#0d0887"
             ],
             [
              0.1111111111111111,
              "#46039f"
             ],
             [
              0.2222222222222222,
              "#7201a8"
             ],
             [
              0.3333333333333333,
              "#9c179e"
             ],
             [
              0.4444444444444444,
              "#bd3786"
             ],
             [
              0.5555555555555556,
              "#d8576b"
             ],
             [
              0.6666666666666666,
              "#ed7953"
             ],
             [
              0.7777777777777778,
              "#fb9f3a"
             ],
             [
              0.8888888888888888,
              "#fdca26"
             ],
             [
              1,
              "#f0f921"
             ]
            ],
            "type": "heatmap"
           }
          ],
          "heatmapgl": [
           {
            "colorbar": {
             "outlinewidth": 0,
             "ticks": ""
            },
            "colorscale": [
             [
              0,
              "#0d0887"
             ],
             [
              0.1111111111111111,
              "#46039f"
             ],
             [
              0.2222222222222222,
              "#7201a8"
             ],
             [
              0.3333333333333333,
              "#9c179e"
             ],
             [
              0.4444444444444444,
              "#bd3786"
             ],
             [
              0.5555555555555556,
              "#d8576b"
             ],
             [
              0.6666666666666666,
              "#ed7953"
             ],
             [
              0.7777777777777778,
              "#fb9f3a"
             ],
             [
              0.8888888888888888,
              "#fdca26"
             ],
             [
              1,
              "#f0f921"
             ]
            ],
            "type": "heatmapgl"
           }
          ],
          "histogram": [
           {
            "marker": {
             "colorbar": {
              "outlinewidth": 0,
              "ticks": ""
             }
            },
            "type": "histogram"
           }
          ],
          "histogram2d": [
           {
            "colorbar": {
             "outlinewidth": 0,
             "ticks": ""
            },
            "colorscale": [
             [
              0,
              "#0d0887"
             ],
             [
              0.1111111111111111,
              "#46039f"
             ],
             [
              0.2222222222222222,
              "#7201a8"
             ],
             [
              0.3333333333333333,
              "#9c179e"
             ],
             [
              0.4444444444444444,
              "#bd3786"
             ],
             [
              0.5555555555555556,
              "#d8576b"
             ],
             [
              0.6666666666666666,
              "#ed7953"
             ],
             [
              0.7777777777777778,
              "#fb9f3a"
             ],
             [
              0.8888888888888888,
              "#fdca26"
             ],
             [
              1,
              "#f0f921"
             ]
            ],
            "type": "histogram2d"
           }
          ],
          "histogram2dcontour": [
           {
            "colorbar": {
             "outlinewidth": 0,
             "ticks": ""
            },
            "colorscale": [
             [
              0,
              "#0d0887"
             ],
             [
              0.1111111111111111,
              "#46039f"
             ],
             [
              0.2222222222222222,
              "#7201a8"
             ],
             [
              0.3333333333333333,
              "#9c179e"
             ],
             [
              0.4444444444444444,
              "#bd3786"
             ],
             [
              0.5555555555555556,
              "#d8576b"
             ],
             [
              0.6666666666666666,
              "#ed7953"
             ],
             [
              0.7777777777777778,
              "#fb9f3a"
             ],
             [
              0.8888888888888888,
              "#fdca26"
             ],
             [
              1,
              "#f0f921"
             ]
            ],
            "type": "histogram2dcontour"
           }
          ],
          "mesh3d": [
           {
            "colorbar": {
             "outlinewidth": 0,
             "ticks": ""
            },
            "type": "mesh3d"
           }
          ],
          "parcoords": [
           {
            "line": {
             "colorbar": {
              "outlinewidth": 0,
              "ticks": ""
             }
            },
            "type": "parcoords"
           }
          ],
          "pie": [
           {
            "automargin": true,
            "type": "pie"
           }
          ],
          "scatter": [
           {
            "marker": {
             "colorbar": {
              "outlinewidth": 0,
              "ticks": ""
             }
            },
            "type": "scatter"
           }
          ],
          "scatter3d": [
           {
            "line": {
             "colorbar": {
              "outlinewidth": 0,
              "ticks": ""
             }
            },
            "marker": {
             "colorbar": {
              "outlinewidth": 0,
              "ticks": ""
             }
            },
            "type": "scatter3d"
           }
          ],
          "scattercarpet": [
           {
            "marker": {
             "colorbar": {
              "outlinewidth": 0,
              "ticks": ""
             }
            },
            "type": "scattercarpet"
           }
          ],
          "scattergeo": [
           {
            "marker": {
             "colorbar": {
              "outlinewidth": 0,
              "ticks": ""
             }
            },
            "type": "scattergeo"
           }
          ],
          "scattergl": [
           {
            "marker": {
             "colorbar": {
              "outlinewidth": 0,
              "ticks": ""
             }
            },
            "type": "scattergl"
           }
          ],
          "scattermapbox": [
           {
            "marker": {
             "colorbar": {
              "outlinewidth": 0,
              "ticks": ""
             }
            },
            "type": "scattermapbox"
           }
          ],
          "scatterpolar": [
           {
            "marker": {
             "colorbar": {
              "outlinewidth": 0,
              "ticks": ""
             }
            },
            "type": "scatterpolar"
           }
          ],
          "scatterpolargl": [
           {
            "marker": {
             "colorbar": {
              "outlinewidth": 0,
              "ticks": ""
             }
            },
            "type": "scatterpolargl"
           }
          ],
          "scatterternary": [
           {
            "marker": {
             "colorbar": {
              "outlinewidth": 0,
              "ticks": ""
             }
            },
            "type": "scatterternary"
           }
          ],
          "surface": [
           {
            "colorbar": {
             "outlinewidth": 0,
             "ticks": ""
            },
            "colorscale": [
             [
              0,
              "#0d0887"
             ],
             [
              0.1111111111111111,
              "#46039f"
             ],
             [
              0.2222222222222222,
              "#7201a8"
             ],
             [
              0.3333333333333333,
              "#9c179e"
             ],
             [
              0.4444444444444444,
              "#bd3786"
             ],
             [
              0.5555555555555556,
              "#d8576b"
             ],
             [
              0.6666666666666666,
              "#ed7953"
             ],
             [
              0.7777777777777778,
              "#fb9f3a"
             ],
             [
              0.8888888888888888,
              "#fdca26"
             ],
             [
              1,
              "#f0f921"
             ]
            ],
            "type": "surface"
           }
          ],
          "table": [
           {
            "cells": {
             "fill": {
              "color": "#EBF0F8"
             },
             "line": {
              "color": "white"
             }
            },
            "header": {
             "fill": {
              "color": "#C8D4E3"
             },
             "line": {
              "color": "white"
             }
            },
            "type": "table"
           }
          ]
         },
         "layout": {
          "annotationdefaults": {
           "arrowcolor": "#2a3f5f",
           "arrowhead": 0,
           "arrowwidth": 1
          },
          "coloraxis": {
           "colorbar": {
            "outlinewidth": 0,
            "ticks": ""
           }
          },
          "colorscale": {
           "diverging": [
            [
             0,
             "#8e0152"
            ],
            [
             0.1,
             "#c51b7d"
            ],
            [
             0.2,
             "#de77ae"
            ],
            [
             0.3,
             "#f1b6da"
            ],
            [
             0.4,
             "#fde0ef"
            ],
            [
             0.5,
             "#f7f7f7"
            ],
            [
             0.6,
             "#e6f5d0"
            ],
            [
             0.7,
             "#b8e186"
            ],
            [
             0.8,
             "#7fbc41"
            ],
            [
             0.9,
             "#4d9221"
            ],
            [
             1,
             "#276419"
            ]
           ],
           "sequential": [
            [
             0,
             "#0d0887"
            ],
            [
             0.1111111111111111,
             "#46039f"
            ],
            [
             0.2222222222222222,
             "#7201a8"
            ],
            [
             0.3333333333333333,
             "#9c179e"
            ],
            [
             0.4444444444444444,
             "#bd3786"
            ],
            [
             0.5555555555555556,
             "#d8576b"
            ],
            [
             0.6666666666666666,
             "#ed7953"
            ],
            [
             0.7777777777777778,
             "#fb9f3a"
            ],
            [
             0.8888888888888888,
             "#fdca26"
            ],
            [
             1,
             "#f0f921"
            ]
           ],
           "sequentialminus": [
            [
             0,
             "#0d0887"
            ],
            [
             0.1111111111111111,
             "#46039f"
            ],
            [
             0.2222222222222222,
             "#7201a8"
            ],
            [
             0.3333333333333333,
             "#9c179e"
            ],
            [
             0.4444444444444444,
             "#bd3786"
            ],
            [
             0.5555555555555556,
             "#d8576b"
            ],
            [
             0.6666666666666666,
             "#ed7953"
            ],
            [
             0.7777777777777778,
             "#fb9f3a"
            ],
            [
             0.8888888888888888,
             "#fdca26"
            ],
            [
             1,
             "#f0f921"
            ]
           ]
          },
          "colorway": [
           "#636efa",
           "#EF553B",
           "#00cc96",
           "#ab63fa",
           "#FFA15A",
           "#19d3f3",
           "#FF6692",
           "#B6E880",
           "#FF97FF",
           "#FECB52"
          ],
          "font": {
           "color": "#2a3f5f"
          },
          "geo": {
           "bgcolor": "white",
           "lakecolor": "white",
           "landcolor": "#E5ECF6",
           "showlakes": true,
           "showland": true,
           "subunitcolor": "white"
          },
          "hoverlabel": {
           "align": "left"
          },
          "hovermode": "closest",
          "mapbox": {
           "style": "light"
          },
          "paper_bgcolor": "white",
          "plot_bgcolor": "#E5ECF6",
          "polar": {
           "angularaxis": {
            "gridcolor": "white",
            "linecolor": "white",
            "ticks": ""
           },
           "bgcolor": "#E5ECF6",
           "radialaxis": {
            "gridcolor": "white",
            "linecolor": "white",
            "ticks": ""
           }
          },
          "scene": {
           "xaxis": {
            "backgroundcolor": "#E5ECF6",
            "gridcolor": "white",
            "gridwidth": 2,
            "linecolor": "white",
            "showbackground": true,
            "ticks": "",
            "zerolinecolor": "white"
           },
           "yaxis": {
            "backgroundcolor": "#E5ECF6",
            "gridcolor": "white",
            "gridwidth": 2,
            "linecolor": "white",
            "showbackground": true,
            "ticks": "",
            "zerolinecolor": "white"
           },
           "zaxis": {
            "backgroundcolor": "#E5ECF6",
            "gridcolor": "white",
            "gridwidth": 2,
            "linecolor": "white",
            "showbackground": true,
            "ticks": "",
            "zerolinecolor": "white"
           }
          },
          "shapedefaults": {
           "line": {
            "color": "#2a3f5f"
           }
          },
          "ternary": {
           "aaxis": {
            "gridcolor": "white",
            "linecolor": "white",
            "ticks": ""
           },
           "baxis": {
            "gridcolor": "white",
            "linecolor": "white",
            "ticks": ""
           },
           "bgcolor": "#E5ECF6",
           "caxis": {
            "gridcolor": "white",
            "linecolor": "white",
            "ticks": ""
           }
          },
          "title": {
           "x": 0.05
          },
          "xaxis": {
           "automargin": true,
           "gridcolor": "white",
           "linecolor": "white",
           "ticks": "",
           "title": {
            "standoff": 15
           },
           "zerolinecolor": "white",
           "zerolinewidth": 2
          },
          "yaxis": {
           "automargin": true,
           "gridcolor": "white",
           "linecolor": "white",
           "ticks": "",
           "title": {
            "standoff": 15
           },
           "zerolinecolor": "white",
           "zerolinewidth": 2
          }
         }
        },
        "title": {
         "text": "35 top destinations"
        }
       }
      },
      "image/png": "[encoded data removed]",
      "text/html": [
       "<div>\n",
       "        \n",
       "        \n",
       "            <div id=\"d2f6d6fc-ce52-4ea3-8217-e598033babdd\" class=\"plotly-graph-div\" style=\"height:525px; width:100%;\"></div>\n",
       "            <script type=\"text/javascript\">\n",
       "                require([\"plotly\"], function(Plotly) {\n",
       "                    window.PLOTLYENV=window.PLOTLYENV || {};\n",
       "                    \n",
       "                if (document.getElementById(\"d2f6d6fc-ce52-4ea3-8217-e598033babdd\")) {\n",
       "                    Plotly.newPlot(\n",
       "                        'd2f6d6fc-ce52-4ea3-8217-e598033babdd',\n",
       "                        [{\"customdata\": [[18.869999999999997, 0.0], [17.36375, 0.0], [17.89875, 0.86], [18.2775, 1.31], [18.50375, 1.91], [16.48375, 0.0], [16.5775, 0.47], [16.936250000000005, 1.24], [16.62625, 0.9800000000000001], [16.148750000000003, 1.9700000000000002], [15.74875, 3.01], [14.584999999999999, 2.2], [16.5925, 4.640000000000001], [17.167499999999997, 5.84], [17.3475, 6.050000000000001], [17.359999999999996, 6.800000000000001], [15.706249999999999, 8.08], [13.721250000000001, 8.58], [13.495, 9.57], [13.669999999999998, 10.25], [12.901250000000001, 10.950000000000001], [15.292499999999999, 13.43], [14.370000000000001, 13.18], [12.525, 11.66], [14.6675, 14.5], [15.34, 15.290000000000001], [12.7975, 12.79], [10.742500000000001, 11.72], [15.218750000000002, 16.35], [10.528749999999999, 11.839999999999998], [13.941249999999998, 16.39], [14.4725, 17.900000000000002], [17.09875, 21.52], [16.525000000000002, 22.470000000000002], [13.59875, 22.84]], \"hovertemplate\": \"<b>%{hovertext}</b><br><br>rain=%{customdata[1]}<br>lat=%{lat}<br>lon=%{lon}<br>feels_like.day=%{marker.color}<extra></extra>\", \"hovertext\": [\"Collioure\", \"Aix en Provence\", \"Marseille\", \"Cassis\", \"Bormes les Mimosas\", \"Verdon Gorge\", \"Carcassonne\", \"Avignon\", \"Montauban\", \"Toulouse\", \"Grenoble\", \"Lyon\", \"Uz\\u00e8s\", \"Saintes Maries de la mer\", \"N\\u00edmes\", \"Aigues Mortes\", \"La Rochelle\", \"Annecy\", \"Colmar\", \"Eguisheim\", \"Dijon\", \"Bayeux\", \"Rouen\", \"Strasbourg\", \"Paris\", \"St Malo\", \"Besancon\", \"Ariege\", \"Mont Saint Michel\", \"Chateau du Haut Koenigsbourg\", \"Lille\", \"Le Havre\", \"Bayonne\", \"Biarritz\", \"Amiens\"], \"lat\": [42.52505, 43.5298424, 43.2961743, 43.2140359, 43.1506968, 43.740335, 43.2130358, 43.9492493, 44.0175835, 43.6044622, 45.1875602, 45.7578137, 44.0121279, 43.4522771, 43.8374249, 43.5658225, 46.1591126, 45.8992348, 48.0777517, 48.0447968, 47.3215806, 49.2764624, 49.4404591, 48.584614, 48.8566969, 48.649518, 47.2380222, 42.9455368, 48.6355232, 48.249489800000006, 50.6365654, 49.4938975, 43.4933379, 43.471143749999996, 49.8941708], \"legendgroup\": \"\", \"lon\": [3.0831554, 5.4474738, 5.3699525, 5.5396318, 6.3419285, 6.3799984, 2.3491069, 4.8059012, 1.3549991, 1.4442469, 5.7357819, 4.8320114, 4.4196718, 4.4287172, 4.3600687, 4.1912837, -1.1520434, 6.1288847, 7.3579641, 7.3079618, 5.0414701, -0.7024738, 1.0939658, 7.7507127, 2.3514616, -2.0260409, 6.0243622, 1.4065544156065486, -1.5102571, 7.34429620253195, 3.0635282, 0.1079732, -1.475099, -1.552726590666314, 2.2956951], \"marker\": {\"color\": [18.869999999999997, 17.36375, 17.89875, 18.2775, 18.50375, 16.48375, 16.5775, 16.936250000000005, 16.62625, 16.148750000000003, 15.74875, 14.584999999999999, 16.5925, 17.167499999999997, 17.3475, 17.359999999999996, 15.706249999999999, 13.721250000000001, 13.495, 13.669999999999998, 12.901250000000001, 15.292499999999999, 14.370000000000001, 12.525, 14.6675, 15.34, 12.7975, 10.742500000000001, 15.218750000000002, 10.528749999999999, 13.941249999999998, 14.4725, 17.09875, 16.525000000000002, 13.59875], \"coloraxis\": \"coloraxis\", \"size\": [0.0, 0.0, 0.86, 1.31, 1.91, 0.0, 0.47, 1.24, 0.9800000000000001, 1.9700000000000002, 3.01, 2.2, 4.640000000000001, 5.84, 6.050000000000001, 6.800000000000001, 8.08, 8.58, 9.57, 10.25, 10.950000000000001, 13.43, 13.18, 11.66, 14.5, 15.290000000000001, 12.79, 11.72, 16.35, 11.839999999999998, 16.39, 17.900000000000002, 21.52, 22.470000000000002, 22.84], \"sizemode\": \"area\", \"sizeref\": 0.0571}, \"mode\": \"markers\", \"name\": \"\", \"showlegend\": false, \"subplot\": \"mapbox\", \"type\": \"scattermapbox\"}],\n",
       "                        {\"coloraxis\": {\"colorbar\": {\"title\": {\"text\": \"feels_like.day\"}}, \"colorscale\": [[0.0, \"#0d0887\"], [0.1111111111111111, \"#46039f\"], [0.2222222222222222, \"#7201a8\"], [0.3333333333333333, \"#9c179e\"], [0.4444444444444444, \"#bd3786\"], [0.5555555555555556, \"#d8576b\"], [0.6666666666666666, \"#ed7953\"], [0.7777777777777778, \"#fb9f3a\"], [0.8888888888888888, \"#fdca26\"], [1.0, \"#f0f921\"]]}, \"legend\": {\"itemsizing\": \"constant\", \"tracegroupgap\": 0}, \"mapbox\": {\"center\": {\"lat\": 45.840611592857144, \"lon\": 3.3982891007849196}, \"domain\": {\"x\": [0.0, 1.0], \"y\": [0.0, 1.0]}, \"style\": \"carto-positron\", \"zoom\": 3}, \"template\": {\"data\": {\"bar\": [{\"error_x\": {\"color\": \"#2a3f5f\"}, \"error_y\": {\"color\": \"#2a3f5f\"}, \"marker\": {\"line\": {\"color\": \"#E5ECF6\", \"width\": 0.5}}, \"type\": \"bar\"}], \"barpolar\": [{\"marker\": {\"line\": {\"color\": \"#E5ECF6\", \"width\": 0.5}}, \"type\": \"barpolar\"}], \"carpet\": [{\"aaxis\": {\"endlinecolor\": \"#2a3f5f\", \"gridcolor\": \"white\", \"linecolor\": \"white\", \"minorgridcolor\": \"white\", \"startlinecolor\": \"#2a3f5f\"}, \"baxis\": {\"endlinecolor\": \"#2a3f5f\", \"gridcolor\": \"white\", \"linecolor\": \"white\", \"minorgridcolor\": \"white\", \"startlinecolor\": \"#2a3f5f\"}, \"type\": \"carpet\"}], \"choropleth\": [{\"colorbar\": {\"outlinewidth\": 0, \"ticks\": \"\"}, \"type\": \"choropleth\"}], \"contour\": [{\"colorbar\": {\"outlinewidth\": 0, \"ticks\": \"\"}, \"colorscale\": [[0.0, \"#0d0887\"], [0.1111111111111111, \"#46039f\"], [0.2222222222222222, \"#7201a8\"], [0.3333333333333333, \"#9c179e\"], [0.4444444444444444, \"#bd3786\"], [0.5555555555555556, \"#d8576b\"], [0.6666666666666666, \"#ed7953\"], [0.7777777777777778, \"#fb9f3a\"], [0.8888888888888888, \"#fdca26\"], [1.0, \"#f0f921\"]], \"type\": \"contour\"}], \"contourcarpet\": [{\"colorbar\": {\"outlinewidth\": 0, \"ticks\": \"\"}, \"type\": \"contourcarpet\"}], \"heatmap\": [{\"colorbar\": {\"outlinewidth\": 0, \"ticks\": \"\"}, \"colorscale\": [[0.0, \"#0d0887\"], [0.1111111111111111, \"#46039f\"], [0.2222222222222222, \"#7201a8\"], [0.3333333333333333, \"#9c179e\"], [0.4444444444444444, \"#bd3786\"], [0.5555555555555556, \"#d8576b\"], [0.6666666666666666, \"#ed7953\"], [0.7777777777777778, \"#fb9f3a\"], [0.8888888888888888, \"#fdca26\"], [1.0, \"#f0f921\"]], \"type\": \"heatmap\"}], \"heatmapgl\": [{\"colorbar\": {\"outlinewidth\": 0, \"ticks\": \"\"}, \"colorscale\": [[0.0, \"#0d0887\"], [0.1111111111111111, \"#46039f\"], [0.2222222222222222, \"#7201a8\"], [0.3333333333333333, \"#9c179e\"], [0.4444444444444444, \"#bd3786\"], [0.5555555555555556, \"#d8576b\"], [0.6666666666666666, \"#ed7953\"], [0.7777777777777778, \"#fb9f3a\"], [0.8888888888888888, \"#fdca26\"], [1.0, \"#f0f921\"]], \"type\": \"heatmapgl\"}], \"histogram\": [{\"marker\": {\"colorbar\": {\"outlinewidth\": 0, \"ticks\": \"\"}}, \"type\": \"histogram\"}], \"histogram2d\": [{\"colorbar\": {\"outlinewidth\": 0, \"ticks\": \"\"}, \"colorscale\": [[0.0, \"#0d0887\"], [0.1111111111111111, \"#46039f\"], [0.2222222222222222, \"#7201a8\"], [0.3333333333333333, \"#9c179e\"], [0.4444444444444444, \"#bd3786\"], [0.5555555555555556, \"#d8576b\"], [0.6666666666666666, \"#ed7953\"], [0.7777777777777778, \"#fb9f3a\"], [0.8888888888888888, \"#fdca26\"], [1.0, \"#f0f921\"]], \"type\": \"histogram2d\"}], \"histogram2dcontour\": [{\"colorbar\": {\"outlinewidth\": 0, \"ticks\": \"\"}, \"colorscale\": [[0.0, \"#0d0887\"], [0.1111111111111111, \"#46039f\"], [0.2222222222222222, \"#7201a8\"], [0.3333333333333333, \"#9c179e\"], [0.4444444444444444, \"#bd3786\"], [0.5555555555555556, \"#d8576b\"], [0.6666666666666666, \"#ed7953\"], [0.7777777777777778, \"#fb9f3a\"], [0.8888888888888888, \"#fdca26\"], [1.0, \"#f0f921\"]], \"type\": \"histogram2dcontour\"}], \"mesh3d\": [{\"colorbar\": {\"outlinewidth\": 0, \"ticks\": \"\"}, \"type\": \"mesh3d\"}], \"parcoords\": [{\"line\": {\"colorbar\": {\"outlinewidth\": 0, \"ticks\": \"\"}}, \"type\": \"parcoords\"}], \"pie\": [{\"automargin\": true, \"type\": \"pie\"}], \"scatter\": [{\"marker\": {\"colorbar\": {\"outlinewidth\": 0, \"ticks\": \"\"}}, \"type\": \"scatter\"}], \"scatter3d\": [{\"line\": {\"colorbar\": {\"outlinewidth\": 0, \"ticks\": \"\"}}, \"marker\": {\"colorbar\": {\"outlinewidth\": 0, \"ticks\": \"\"}}, \"type\": \"scatter3d\"}], \"scattercarpet\": [{\"marker\": {\"colorbar\": {\"outlinewidth\": 0, \"ticks\": \"\"}}, \"type\": \"scattercarpet\"}], \"scattergeo\": [{\"marker\": {\"colorbar\": {\"outlinewidth\": 0, \"ticks\": \"\"}}, \"type\": \"scattergeo\"}], \"scattergl\": [{\"marker\": {\"colorbar\": {\"outlinewidth\": 0, \"ticks\": \"\"}}, \"type\": \"scattergl\"}], \"scattermapbox\": [{\"marker\": {\"colorbar\": {\"outlinewidth\": 0, \"ticks\": \"\"}}, \"type\": \"scattermapbox\"}], \"scatterpolar\": [{\"marker\": {\"colorbar\": {\"outlinewidth\": 0, \"ticks\": \"\"}}, \"type\": \"scatterpolar\"}], \"scatterpolargl\": [{\"marker\": {\"colorbar\": {\"outlinewidth\": 0, \"ticks\": \"\"}}, \"type\": \"scatterpolargl\"}], \"scatterternary\": [{\"marker\": {\"colorbar\": {\"outlinewidth\": 0, \"ticks\": \"\"}}, \"type\": \"scatterternary\"}], \"surface\": [{\"colorbar\": {\"outlinewidth\": 0, \"ticks\": \"\"}, \"colorscale\": [[0.0, \"#0d0887\"], [0.1111111111111111, \"#46039f\"], [0.2222222222222222, \"#7201a8\"], [0.3333333333333333, \"#9c179e\"], [0.4444444444444444, \"#bd3786\"], [0.5555555555555556, \"#d8576b\"], [0.6666666666666666, \"#ed7953\"], [0.7777777777777778, \"#fb9f3a\"], [0.8888888888888888, \"#fdca26\"], [1.0, \"#f0f921\"]], \"type\": \"surface\"}], \"table\": [{\"cells\": {\"fill\": {\"color\": \"#EBF0F8\"}, \"line\": {\"color\": \"white\"}}, \"header\": {\"fill\": {\"color\": \"#C8D4E3\"}, \"line\": {\"color\": \"white\"}}, \"type\": \"table\"}]}, \"layout\": {\"annotationdefaults\": {\"arrowcolor\": \"#2a3f5f\", \"arrowhead\": 0, \"arrowwidth\": 1}, \"coloraxis\": {\"colorbar\": {\"outlinewidth\": 0, \"ticks\": \"\"}}, \"colorscale\": {\"diverging\": [[0, \"#8e0152\"], [0.1, \"#c51b7d\"], [0.2, \"#de77ae\"], [0.3, \"#f1b6da\"], [0.4, \"#fde0ef\"], [0.5, \"#f7f7f7\"], [0.6, \"#e6f5d0\"], [0.7, \"#b8e186\"], [0.8, \"#7fbc41\"], [0.9, \"#4d9221\"], [1, \"#276419\"]], \"sequential\": [[0.0, \"#0d0887\"], [0.1111111111111111, \"#46039f\"], [0.2222222222222222, \"#7201a8\"], [0.3333333333333333, \"#9c179e\"], [0.4444444444444444, \"#bd3786\"], [0.5555555555555556, \"#d8576b\"], [0.6666666666666666, \"#ed7953\"], [0.7777777777777778, \"#fb9f3a\"], [0.8888888888888888, \"#fdca26\"], [1.0, \"#f0f921\"]], \"sequentialminus\": [[0.0, \"#0d0887\"], [0.1111111111111111, \"#46039f\"], [0.2222222222222222, \"#7201a8\"], [0.3333333333333333, \"#9c179e\"], [0.4444444444444444, \"#bd3786\"], [0.5555555555555556, \"#d8576b\"], [0.6666666666666666, \"#ed7953\"], [0.7777777777777778, \"#fb9f3a\"], [0.8888888888888888, \"#fdca26\"], [1.0, \"#f0f921\"]]}, \"colorway\": [\"#636efa\", \"#EF553B\", \"#00cc96\", \"#ab63fa\", \"#FFA15A\", \"#19d3f3\", \"#FF6692\", \"#B6E880\", \"#FF97FF\", \"#FECB52\"], \"font\": {\"color\": \"#2a3f5f\"}, \"geo\": {\"bgcolor\": \"white\", \"lakecolor\": \"white\", \"landcolor\": \"#E5ECF6\", \"showlakes\": true, \"showland\": true, \"subunitcolor\": \"white\"}, \"hoverlabel\": {\"align\": \"left\"}, \"hovermode\": \"closest\", \"mapbox\": {\"style\": \"light\"}, \"paper_bgcolor\": \"white\", \"plot_bgcolor\": \"#E5ECF6\", \"polar\": {\"angularaxis\": {\"gridcolor\": \"white\", \"linecolor\": \"white\", \"ticks\": \"\"}, \"bgcolor\": \"#E5ECF6\", \"radialaxis\": {\"gridcolor\": \"white\", \"linecolor\": \"white\", \"ticks\": \"\"}}, \"scene\": {\"xaxis\": {\"backgroundcolor\": \"#E5ECF6\", \"gridcolor\": \"white\", \"gridwidth\": 2, \"linecolor\": \"white\", \"showbackground\": true, \"ticks\": \"\", \"zerolinecolor\": \"white\"}, \"yaxis\": {\"backgroundcolor\": \"#E5ECF6\", \"gridcolor\": \"white\", \"gridwidth\": 2, \"linecolor\": \"white\", \"showbackground\": true, \"ticks\": \"\", \"zerolinecolor\": \"white\"}, \"zaxis\": {\"backgroundcolor\": \"#E5ECF6\", \"gridcolor\": \"white\", \"gridwidth\": 2, \"linecolor\": \"white\", \"showbackground\": true, \"ticks\": \"\", \"zerolinecolor\": \"white\"}}, \"shapedefaults\": {\"line\": {\"color\": \"#2a3f5f\"}}, \"ternary\": {\"aaxis\": {\"gridcolor\": \"white\", \"linecolor\": \"white\", \"ticks\": \"\"}, \"baxis\": {\"gridcolor\": \"white\", \"linecolor\": \"white\", \"ticks\": \"\"}, \"bgcolor\": \"#E5ECF6\", \"caxis\": {\"gridcolor\": \"white\", \"linecolor\": \"white\", \"ticks\": \"\"}}, \"title\": {\"x\": 0.05}, \"xaxis\": {\"automargin\": true, \"gridcolor\": \"white\", \"linecolor\": \"white\", \"ticks\": \"\", \"title\": {\"standoff\": 15}, \"zerolinecolor\": \"white\", \"zerolinewidth\": 2}, \"yaxis\": {\"automargin\": true, \"gridcolor\": \"white\", \"linecolor\": \"white\", \"ticks\": \"\", \"title\": {\"standoff\": 15}, \"zerolinecolor\": \"white\", \"zerolinewidth\": 2}}}, \"title\": {\"text\": \"35 top destinations\"}},\n",
       "                        {\"responsive\": true}\n",
       "                    ).then(function(){\n",
       "                            \n",
       "var gd = document.getElementById('d2f6d6fc-ce52-4ea3-8217-e598033babdd');\n",
       "var x = new MutationObserver(function (mutations, observer) {{\n",
       "        var display = window.getComputedStyle(gd).display;\n",
       "        if (!display || display === 'none') {{\n",
       "            console.log([gd, 'removed!']);\n",
       "            Plotly.purge(gd);\n",
       "            observer.disconnect();\n",
       "        }}\n",
       "}});\n",
       "\n",
       "// Listen for the removal of the full notebook cells\n",
       "var notebookContainer = gd.closest('#notebook-container');\n",
       "if (notebookContainer) {{\n",
       "    x.observe(notebookContainer, {childList: true});\n",
       "}}\n",
       "\n",
       "// Listen for the clearing of the current output cell\n",
       "var outputEl = gd.closest('.output');\n",
       "if (outputEl) {{\n",
       "    x.observe(outputEl, {childList: true});\n",
       "}}\n",
       "\n",
       "                        })\n",
       "                };\n",
       "                });\n",
       "            </script>\n",
       "        </div>"
      ]
     },
     "metadata": {},
     "output_type": "display_data"
    }
   ],
   "source": [
    "fig = px.scatter_mapbox(cities_weather, lat=\"lat\", lon=\"lon\", color=\"feels_like.day\", \\\n",
    "                        size=\"rain\",hover_name=\"city\", hover_data=[\"feels_like.day\", \"rain\"], zoom=3,\\\n",
    "                        mapbox_style=\"carto-positron\",title= \"35 top destinations\")\n",
    "fig.show()\n"
   ]
  },
  {
   "cell_type": "code",
   "execution_count": 98,
   "metadata": {},
   "outputs": [],
   "source": [
    "#Top-5 destinations according to our rules"
   ]
  },
  {
   "cell_type": "code",
   "execution_count": 99,
   "metadata": {},
   "outputs": [
    {
     "data": {
      "text/html": [
       "<div>\n",
       "<style scoped>\n",
       "    .dataframe tbody tr th:only-of-type {\n",
       "        vertical-align: middle;\n",
       "    }\n",
       "\n",
       "    .dataframe tbody tr th {\n",
       "        vertical-align: top;\n",
       "    }\n",
       "\n",
       "    .dataframe thead th {\n",
       "        text-align: right;\n",
       "    }\n",
       "</style>\n",
       "<table border=\"1\" class=\"dataframe\">\n",
       "  <thead>\n",
       "    <tr style=\"text-align: right;\">\n",
       "      <th></th>\n",
       "      <th>id</th>\n",
       "      <th>city</th>\n",
       "      <th>lat</th>\n",
       "      <th>lon</th>\n",
       "      <th>feels_like.day</th>\n",
       "      <th>rain</th>\n",
       "      <th>score</th>\n",
       "    </tr>\n",
       "  </thead>\n",
       "  <tbody>\n",
       "    <tr>\n",
       "      <th>27</th>\n",
       "      <td>28</td>\n",
       "      <td>Collioure</td>\n",
       "      <td>42.525050</td>\n",
       "      <td>3.083155</td>\n",
       "      <td>18.87000</td>\n",
       "      <td>0.00</td>\n",
       "      <td>18.87000</td>\n",
       "    </tr>\n",
       "    <tr>\n",
       "      <th>21</th>\n",
       "      <td>22</td>\n",
       "      <td>Aix en Provence</td>\n",
       "      <td>43.529842</td>\n",
       "      <td>5.447474</td>\n",
       "      <td>17.36375</td>\n",
       "      <td>0.00</td>\n",
       "      <td>17.36375</td>\n",
       "    </tr>\n",
       "    <tr>\n",
       "      <th>20</th>\n",
       "      <td>21</td>\n",
       "      <td>Marseille</td>\n",
       "      <td>43.296174</td>\n",
       "      <td>5.369953</td>\n",
       "      <td>17.89875</td>\n",
       "      <td>0.86</td>\n",
       "      <td>17.03875</td>\n",
       "    </tr>\n",
       "    <tr>\n",
       "      <th>19</th>\n",
       "      <td>20</td>\n",
       "      <td>Cassis</td>\n",
       "      <td>43.214036</td>\n",
       "      <td>5.539632</td>\n",
       "      <td>18.27750</td>\n",
       "      <td>1.31</td>\n",
       "      <td>16.96750</td>\n",
       "    </tr>\n",
       "    <tr>\n",
       "      <th>18</th>\n",
       "      <td>19</td>\n",
       "      <td>Bormes les Mimosas</td>\n",
       "      <td>43.150697</td>\n",
       "      <td>6.341928</td>\n",
       "      <td>18.50375</td>\n",
       "      <td>1.91</td>\n",
       "      <td>16.59375</td>\n",
       "    </tr>\n",
       "  </tbody>\n",
       "</table>\n",
       "</div>"
      ],
      "text/plain": [
       "    id                city        lat       lon  feels_like.day  rain  \\\n",
       "27  28           Collioure  42.525050  3.083155        18.87000  0.00   \n",
       "21  22     Aix en Provence  43.529842  5.447474        17.36375  0.00   \n",
       "20  21           Marseille  43.296174  5.369953        17.89875  0.86   \n",
       "19  20              Cassis  43.214036  5.539632        18.27750  1.31   \n",
       "18  19  Bormes les Mimosas  43.150697  6.341928        18.50375  1.91   \n",
       "\n",
       "       score  \n",
       "27  18.87000  \n",
       "21  17.36375  \n",
       "20  17.03875  \n",
       "19  16.96750  \n",
       "18  16.59375  "
      ]
     },
     "execution_count": 99,
     "metadata": {},
     "output_type": "execute_result"
    }
   ],
   "source": [
    "cities_weather.head()"
   ]
  },
  {
   "cell_type": "code",
   "execution_count": 101,
   "metadata": {},
   "outputs": [
    {
     "data": {
      "application/vnd.plotly.v1+json": {
       "config": {
        "plotlyServerURL": "https://plot.ly"
       },
       "data": [
        {
         "customdata": [
          [
           18.869999999999997
          ],
          [
           17.36375
          ],
          [
           17.03875
          ],
          [
           16.9675
          ],
          [
           16.59375
          ]
         ],
         "hovertemplate": "<b>%{hovertext}</b><br><br>rain=%{marker.size}<br>lat=%{lat}<br>lon=%{lon}<br>score=%{customdata[0]}<br>feels_like.day=%{marker.color}<extra></extra>",
         "hovertext": [
          "Collioure",
          "Aix en Provence",
          "Marseille",
          "Cassis",
          "Bormes les Mimosas"
         ],
         "lat": [
          42.52505,
          43.5298424,
          43.2961743,
          43.2140359,
          43.1506968
         ],
         "legendgroup": "",
         "lon": [
          3.0831554,
          5.4474738,
          5.3699525,
          5.5396318,
          6.3419285
         ],
         "marker": {
          "color": [
           18.869999999999997,
           17.36375,
           17.89875,
           18.2775,
           18.50375
          ],
          "coloraxis": "coloraxis",
          "size": [
           0,
           0,
           0.86,
           1.31,
           1.91
          ],
          "sizemode": "area",
          "sizeref": 0.004775
         },
         "mode": "markers",
         "name": "",
         "showlegend": false,
         "subplot": "mapbox",
         "type": "scattermapbox"
        }
       ],
       "layout": {
        "autosize": true,
        "coloraxis": {
         "colorbar": {
          "title": {
           "text": "feels_like.day"
          }
         },
         "colorscale": [
          [
           0,
           "#0d0887"
          ],
          [
           0.1111111111111111,
           "#46039f"
          ],
          [
           0.2222222222222222,
           "#7201a8"
          ],
          [
           0.3333333333333333,
           "#9c179e"
          ],
          [
           0.4444444444444444,
           "#bd3786"
          ],
          [
           0.5555555555555556,
           "#d8576b"
          ],
          [
           0.6666666666666666,
           "#ed7953"
          ],
          [
           0.7777777777777778,
           "#fb9f3a"
          ],
          [
           0.8888888888888888,
           "#fdca26"
          ],
          [
           1,
           "#f0f921"
          ]
         ]
        },
        "legend": {
         "itemsizing": "constant",
         "tracegroupgap": 0
        },
        "mapbox": {
         "bearing": 0,
         "center": {
          "lat": 40.99911728275876,
          "lon": -5.773471917979123
         },
         "domain": {
          "x": [
           0,
           1
          ],
          "y": [
           0,
           1
          ]
         },
         "pitch": 0,
         "style": "carto-positron",
         "zoom": 3.366146007779326
        },
        "template": {
         "data": {
          "bar": [
           {
            "error_x": {
             "color": "#2a3f5f"
            },
            "error_y": {
             "color": "#2a3f5f"
            },
            "marker": {
             "line": {
              "color": "#E5ECF6",
              "width": 0.5
             }
            },
            "type": "bar"
           }
          ],
          "barpolar": [
           {
            "marker": {
             "line": {
              "color": "#E5ECF6",
              "width": 0.5
             }
            },
            "type": "barpolar"
           }
          ],
          "carpet": [
           {
            "aaxis": {
             "endlinecolor": "#2a3f5f",
             "gridcolor": "white",
             "linecolor": "white",
             "minorgridcolor": "white",
             "startlinecolor": "#2a3f5f"
            },
            "baxis": {
             "endlinecolor": "#2a3f5f",
             "gridcolor": "white",
             "linecolor": "white",
             "minorgridcolor": "white",
             "startlinecolor": "#2a3f5f"
            },
            "type": "carpet"
           }
          ],
          "choropleth": [
           {
            "colorbar": {
             "outlinewidth": 0,
             "ticks": ""
            },
            "type": "choropleth"
           }
          ],
          "contour": [
           {
            "colorbar": {
             "outlinewidth": 0,
             "ticks": ""
            },
            "colorscale": [
             [
              0,
              "#0d0887"
             ],
             [
              0.1111111111111111,
              "#46039f"
             ],
             [
              0.2222222222222222,
              "#7201a8"
             ],
             [
              0.3333333333333333,
              "#9c179e"
             ],
             [
              0.4444444444444444,
              "#bd3786"
             ],
             [
              0.5555555555555556,
              "#d8576b"
             ],
             [
              0.6666666666666666,
              "#ed7953"
             ],
             [
              0.7777777777777778,
              "#fb9f3a"
             ],
             [
              0.8888888888888888,
              "#fdca26"
             ],
             [
              1,
              "#f0f921"
             ]
            ],
            "type": "contour"
           }
          ],
          "contourcarpet": [
           {
            "colorbar": {
             "outlinewidth": 0,
             "ticks": ""
            },
            "type": "contourcarpet"
           }
          ],
          "heatmap": [
           {
            "colorbar": {
             "outlinewidth": 0,
             "ticks": ""
            },
            "colorscale": [
             [
              0,
              "#0d0887"
             ],
             [
              0.1111111111111111,
              "#46039f"
             ],
             [
              0.2222222222222222,
              "#7201a8"
             ],
             [
              0.3333333333333333,
              "#9c179e"
             ],
             [
              0.4444444444444444,
              "#bd3786"
             ],
             [
              0.5555555555555556,
              "#d8576b"
             ],
             [
              0.6666666666666666,
              "#ed7953"
             ],
             [
              0.7777777777777778,
              "#fb9f3a"
             ],
             [
              0.8888888888888888,
              "#fdca26"
             ],
             [
              1,
              "#f0f921"
             ]
            ],
            "type": "heatmap"
           }
          ],
          "heatmapgl": [
           {
            "colorbar": {
             "outlinewidth": 0,
             "ticks": ""
            },
            "colorscale": [
             [
              0,
              "#0d0887"
             ],
             [
              0.1111111111111111,
              "#46039f"
             ],
             [
              0.2222222222222222,
              "#7201a8"
             ],
             [
              0.3333333333333333,
              "#9c179e"
             ],
             [
              0.4444444444444444,
              "#bd3786"
             ],
             [
              0.5555555555555556,
              "#d8576b"
             ],
             [
              0.6666666666666666,
              "#ed7953"
             ],
             [
              0.7777777777777778,
              "#fb9f3a"
             ],
             [
              0.8888888888888888,
              "#fdca26"
             ],
             [
              1,
              "#f0f921"
             ]
            ],
            "type": "heatmapgl"
           }
          ],
          "histogram": [
           {
            "marker": {
             "colorbar": {
              "outlinewidth": 0,
              "ticks": ""
             }
            },
            "type": "histogram"
           }
          ],
          "histogram2d": [
           {
            "colorbar": {
             "outlinewidth": 0,
             "ticks": ""
            },
            "colorscale": [
             [
              0,
              "#0d0887"
             ],
             [
              0.1111111111111111,
              "#46039f"
             ],
             [
              0.2222222222222222,
              "#7201a8"
             ],
             [
              0.3333333333333333,
              "#9c179e"
             ],
             [
              0.4444444444444444,
              "#bd3786"
             ],
             [
              0.5555555555555556,
              "#d8576b"
             ],
             [
              0.6666666666666666,
              "#ed7953"
             ],
             [
              0.7777777777777778,
              "#fb9f3a"
             ],
             [
              0.8888888888888888,
              "#fdca26"
             ],
             [
              1,
              "#f0f921"
             ]
            ],
            "type": "histogram2d"
           }
          ],
          "histogram2dcontour": [
           {
            "colorbar": {
             "outlinewidth": 0,
             "ticks": ""
            },
            "colorscale": [
             [
              0,
              "#0d0887"
             ],
             [
              0.1111111111111111,
              "#46039f"
             ],
             [
              0.2222222222222222,
              "#7201a8"
             ],
             [
              0.3333333333333333,
              "#9c179e"
             ],
             [
              0.4444444444444444,
              "#bd3786"
             ],
             [
              0.5555555555555556,
              "#d8576b"
             ],
             [
              0.6666666666666666,
              "#ed7953"
             ],
             [
              0.7777777777777778,
              "#fb9f3a"
             ],
             [
              0.8888888888888888,
              "#fdca26"
             ],
             [
              1,
              "#f0f921"
             ]
            ],
            "type": "histogram2dcontour"
           }
          ],
          "mesh3d": [
           {
            "colorbar": {
             "outlinewidth": 0,
             "ticks": ""
            },
            "type": "mesh3d"
           }
          ],
          "parcoords": [
           {
            "line": {
             "colorbar": {
              "outlinewidth": 0,
              "ticks": ""
             }
            },
            "type": "parcoords"
           }
          ],
          "pie": [
           {
            "automargin": true,
            "type": "pie"
           }
          ],
          "scatter": [
           {
            "marker": {
             "colorbar": {
              "outlinewidth": 0,
              "ticks": ""
             }
            },
            "type": "scatter"
           }
          ],
          "scatter3d": [
           {
            "line": {
             "colorbar": {
              "outlinewidth": 0,
              "ticks": ""
             }
            },
            "marker": {
             "colorbar": {
              "outlinewidth": 0,
              "ticks": ""
             }
            },
            "type": "scatter3d"
           }
          ],
          "scattercarpet": [
           {
            "marker": {
             "colorbar": {
              "outlinewidth": 0,
              "ticks": ""
             }
            },
            "type": "scattercarpet"
           }
          ],
          "scattergeo": [
           {
            "marker": {
             "colorbar": {
              "outlinewidth": 0,
              "ticks": ""
             }
            },
            "type": "scattergeo"
           }
          ],
          "scattergl": [
           {
            "marker": {
             "colorbar": {
              "outlinewidth": 0,
              "ticks": ""
             }
            },
            "type": "scattergl"
           }
          ],
          "scattermapbox": [
           {
            "marker": {
             "colorbar": {
              "outlinewidth": 0,
              "ticks": ""
             }
            },
            "type": "scattermapbox"
           }
          ],
          "scatterpolar": [
           {
            "marker": {
             "colorbar": {
              "outlinewidth": 0,
              "ticks": ""
             }
            },
            "type": "scatterpolar"
           }
          ],
          "scatterpolargl": [
           {
            "marker": {
             "colorbar": {
              "outlinewidth": 0,
              "ticks": ""
             }
            },
            "type": "scatterpolargl"
           }
          ],
          "scatterternary": [
           {
            "marker": {
             "colorbar": {
              "outlinewidth": 0,
              "ticks": ""
             }
            },
            "type": "scatterternary"
           }
          ],
          "surface": [
           {
            "colorbar": {
             "outlinewidth": 0,
             "ticks": ""
            },
            "colorscale": [
             [
              0,
              "#0d0887"
             ],
             [
              0.1111111111111111,
              "#46039f"
             ],
             [
              0.2222222222222222,
              "#7201a8"
             ],
             [
              0.3333333333333333,
              "#9c179e"
             ],
             [
              0.4444444444444444,
              "#bd3786"
             ],
             [
              0.5555555555555556,
              "#d8576b"
             ],
             [
              0.6666666666666666,
              "#ed7953"
             ],
             [
              0.7777777777777778,
              "#fb9f3a"
             ],
             [
              0.8888888888888888,
              "#fdca26"
             ],
             [
              1,
              "#f0f921"
             ]
            ],
            "type": "surface"
           }
          ],
          "table": [
           {
            "cells": {
             "fill": {
              "color": "#EBF0F8"
             },
             "line": {
              "color": "white"
             }
            },
            "header": {
             "fill": {
              "color": "#C8D4E3"
             },
             "line": {
              "color": "white"
             }
            },
            "type": "table"
           }
          ]
         },
         "layout": {
          "annotationdefaults": {
           "arrowcolor": "#2a3f5f",
           "arrowhead": 0,
           "arrowwidth": 1
          },
          "coloraxis": {
           "colorbar": {
            "outlinewidth": 0,
            "ticks": ""
           }
          },
          "colorscale": {
           "diverging": [
            [
             0,
             "#8e0152"
            ],
            [
             0.1,
             "#c51b7d"
            ],
            [
             0.2,
             "#de77ae"
            ],
            [
             0.3,
             "#f1b6da"
            ],
            [
             0.4,
             "#fde0ef"
            ],
            [
             0.5,
             "#f7f7f7"
            ],
            [
             0.6,
             "#e6f5d0"
            ],
            [
             0.7,
             "#b8e186"
            ],
            [
             0.8,
             "#7fbc41"
            ],
            [
             0.9,
             "#4d9221"
            ],
            [
             1,
             "#276419"
            ]
           ],
           "sequential": [
            [
             0,
             "#0d0887"
            ],
            [
             0.1111111111111111,
             "#46039f"
            ],
            [
             0.2222222222222222,
             "#7201a8"
            ],
            [
             0.3333333333333333,
             "#9c179e"
            ],
            [
             0.4444444444444444,
             "#bd3786"
            ],
            [
             0.5555555555555556,
             "#d8576b"
            ],
            [
             0.6666666666666666,
             "#ed7953"
            ],
            [
             0.7777777777777778,
             "#fb9f3a"
            ],
            [
             0.8888888888888888,
             "#fdca26"
            ],
            [
             1,
             "#f0f921"
            ]
           ],
           "sequentialminus": [
            [
             0,
             "#0d0887"
            ],
            [
             0.1111111111111111,
             "#46039f"
            ],
            [
             0.2222222222222222,
             "#7201a8"
            ],
            [
             0.3333333333333333,
             "#9c179e"
            ],
            [
             0.4444444444444444,
             "#bd3786"
            ],
            [
             0.5555555555555556,
             "#d8576b"
            ],
            [
             0.6666666666666666,
             "#ed7953"
            ],
            [
             0.7777777777777778,
             "#fb9f3a"
            ],
            [
             0.8888888888888888,
             "#fdca26"
            ],
            [
             1,
             "#f0f921"
            ]
           ]
          },
          "colorway": [
           "#636efa",
           "#EF553B",
           "#00cc96",
           "#ab63fa",
           "#FFA15A",
           "#19d3f3",
           "#FF6692",
           "#B6E880",
           "#FF97FF",
           "#FECB52"
          ],
          "font": {
           "color": "#2a3f5f"
          },
          "geo": {
           "bgcolor": "white",
           "lakecolor": "white",
           "landcolor": "#E5ECF6",
           "showlakes": true,
           "showland": true,
           "subunitcolor": "white"
          },
          "hoverlabel": {
           "align": "left"
          },
          "hovermode": "closest",
          "mapbox": {
           "style": "light"
          },
          "paper_bgcolor": "white",
          "plot_bgcolor": "#E5ECF6",
          "polar": {
           "angularaxis": {
            "gridcolor": "white",
            "linecolor": "white",
            "ticks": ""
           },
           "bgcolor": "#E5ECF6",
           "radialaxis": {
            "gridcolor": "white",
            "linecolor": "white",
            "ticks": ""
           }
          },
          "scene": {
           "xaxis": {
            "backgroundcolor": "#E5ECF6",
            "gridcolor": "white",
            "gridwidth": 2,
            "linecolor": "white",
            "showbackground": true,
            "ticks": "",
            "zerolinecolor": "white"
           },
           "yaxis": {
            "backgroundcolor": "#E5ECF6",
            "gridcolor": "white",
            "gridwidth": 2,
            "linecolor": "white",
            "showbackground": true,
            "ticks": "",
            "zerolinecolor": "white"
           },
           "zaxis": {
            "backgroundcolor": "#E5ECF6",
            "gridcolor": "white",
            "gridwidth": 2,
            "linecolor": "white",
            "showbackground": true,
            "ticks": "",
            "zerolinecolor": "white"
           }
          },
          "shapedefaults": {
           "line": {
            "color": "#2a3f5f"
           }
          },
          "ternary": {
           "aaxis": {
            "gridcolor": "white",
            "linecolor": "white",
            "ticks": ""
           },
           "baxis": {
            "gridcolor": "white",
            "linecolor": "white",
            "ticks": ""
           },
           "bgcolor": "#E5ECF6",
           "caxis": {
            "gridcolor": "white",
            "linecolor": "white",
            "ticks": ""
           }
          },
          "title": {
           "x": 0.05
          },
          "xaxis": {
           "automargin": true,
           "gridcolor": "white",
           "linecolor": "white",
           "ticks": "",
           "title": {
            "standoff": 15
           },
           "zerolinecolor": "white",
           "zerolinewidth": 2
          },
          "yaxis": {
           "automargin": true,
           "gridcolor": "white",
           "linecolor": "white",
           "ticks": "",
           "title": {
            "standoff": 15
           },
           "zerolinecolor": "white",
           "zerolinewidth": 2
          }
         }
        },
        "title": {
         "text": "Top-5 destinations"
        }
       }
      },
      "image/png": "[encoded data removed]",
      "text/html": [
       "<div>\n",
       "        \n",
       "        \n",
       "            <div id=\"4280b336-1c9a-4148-92f6-54f822560a83\" class=\"plotly-graph-div\" style=\"height:525px; width:100%;\"></div>\n",
       "            <script type=\"text/javascript\">\n",
       "                require([\"plotly\"], function(Plotly) {\n",
       "                    window.PLOTLYENV=window.PLOTLYENV || {};\n",
       "                    \n",
       "                if (document.getElementById(\"4280b336-1c9a-4148-92f6-54f822560a83\")) {\n",
       "                    Plotly.newPlot(\n",
       "                        '4280b336-1c9a-4148-92f6-54f822560a83',\n",
       "                        [{\"customdata\": [[18.869999999999997], [17.36375], [17.03875], [16.9675], [16.59375]], \"hovertemplate\": \"<b>%{hovertext}</b><br><br>rain=%{marker.size}<br>lat=%{lat}<br>lon=%{lon}<br>score=%{customdata[0]}<br>feels_like.day=%{marker.color}<extra></extra>\", \"hovertext\": [\"Collioure\", \"Aix en Provence\", \"Marseille\", \"Cassis\", \"Bormes les Mimosas\"], \"lat\": [42.52505, 43.5298424, 43.2961743, 43.2140359, 43.1506968], \"legendgroup\": \"\", \"lon\": [3.0831554, 5.4474738, 5.3699525, 5.5396318, 6.3419285], \"marker\": {\"color\": [18.869999999999997, 17.36375, 17.89875, 18.2775, 18.50375], \"coloraxis\": \"coloraxis\", \"size\": [0.0, 0.0, 0.86, 1.31, 1.91], \"sizemode\": \"area\", \"sizeref\": 0.004775}, \"mode\": \"markers\", \"name\": \"\", \"showlegend\": false, \"subplot\": \"mapbox\", \"type\": \"scattermapbox\"}],\n",
       "                        {\"coloraxis\": {\"colorbar\": {\"title\": {\"text\": \"feels_like.day\"}}, \"colorscale\": [[0.0, \"#0d0887\"], [0.1111111111111111, \"#46039f\"], [0.2222222222222222, \"#7201a8\"], [0.3333333333333333, \"#9c179e\"], [0.4444444444444444, \"#bd3786\"], [0.5555555555555556, \"#d8576b\"], [0.6666666666666666, \"#ed7953\"], [0.7777777777777778, \"#fb9f3a\"], [0.8888888888888888, \"#fdca26\"], [1.0, \"#f0f921\"]]}, \"legend\": {\"itemsizing\": \"constant\", \"tracegroupgap\": 0}, \"mapbox\": {\"center\": {\"lat\": 43.14315988, \"lon\": 5.1564284}, \"domain\": {\"x\": [0.0, 1.0], \"y\": [0.0, 1.0]}, \"style\": \"carto-positron\", \"zoom\": 3.5}, \"template\": {\"data\": {\"bar\": [{\"error_x\": {\"color\": \"#2a3f5f\"}, \"error_y\": {\"color\": \"#2a3f5f\"}, \"marker\": {\"line\": {\"color\": \"#E5ECF6\", \"width\": 0.5}}, \"type\": \"bar\"}], \"barpolar\": [{\"marker\": {\"line\": {\"color\": \"#E5ECF6\", \"width\": 0.5}}, \"type\": \"barpolar\"}], \"carpet\": [{\"aaxis\": {\"endlinecolor\": \"#2a3f5f\", \"gridcolor\": \"white\", \"linecolor\": \"white\", \"minorgridcolor\": \"white\", \"startlinecolor\": \"#2a3f5f\"}, \"baxis\": {\"endlinecolor\": \"#2a3f5f\", \"gridcolor\": \"white\", \"linecolor\": \"white\", \"minorgridcolor\": \"white\", \"startlinecolor\": \"#2a3f5f\"}, \"type\": \"carpet\"}], \"choropleth\": [{\"colorbar\": {\"outlinewidth\": 0, \"ticks\": \"\"}, \"type\": \"choropleth\"}], \"contour\": [{\"colorbar\": {\"outlinewidth\": 0, \"ticks\": \"\"}, \"colorscale\": [[0.0, \"#0d0887\"], [0.1111111111111111, \"#46039f\"], [0.2222222222222222, \"#7201a8\"], [0.3333333333333333, \"#9c179e\"], [0.4444444444444444, \"#bd3786\"], [0.5555555555555556, \"#d8576b\"], [0.6666666666666666, \"#ed7953\"], [0.7777777777777778, \"#fb9f3a\"], [0.8888888888888888, \"#fdca26\"], [1.0, \"#f0f921\"]], \"type\": \"contour\"}], \"contourcarpet\": [{\"colorbar\": {\"outlinewidth\": 0, \"ticks\": \"\"}, \"type\": \"contourcarpet\"}], \"heatmap\": [{\"colorbar\": {\"outlinewidth\": 0, \"ticks\": \"\"}, \"colorscale\": [[0.0, \"#0d0887\"], [0.1111111111111111, \"#46039f\"], [0.2222222222222222, \"#7201a8\"], [0.3333333333333333, \"#9c179e\"], [0.4444444444444444, \"#bd3786\"], [0.5555555555555556, \"#d8576b\"], [0.6666666666666666, \"#ed7953\"], [0.7777777777777778, \"#fb9f3a\"], [0.8888888888888888, \"#fdca26\"], [1.0, \"#f0f921\"]], \"type\": \"heatmap\"}], \"heatmapgl\": [{\"colorbar\": {\"outlinewidth\": 0, \"ticks\": \"\"}, \"colorscale\": [[0.0, \"#0d0887\"], [0.1111111111111111, \"#46039f\"], [0.2222222222222222, \"#7201a8\"], [0.3333333333333333, \"#9c179e\"], [0.4444444444444444, \"#bd3786\"], [0.5555555555555556, \"#d8576b\"], [0.6666666666666666, \"#ed7953\"], [0.7777777777777778, \"#fb9f3a\"], [0.8888888888888888, \"#fdca26\"], [1.0, \"#f0f921\"]], \"type\": \"heatmapgl\"}], \"histogram\": [{\"marker\": {\"colorbar\": {\"outlinewidth\": 0, \"ticks\": \"\"}}, \"type\": \"histogram\"}], \"histogram2d\": [{\"colorbar\": {\"outlinewidth\": 0, \"ticks\": \"\"}, \"colorscale\": [[0.0, \"#0d0887\"], [0.1111111111111111, \"#46039f\"], [0.2222222222222222, \"#7201a8\"], [0.3333333333333333, \"#9c179e\"], [0.4444444444444444, \"#bd3786\"], [0.5555555555555556, \"#d8576b\"], [0.6666666666666666, \"#ed7953\"], [0.7777777777777778, \"#fb9f3a\"], [0.8888888888888888, \"#fdca26\"], [1.0, \"#f0f921\"]], \"type\": \"histogram2d\"}], \"histogram2dcontour\": [{\"colorbar\": {\"outlinewidth\": 0, \"ticks\": \"\"}, \"colorscale\": [[0.0, \"#0d0887\"], [0.1111111111111111, \"#46039f\"], [0.2222222222222222, \"#7201a8\"], [0.3333333333333333, \"#9c179e\"], [0.4444444444444444, \"#bd3786\"], [0.5555555555555556, \"#d8576b\"], [0.6666666666666666, \"#ed7953\"], [0.7777777777777778, \"#fb9f3a\"], [0.8888888888888888, \"#fdca26\"], [1.0, \"#f0f921\"]], \"type\": \"histogram2dcontour\"}], \"mesh3d\": [{\"colorbar\": {\"outlinewidth\": 0, \"ticks\": \"\"}, \"type\": \"mesh3d\"}], \"parcoords\": [{\"line\": {\"colorbar\": {\"outlinewidth\": 0, \"ticks\": \"\"}}, \"type\": \"parcoords\"}], \"pie\": [{\"automargin\": true, \"type\": \"pie\"}], \"scatter\": [{\"marker\": {\"colorbar\": {\"outlinewidth\": 0, \"ticks\": \"\"}}, \"type\": \"scatter\"}], \"scatter3d\": [{\"line\": {\"colorbar\": {\"outlinewidth\": 0, \"ticks\": \"\"}}, \"marker\": {\"colorbar\": {\"outlinewidth\": 0, \"ticks\": \"\"}}, \"type\": \"scatter3d\"}], \"scattercarpet\": [{\"marker\": {\"colorbar\": {\"outlinewidth\": 0, \"ticks\": \"\"}}, \"type\": \"scattercarpet\"}], \"scattergeo\": [{\"marker\": {\"colorbar\": {\"outlinewidth\": 0, \"ticks\": \"\"}}, \"type\": \"scattergeo\"}], \"scattergl\": [{\"marker\": {\"colorbar\": {\"outlinewidth\": 0, \"ticks\": \"\"}}, \"type\": \"scattergl\"}], \"scattermapbox\": [{\"marker\": {\"colorbar\": {\"outlinewidth\": 0, \"ticks\": \"\"}}, \"type\": \"scattermapbox\"}], \"scatterpolar\": [{\"marker\": {\"colorbar\": {\"outlinewidth\": 0, \"ticks\": \"\"}}, \"type\": \"scatterpolar\"}], \"scatterpolargl\": [{\"marker\": {\"colorbar\": {\"outlinewidth\": 0, \"ticks\": \"\"}}, \"type\": \"scatterpolargl\"}], \"scatterternary\": [{\"marker\": {\"colorbar\": {\"outlinewidth\": 0, \"ticks\": \"\"}}, \"type\": \"scatterternary\"}], \"surface\": [{\"colorbar\": {\"outlinewidth\": 0, \"ticks\": \"\"}, \"colorscale\": [[0.0, \"#0d0887\"], [0.1111111111111111, \"#46039f\"], [0.2222222222222222, \"#7201a8\"], [0.3333333333333333, \"#9c179e\"], [0.4444444444444444, \"#bd3786\"], [0.5555555555555556, \"#d8576b\"], [0.6666666666666666, \"#ed7953\"], [0.7777777777777778, \"#fb9f3a\"], [0.8888888888888888, \"#fdca26\"], [1.0, \"#f0f921\"]], \"type\": \"surface\"}], \"table\": [{\"cells\": {\"fill\": {\"color\": \"#EBF0F8\"}, \"line\": {\"color\": \"white\"}}, \"header\": {\"fill\": {\"color\": \"#C8D4E3\"}, \"line\": {\"color\": \"white\"}}, \"type\": \"table\"}]}, \"layout\": {\"annotationdefaults\": {\"arrowcolor\": \"#2a3f5f\", \"arrowhead\": 0, \"arrowwidth\": 1}, \"coloraxis\": {\"colorbar\": {\"outlinewidth\": 0, \"ticks\": \"\"}}, \"colorscale\": {\"diverging\": [[0, \"#8e0152\"], [0.1, \"#c51b7d\"], [0.2, \"#de77ae\"], [0.3, \"#f1b6da\"], [0.4, \"#fde0ef\"], [0.5, \"#f7f7f7\"], [0.6, \"#e6f5d0\"], [0.7, \"#b8e186\"], [0.8, \"#7fbc41\"], [0.9, \"#4d9221\"], [1, \"#276419\"]], \"sequential\": [[0.0, \"#0d0887\"], [0.1111111111111111, \"#46039f\"], [0.2222222222222222, \"#7201a8\"], [0.3333333333333333, \"#9c179e\"], [0.4444444444444444, \"#bd3786\"], [0.5555555555555556, \"#d8576b\"], [0.6666666666666666, \"#ed7953\"], [0.7777777777777778, \"#fb9f3a\"], [0.8888888888888888, \"#fdca26\"], [1.0, \"#f0f921\"]], \"sequentialminus\": [[0.0, \"#0d0887\"], [0.1111111111111111, \"#46039f\"], [0.2222222222222222, \"#7201a8\"], [0.3333333333333333, \"#9c179e\"], [0.4444444444444444, \"#bd3786\"], [0.5555555555555556, \"#d8576b\"], [0.6666666666666666, \"#ed7953\"], [0.7777777777777778, \"#fb9f3a\"], [0.8888888888888888, \"#fdca26\"], [1.0, \"#f0f921\"]]}, \"colorway\": [\"#636efa\", \"#EF553B\", \"#00cc96\", \"#ab63fa\", \"#FFA15A\", \"#19d3f3\", \"#FF6692\", \"#B6E880\", \"#FF97FF\", \"#FECB52\"], \"font\": {\"color\": \"#2a3f5f\"}, \"geo\": {\"bgcolor\": \"white\", \"lakecolor\": \"white\", \"landcolor\": \"#E5ECF6\", \"showlakes\": true, \"showland\": true, \"subunitcolor\": \"white\"}, \"hoverlabel\": {\"align\": \"left\"}, \"hovermode\": \"closest\", \"mapbox\": {\"style\": \"light\"}, \"paper_bgcolor\": \"white\", \"plot_bgcolor\": \"#E5ECF6\", \"polar\": {\"angularaxis\": {\"gridcolor\": \"white\", \"linecolor\": \"white\", \"ticks\": \"\"}, \"bgcolor\": \"#E5ECF6\", \"radialaxis\": {\"gridcolor\": \"white\", \"linecolor\": \"white\", \"ticks\": \"\"}}, \"scene\": {\"xaxis\": {\"backgroundcolor\": \"#E5ECF6\", \"gridcolor\": \"white\", \"gridwidth\": 2, \"linecolor\": \"white\", \"showbackground\": true, \"ticks\": \"\", \"zerolinecolor\": \"white\"}, \"yaxis\": {\"backgroundcolor\": \"#E5ECF6\", \"gridcolor\": \"white\", \"gridwidth\": 2, \"linecolor\": \"white\", \"showbackground\": true, \"ticks\": \"\", \"zerolinecolor\": \"white\"}, \"zaxis\": {\"backgroundcolor\": \"#E5ECF6\", \"gridcolor\": \"white\", \"gridwidth\": 2, \"linecolor\": \"white\", \"showbackground\": true, \"ticks\": \"\", \"zerolinecolor\": \"white\"}}, \"shapedefaults\": {\"line\": {\"color\": \"#2a3f5f\"}}, \"ternary\": {\"aaxis\": {\"gridcolor\": \"white\", \"linecolor\": \"white\", \"ticks\": \"\"}, \"baxis\": {\"gridcolor\": \"white\", \"linecolor\": \"white\", \"ticks\": \"\"}, \"bgcolor\": \"#E5ECF6\", \"caxis\": {\"gridcolor\": \"white\", \"linecolor\": \"white\", \"ticks\": \"\"}}, \"title\": {\"x\": 0.05}, \"xaxis\": {\"automargin\": true, \"gridcolor\": \"white\", \"linecolor\": \"white\", \"ticks\": \"\", \"title\": {\"standoff\": 15}, \"zerolinecolor\": \"white\", \"zerolinewidth\": 2}, \"yaxis\": {\"automargin\": true, \"gridcolor\": \"white\", \"linecolor\": \"white\", \"ticks\": \"\", \"title\": {\"standoff\": 15}, \"zerolinecolor\": \"white\", \"zerolinewidth\": 2}}}, \"title\": {\"text\": \"Top-5 destinations\"}},\n",
       "                        {\"responsive\": true}\n",
       "                    ).then(function(){\n",
       "                            \n",
       "var gd = document.getElementById('4280b336-1c9a-4148-92f6-54f822560a83');\n",
       "var x = new MutationObserver(function (mutations, observer) {{\n",
       "        var display = window.getComputedStyle(gd).display;\n",
       "        if (!display || display === 'none') {{\n",
       "            console.log([gd, 'removed!']);\n",
       "            Plotly.purge(gd);\n",
       "            observer.disconnect();\n",
       "        }}\n",
       "}});\n",
       "\n",
       "// Listen for the removal of the full notebook cells\n",
       "var notebookContainer = gd.closest('#notebook-container');\n",
       "if (notebookContainer) {{\n",
       "    x.observe(notebookContainer, {childList: true});\n",
       "}}\n",
       "\n",
       "// Listen for the clearing of the current output cell\n",
       "var outputEl = gd.closest('.output');\n",
       "if (outputEl) {{\n",
       "    x.observe(outputEl, {childList: true});\n",
       "}}\n",
       "\n",
       "                        })\n",
       "                };\n",
       "                });\n",
       "            </script>\n",
       "        </div>"
      ]
     },
     "metadata": {},
     "output_type": "display_data"
    }
   ],
   "source": [
    "fig = px.scatter_mapbox(cities_weather.head(), lat=\"lat\", lon=\"lon\", color=\"feels_like.day\", \\\n",
    "                        size=\"rain\",hover_name=\"city\", hover_data=[\"score\"], zoom=3.5,\\\n",
    "                        mapbox_style=\"carto-positron\",title= \"Top-5 destinations\")\n",
    "fig.show()"
   ]
  },
  {
   "cell_type": "code",
   "execution_count": 102,
   "metadata": {},
   "outputs": [],
   "source": [
    "#Get Top-20 hotels in the area of the best destination"
   ]
  },
  {
   "cell_type": "code",
   "execution_count": 103,
   "metadata": {},
   "outputs": [],
   "source": [
    "best_city = cities_weather.head(1)"
   ]
  },
  {
   "cell_type": "code",
   "execution_count": 104,
   "metadata": {},
   "outputs": [
    {
     "name": "stdout",
     "output_type": "stream",
     "text": [
      "The best destination is :\n"
     ]
    }
   ],
   "source": [
    "print(\"The best destination is :\")"
   ]
  },
  {
   "cell_type": "code",
   "execution_count": 105,
   "metadata": {},
   "outputs": [
    {
     "data": {
      "text/html": [
       "<div>\n",
       "<style scoped>\n",
       "    .dataframe tbody tr th:only-of-type {\n",
       "        vertical-align: middle;\n",
       "    }\n",
       "\n",
       "    .dataframe tbody tr th {\n",
       "        vertical-align: top;\n",
       "    }\n",
       "\n",
       "    .dataframe thead th {\n",
       "        text-align: right;\n",
       "    }\n",
       "</style>\n",
       "<table border=\"1\" class=\"dataframe\">\n",
       "  <thead>\n",
       "    <tr style=\"text-align: right;\">\n",
       "      <th></th>\n",
       "      <th>id</th>\n",
       "      <th>city</th>\n",
       "      <th>lat</th>\n",
       "      <th>lon</th>\n",
       "      <th>feels_like.day</th>\n",
       "      <th>rain</th>\n",
       "      <th>score</th>\n",
       "    </tr>\n",
       "  </thead>\n",
       "  <tbody>\n",
       "    <tr>\n",
       "      <th>27</th>\n",
       "      <td>28</td>\n",
       "      <td>Collioure</td>\n",
       "      <td>42.52505</td>\n",
       "      <td>3.083155</td>\n",
       "      <td>18.87</td>\n",
       "      <td>0.0</td>\n",
       "      <td>18.87</td>\n",
       "    </tr>\n",
       "  </tbody>\n",
       "</table>\n",
       "</div>"
      ],
      "text/plain": [
       "    id       city       lat       lon  feels_like.day  rain  score\n",
       "27  28  Collioure  42.52505  3.083155           18.87   0.0  18.87"
      ]
     },
     "execution_count": 105,
     "metadata": {},
     "output_type": "execute_result"
    }
   ],
   "source": [
    "best_city"
   ]
  },
  {
   "cell_type": "code",
   "execution_count": 106,
   "metadata": {},
   "outputs": [],
   "source": [
    "best_hotels = hotels.loc[hotels['city_id'] == best_city['id'].iloc[0], hotels.columns]"
   ]
  },
  {
   "cell_type": "code",
   "execution_count": 107,
   "metadata": {},
   "outputs": [],
   "source": [
    "best_hotels = best_hotels.sort_values(by='score', ascending = False)"
   ]
  },
  {
   "cell_type": "code",
   "execution_count": 108,
   "metadata": {},
   "outputs": [
    {
     "data": {
      "text/html": [
       "<div>\n",
       "<style scoped>\n",
       "    .dataframe tbody tr th:only-of-type {\n",
       "        vertical-align: middle;\n",
       "    }\n",
       "\n",
       "    .dataframe tbody tr th {\n",
       "        vertical-align: top;\n",
       "    }\n",
       "\n",
       "    .dataframe thead th {\n",
       "        text-align: right;\n",
       "    }\n",
       "</style>\n",
       "<table border=\"1\" class=\"dataframe\">\n",
       "  <thead>\n",
       "    <tr style=\"text-align: right;\">\n",
       "      <th></th>\n",
       "      <th>id</th>\n",
       "      <th>name</th>\n",
       "      <th>url</th>\n",
       "      <th>description</th>\n",
       "      <th>lat</th>\n",
       "      <th>lon</th>\n",
       "      <th>score</th>\n",
       "      <th>city_id</th>\n",
       "    </tr>\n",
       "  </thead>\n",
       "  <tbody>\n",
       "    <tr>\n",
       "      <th>575</th>\n",
       "      <td>576</td>\n",
       "      <td>Hôtel La Casa Pairal</td>\n",
       "      <td>https://www.booking.com/hotel/fr/hotelcasapair...</td>\n",
       "      <td>Situated 250 metres from Collioure beach and p...</td>\n",
       "      <td>42.526167</td>\n",
       "      <td>3.082356</td>\n",
       "      <td>4</td>\n",
       "      <td>28</td>\n",
       "    </tr>\n",
       "    <tr>\n",
       "      <th>598</th>\n",
       "      <td>599</td>\n",
       "      <td>Les mimosas</td>\n",
       "      <td>https://www.booking.com/hotel/fr/les-mimosas-c...</td>\n",
       "      <td>Situated 2 km from Racou Beach, Les mimosas fe...</td>\n",
       "      <td>42.524325</td>\n",
       "      <td>3.077175</td>\n",
       "      <td>4</td>\n",
       "      <td>28</td>\n",
       "    </tr>\n",
       "    <tr>\n",
       "      <th>591</th>\n",
       "      <td>592</td>\n",
       "      <td>Le Relais Des Trois Mas</td>\n",
       "      <td>https://www.booking.com/hotel/fr/le-relais-des...</td>\n",
       "      <td>Boasting a swimming pool on a terrace looking ...</td>\n",
       "      <td>42.524173</td>\n",
       "      <td>3.089311</td>\n",
       "      <td>4</td>\n",
       "      <td>28</td>\n",
       "    </tr>\n",
       "    <tr>\n",
       "      <th>589</th>\n",
       "      <td>590</td>\n",
       "      <td>Les Suites de Collioure</td>\n",
       "      <td>https://www.booking.com/hotel/fr/les-suites-de...</td>\n",
       "      <td>Located in Collioure, Les Suites de Collioure ...</td>\n",
       "      <td>42.524390</td>\n",
       "      <td>3.082726</td>\n",
       "      <td>4</td>\n",
       "      <td>28</td>\n",
       "    </tr>\n",
       "    <tr>\n",
       "      <th>576</th>\n",
       "      <td>577</td>\n",
       "      <td>Residence Pierre &amp; Vacances Les Balcons de Col...</td>\n",
       "      <td>https://www.booking.com/hotel/fr/maevabalconsd...</td>\n",
       "      <td>Residence Pierre &amp; Vacances Les Balcons de Col...</td>\n",
       "      <td>42.525106</td>\n",
       "      <td>3.090436</td>\n",
       "      <td>3</td>\n",
       "      <td>28</td>\n",
       "    </tr>\n",
       "    <tr>\n",
       "      <th>597</th>\n",
       "      <td>598</td>\n",
       "      <td>La Chambre De Salome</td>\n",
       "      <td>https://www.booking.com/hotel/fr/la-chambre-de...</td>\n",
       "      <td>Situated in Collioure, 2.3 km from Racou Beach...</td>\n",
       "      <td>42.521117</td>\n",
       "      <td>3.077309</td>\n",
       "      <td>3</td>\n",
       "      <td>28</td>\n",
       "    </tr>\n",
       "    <tr>\n",
       "      <th>596</th>\n",
       "      <td>597</td>\n",
       "      <td>Les Jasmins</td>\n",
       "      <td>https://www.booking.com/hotel/fr/chambre-d-39-...</td>\n",
       "      <td>Chambre d'hôtes Les Jasmins a B&amp;B located in C...</td>\n",
       "      <td>42.523548</td>\n",
       "      <td>3.081874</td>\n",
       "      <td>3</td>\n",
       "      <td>28</td>\n",
       "    </tr>\n",
       "    <tr>\n",
       "      <th>593</th>\n",
       "      <td>594</td>\n",
       "      <td>RESIDENCE L'ALZINE 6ALZ8</td>\n",
       "      <td>https://www.booking.com/hotel/fr/residence-l-3...</td>\n",
       "      <td>Located 2.9 km from Racou Beach and 1.3 km fro...</td>\n",
       "      <td>42.524927</td>\n",
       "      <td>3.090425</td>\n",
       "      <td>3</td>\n",
       "      <td>28</td>\n",
       "    </tr>\n",
       "    <tr>\n",
       "      <th>592</th>\n",
       "      <td>593</td>\n",
       "      <td>Résidence Saint Vincent</td>\n",
       "      <td>https://www.booking.com/hotel/fr/residence-sai...</td>\n",
       "      <td>Set in Collioure, 2.3 km from Racou Beach and ...</td>\n",
       "      <td>42.527301</td>\n",
       "      <td>3.084233</td>\n",
       "      <td>3</td>\n",
       "      <td>28</td>\n",
       "    </tr>\n",
       "    <tr>\n",
       "      <th>590</th>\n",
       "      <td>591</td>\n",
       "      <td>appart central</td>\n",
       "      <td>https://www.booking.com/hotel/fr/appart-centra...</td>\n",
       "      <td>Situated in Collioure, 2.3 km from Racou Beach...</td>\n",
       "      <td>42.524882</td>\n",
       "      <td>3.081879</td>\n",
       "      <td>3</td>\n",
       "      <td>28</td>\n",
       "    </tr>\n",
       "    <tr>\n",
       "      <th>588</th>\n",
       "      <td>589</td>\n",
       "      <td>Au coeur de Collioure</td>\n",
       "      <td>https://www.booking.com/hotel/fr/au-coeur-de-c...</td>\n",
       "      <td>Set in Collioure, 2.3 km from Racou Beach and ...</td>\n",
       "      <td>42.527394</td>\n",
       "      <td>3.084758</td>\n",
       "      <td>3</td>\n",
       "      <td>28</td>\n",
       "    </tr>\n",
       "    <tr>\n",
       "      <th>587</th>\n",
       "      <td>588</td>\n",
       "      <td>Hôtel Princes de Catalogne</td>\n",
       "      <td>https://www.booking.com/hotel/fr/princes-de-ca...</td>\n",
       "      <td>Situated on a quiet square in picturesque Coll...</td>\n",
       "      <td>42.525914</td>\n",
       "      <td>3.082682</td>\n",
       "      <td>3</td>\n",
       "      <td>28</td>\n",
       "    </tr>\n",
       "    <tr>\n",
       "      <th>586</th>\n",
       "      <td>587</td>\n",
       "      <td>Les Imperiales</td>\n",
       "      <td>https://www.booking.com/hotel/fr/les-imperiale...</td>\n",
       "      <td>Featuring sea views, Les Imperiales provides a...</td>\n",
       "      <td>42.522781</td>\n",
       "      <td>3.093009</td>\n",
       "      <td>3</td>\n",
       "      <td>28</td>\n",
       "    </tr>\n",
       "    <tr>\n",
       "      <th>585</th>\n",
       "      <td>586</td>\n",
       "      <td>Residence Les Balcons de Collioure - maeva Home</td>\n",
       "      <td>https://www.booking.com/hotel/fr/maeva-particu...</td>\n",
       "      <td>Set within a 6-minute walk of Collioure Royal ...</td>\n",
       "      <td>42.525073</td>\n",
       "      <td>3.090157</td>\n",
       "      <td>3</td>\n",
       "      <td>28</td>\n",
       "    </tr>\n",
       "    <tr>\n",
       "      <th>584</th>\n",
       "      <td>585</td>\n",
       "      <td>Ibanova</td>\n",
       "      <td>https://www.booking.com/hotel/fr/ibanova.en-gb...</td>\n",
       "      <td>Set in Collioure in the Languedoc-Roussillon r...</td>\n",
       "      <td>42.523133</td>\n",
       "      <td>3.085576</td>\n",
       "      <td>3</td>\n",
       "      <td>28</td>\n",
       "    </tr>\n",
       "    <tr>\n",
       "      <th>581</th>\n",
       "      <td>582</td>\n",
       "      <td>La Frégate</td>\n",
       "      <td>https://www.booking.com/hotel/fr/la-fra-c-gate...</td>\n",
       "      <td>Nestled in the heart of the village of Colliou...</td>\n",
       "      <td>42.526386</td>\n",
       "      <td>3.083257</td>\n",
       "      <td>3</td>\n",
       "      <td>28</td>\n",
       "    </tr>\n",
       "    <tr>\n",
       "      <th>578</th>\n",
       "      <td>579</td>\n",
       "      <td>Le Mas des Citronniers</td>\n",
       "      <td>https://www.booking.com/hotel/fr/lesmasdescitr...</td>\n",
       "      <td>Located in the centre of Collioure, just 250 m...</td>\n",
       "      <td>42.525382</td>\n",
       "      <td>3.082564</td>\n",
       "      <td>3</td>\n",
       "      <td>28</td>\n",
       "    </tr>\n",
       "    <tr>\n",
       "      <th>577</th>\n",
       "      <td>578</td>\n",
       "      <td>Le Madeloc Hôtel &amp; Spa</td>\n",
       "      <td>https://www.booking.com/hotel/fr/madeloc.en-gb...</td>\n",
       "      <td>Just 500 metres from Collioure town centre and...</td>\n",
       "      <td>42.528765</td>\n",
       "      <td>3.078654</td>\n",
       "      <td>3</td>\n",
       "      <td>28</td>\n",
       "    </tr>\n",
       "    <tr>\n",
       "      <th>582</th>\n",
       "      <td>583</td>\n",
       "      <td>Hôtel des Templiers</td>\n",
       "      <td>https://www.booking.com/hotel/fr/ha-tel-des-te...</td>\n",
       "      <td>Featuring 2000 original artworks by 20th-centu...</td>\n",
       "      <td>42.526665</td>\n",
       "      <td>3.083941</td>\n",
       "      <td>2</td>\n",
       "      <td>28</td>\n",
       "    </tr>\n",
       "    <tr>\n",
       "      <th>580</th>\n",
       "      <td>581</td>\n",
       "      <td>Résidence du Soleil</td>\n",
       "      <td>https://www.booking.com/hotel/fr/residence-du-...</td>\n",
       "      <td>Set 400 metres from Collioure Royal Castle in ...</td>\n",
       "      <td>42.523118</td>\n",
       "      <td>3.085425</td>\n",
       "      <td>2</td>\n",
       "      <td>28</td>\n",
       "    </tr>\n",
       "    <tr>\n",
       "      <th>579</th>\n",
       "      <td>580</td>\n",
       "      <td>Hôtel Triton</td>\n",
       "      <td>https://www.booking.com/hotel/fr/triton.en-gb....</td>\n",
       "      <td>Set on the Boutiquet Beach, this hotel offers ...</td>\n",
       "      <td>42.523716</td>\n",
       "      <td>3.087135</td>\n",
       "      <td>2</td>\n",
       "      <td>28</td>\n",
       "    </tr>\n",
       "    <tr>\n",
       "      <th>583</th>\n",
       "      <td>584</td>\n",
       "      <td>Les Amandiers</td>\n",
       "      <td>https://www.booking.com/hotel/fr/les-amandiers...</td>\n",
       "      <td>Situated in Collioure, 2.6 km from Racou Beach...</td>\n",
       "      <td>42.524188</td>\n",
       "      <td>3.080886</td>\n",
       "      <td>0</td>\n",
       "      <td>28</td>\n",
       "    </tr>\n",
       "    <tr>\n",
       "      <th>594</th>\n",
       "      <td>595</td>\n",
       "      <td>Residence Port D'Avall</td>\n",
       "      <td>https://www.booking.com/hotel/fr/residence-por...</td>\n",
       "      <td>Located 300 metres from the beach in Collioure...</td>\n",
       "      <td>42.522267</td>\n",
       "      <td>3.088695</td>\n",
       "      <td>0</td>\n",
       "      <td>28</td>\n",
       "    </tr>\n",
       "    <tr>\n",
       "      <th>595</th>\n",
       "      <td>596</td>\n",
       "      <td>Appartement de charme à 50m de la plage de sable</td>\n",
       "      <td>https://www.booking.com/hotel/fr/appartement-d...</td>\n",
       "      <td>Set in Collioure, just 2.5 km from Racou Beach...</td>\n",
       "      <td>42.523882</td>\n",
       "      <td>3.084402</td>\n",
       "      <td>0</td>\n",
       "      <td>28</td>\n",
       "    </tr>\n",
       "    <tr>\n",
       "      <th>599</th>\n",
       "      <td>600</td>\n",
       "      <td>Le Mouret</td>\n",
       "      <td>https://www.booking.com/hotel/fr/le-mouret.en-...</td>\n",
       "      <td>Le Mouret is a beachfront property situated in...</td>\n",
       "      <td>42.528223</td>\n",
       "      <td>3.084889</td>\n",
       "      <td>0</td>\n",
       "      <td>28</td>\n",
       "    </tr>\n",
       "  </tbody>\n",
       "</table>\n",
       "</div>"
      ],
      "text/plain": [
       "      id                                               name  \\\n",
       "575  576                               Hôtel La Casa Pairal   \n",
       "598  599                                        Les mimosas   \n",
       "591  592                            Le Relais Des Trois Mas   \n",
       "589  590                            Les Suites de Collioure   \n",
       "576  577  Residence Pierre & Vacances Les Balcons de Col...   \n",
       "597  598                               La Chambre De Salome   \n",
       "596  597                                        Les Jasmins   \n",
       "593  594                           RESIDENCE L'ALZINE 6ALZ8   \n",
       "592  593                            Résidence Saint Vincent   \n",
       "590  591                                     appart central   \n",
       "588  589                              Au coeur de Collioure   \n",
       "587  588                         Hôtel Princes de Catalogne   \n",
       "586  587                                     Les Imperiales   \n",
       "585  586    Residence Les Balcons de Collioure - maeva Home   \n",
       "584  585                                            Ibanova   \n",
       "581  582                                         La Frégate   \n",
       "578  579                             Le Mas des Citronniers   \n",
       "577  578                             Le Madeloc Hôtel & Spa   \n",
       "582  583                                Hôtel des Templiers   \n",
       "580  581                                Résidence du Soleil   \n",
       "579  580                                       Hôtel Triton   \n",
       "583  584                                      Les Amandiers   \n",
       "594  595                             Residence Port D'Avall   \n",
       "595  596   Appartement de charme à 50m de la plage de sable   \n",
       "599  600                                          Le Mouret   \n",
       "\n",
       "                                                   url  \\\n",
       "575  https://www.booking.com/hotel/fr/hotelcasapair...   \n",
       "598  https://www.booking.com/hotel/fr/les-mimosas-c...   \n",
       "591  https://www.booking.com/hotel/fr/le-relais-des...   \n",
       "589  https://www.booking.com/hotel/fr/les-suites-de...   \n",
       "576  https://www.booking.com/hotel/fr/maevabalconsd...   \n",
       "597  https://www.booking.com/hotel/fr/la-chambre-de...   \n",
       "596  https://www.booking.com/hotel/fr/chambre-d-39-...   \n",
       "593  https://www.booking.com/hotel/fr/residence-l-3...   \n",
       "592  https://www.booking.com/hotel/fr/residence-sai...   \n",
       "590  https://www.booking.com/hotel/fr/appart-centra...   \n",
       "588  https://www.booking.com/hotel/fr/au-coeur-de-c...   \n",
       "587  https://www.booking.com/hotel/fr/princes-de-ca...   \n",
       "586  https://www.booking.com/hotel/fr/les-imperiale...   \n",
       "585  https://www.booking.com/hotel/fr/maeva-particu...   \n",
       "584  https://www.booking.com/hotel/fr/ibanova.en-gb...   \n",
       "581  https://www.booking.com/hotel/fr/la-fra-c-gate...   \n",
       "578  https://www.booking.com/hotel/fr/lesmasdescitr...   \n",
       "577  https://www.booking.com/hotel/fr/madeloc.en-gb...   \n",
       "582  https://www.booking.com/hotel/fr/ha-tel-des-te...   \n",
       "580  https://www.booking.com/hotel/fr/residence-du-...   \n",
       "579  https://www.booking.com/hotel/fr/triton.en-gb....   \n",
       "583  https://www.booking.com/hotel/fr/les-amandiers...   \n",
       "594  https://www.booking.com/hotel/fr/residence-por...   \n",
       "595  https://www.booking.com/hotel/fr/appartement-d...   \n",
       "599  https://www.booking.com/hotel/fr/le-mouret.en-...   \n",
       "\n",
       "                                           description        lat       lon  \\\n",
       "575  Situated 250 metres from Collioure beach and p...  42.526167  3.082356   \n",
       "598  Situated 2 km from Racou Beach, Les mimosas fe...  42.524325  3.077175   \n",
       "591  Boasting a swimming pool on a terrace looking ...  42.524173  3.089311   \n",
       "589  Located in Collioure, Les Suites de Collioure ...  42.524390  3.082726   \n",
       "576  Residence Pierre & Vacances Les Balcons de Col...  42.525106  3.090436   \n",
       "597  Situated in Collioure, 2.3 km from Racou Beach...  42.521117  3.077309   \n",
       "596  Chambre d'hôtes Les Jasmins a B&B located in C...  42.523548  3.081874   \n",
       "593  Located 2.9 km from Racou Beach and 1.3 km fro...  42.524927  3.090425   \n",
       "592  Set in Collioure, 2.3 km from Racou Beach and ...  42.527301  3.084233   \n",
       "590  Situated in Collioure, 2.3 km from Racou Beach...  42.524882  3.081879   \n",
       "588  Set in Collioure, 2.3 km from Racou Beach and ...  42.527394  3.084758   \n",
       "587  Situated on a quiet square in picturesque Coll...  42.525914  3.082682   \n",
       "586  Featuring sea views, Les Imperiales provides a...  42.522781  3.093009   \n",
       "585  Set within a 6-minute walk of Collioure Royal ...  42.525073  3.090157   \n",
       "584  Set in Collioure in the Languedoc-Roussillon r...  42.523133  3.085576   \n",
       "581  Nestled in the heart of the village of Colliou...  42.526386  3.083257   \n",
       "578  Located in the centre of Collioure, just 250 m...  42.525382  3.082564   \n",
       "577  Just 500 metres from Collioure town centre and...  42.528765  3.078654   \n",
       "582  Featuring 2000 original artworks by 20th-centu...  42.526665  3.083941   \n",
       "580  Set 400 metres from Collioure Royal Castle in ...  42.523118  3.085425   \n",
       "579  Set on the Boutiquet Beach, this hotel offers ...  42.523716  3.087135   \n",
       "583  Situated in Collioure, 2.6 km from Racou Beach...  42.524188  3.080886   \n",
       "594  Located 300 metres from the beach in Collioure...  42.522267  3.088695   \n",
       "595  Set in Collioure, just 2.5 km from Racou Beach...  42.523882  3.084402   \n",
       "599  Le Mouret is a beachfront property situated in...  42.528223  3.084889   \n",
       "\n",
       "     score  city_id  \n",
       "575      4       28  \n",
       "598      4       28  \n",
       "591      4       28  \n",
       "589      4       28  \n",
       "576      3       28  \n",
       "597      3       28  \n",
       "596      3       28  \n",
       "593      3       28  \n",
       "592      3       28  \n",
       "590      3       28  \n",
       "588      3       28  \n",
       "587      3       28  \n",
       "586      3       28  \n",
       "585      3       28  \n",
       "584      3       28  \n",
       "581      3       28  \n",
       "578      3       28  \n",
       "577      3       28  \n",
       "582      2       28  \n",
       "580      2       28  \n",
       "579      2       28  \n",
       "583      0       28  \n",
       "594      0       28  \n",
       "595      0       28  \n",
       "599      0       28  "
      ]
     },
     "execution_count": 108,
     "metadata": {},
     "output_type": "execute_result"
    }
   ],
   "source": [
    "best_hotels"
   ]
  },
  {
   "cell_type": "code",
   "execution_count": 109,
   "metadata": {},
   "outputs": [],
   "source": [
    "title_str = \"Top-20 hotels in \" + best_city.iloc[0, 1]"
   ]
  },
  {
   "cell_type": "code",
   "execution_count": 110,
   "metadata": {},
   "outputs": [
    {
     "data": {
      "application/vnd.plotly.v1+json": {
       "config": {
        "plotlyServerURL": "https://plot.ly"
       },
       "data": [
        {
         "customdata": [
          [
           4
          ],
          [
           4
          ],
          [
           4
          ],
          [
           4
          ],
          [
           3
          ],
          [
           3
          ],
          [
           3
          ],
          [
           3
          ],
          [
           3
          ],
          [
           3
          ],
          [
           3
          ],
          [
           3
          ],
          [
           3
          ],
          [
           3
          ],
          [
           3
          ]
         ],
         "hovertemplate": "<b>%{hovertext}</b><br><br>score=%{marker.color}<br>lat=%{lat}<br>lon=%{lon}<extra></extra>",
         "hovertext": [
          "Hôtel La Casa Pairal",
          "Les mimosas",
          "Le Relais Des Trois Mas",
          "Les Suites de Collioure",
          "Residence Pierre & Vacances Les Balcons de Collioure",
          "La Chambre De Salome",
          "Les Jasmins",
          "RESIDENCE L'ALZINE 6ALZ8",
          "Résidence Saint Vincent",
          "appart central",
          "Au coeur de Collioure",
          "Hôtel Princes de Catalogne",
          "Les Imperiales",
          "Residence Les Balcons de Collioure - maeva Home",
          "Ibanova"
         ],
         "lat": [
          42.5261673320343,
          42.5243249,
          42.5241728057302,
          42.52439,
          42.5251063270837,
          42.5211168959405,
          42.5235480968202,
          42.5249273,
          42.5273009500615,
          42.524882420258,
          42.5273935,
          42.5259143133936,
          42.5227806768165,
          42.5250726749784,
          42.5231333
         ],
         "legendgroup": "",
         "lon": [
          3.08235570788383,
          3.0771752,
          3.08931067585945,
          3.082726,
          3.09043619781733,
          3.07730913162231,
          3.08187379398294,
          3.0904252,
          3.08423268021818,
          3.08187893170178,
          3.0847579,
          3.08268159627914,
          3.09300944209099,
          3.09015686742441,
          3.0855761
         ],
         "marker": {
          "color": [
           4,
           4,
           4,
           4,
           3,
           3,
           3,
           3,
           3,
           3,
           3,
           3,
           3,
           3,
           3
          ],
          "coloraxis": "coloraxis",
          "size": [
           4,
           4,
           4,
           4,
           3,
           3,
           3,
           3,
           3,
           3,
           3,
           3,
           3,
           3,
           3
          ],
          "sizemode": "area",
          "sizeref": 0.01
         },
         "mode": "markers",
         "name": "",
         "showlegend": false,
         "subplot": "mapbox",
         "type": "scattermapbox"
        }
       ],
       "layout": {
        "autosize": true,
        "coloraxis": {
         "colorbar": {
          "title": {
           "text": "score"
          }
         },
         "colorscale": [
          [
           0,
           "#0d0887"
          ],
          [
           0.1111111111111111,
           "#46039f"
          ],
          [
           0.2222222222222222,
           "#7201a8"
          ],
          [
           0.3333333333333333,
           "#9c179e"
          ],
          [
           0.4444444444444444,
           "#bd3786"
          ],
          [
           0.5555555555555556,
           "#d8576b"
          ],
          [
           0.6666666666666666,
           "#ed7953"
          ],
          [
           0.7777777777777778,
           "#fb9f3a"
          ],
          [
           0.8888888888888888,
           "#fdca26"
          ],
          [
           1,
           "#f0f921"
          ]
         ]
        },
        "legend": {
         "itemsizing": "constant",
         "tracegroupgap": 0
        },
        "mapbox": {
         "center": {
          "lat": 42.52468209954113,
          "lon": 3.084927028325357
         },
         "domain": {
          "x": [
           0,
           1
          ],
          "y": [
           0,
           1
          ]
         },
         "style": "carto-positron",
         "zoom": 14
        },
        "template": {
         "data": {
          "bar": [
           {
            "error_x": {
             "color": "#2a3f5f"
            },
            "error_y": {
             "color": "#2a3f5f"
            },
            "marker": {
             "line": {
              "color": "#E5ECF6",
              "width": 0.5
             }
            },
            "type": "bar"
           }
          ],
          "barpolar": [
           {
            "marker": {
             "line": {
              "color": "#E5ECF6",
              "width": 0.5
             }
            },
            "type": "barpolar"
           }
          ],
          "carpet": [
           {
            "aaxis": {
             "endlinecolor": "#2a3f5f",
             "gridcolor": "white",
             "linecolor": "white",
             "minorgridcolor": "white",
             "startlinecolor": "#2a3f5f"
            },
            "baxis": {
             "endlinecolor": "#2a3f5f",
             "gridcolor": "white",
             "linecolor": "white",
             "minorgridcolor": "white",
             "startlinecolor": "#2a3f5f"
            },
            "type": "carpet"
           }
          ],
          "choropleth": [
           {
            "colorbar": {
             "outlinewidth": 0,
             "ticks": ""
            },
            "type": "choropleth"
           }
          ],
          "contour": [
           {
            "colorbar": {
             "outlinewidth": 0,
             "ticks": ""
            },
            "colorscale": [
             [
              0,
              "#0d0887"
             ],
             [
              0.1111111111111111,
              "#46039f"
             ],
             [
              0.2222222222222222,
              "#7201a8"
             ],
             [
              0.3333333333333333,
              "#9c179e"
             ],
             [
              0.4444444444444444,
              "#bd3786"
             ],
             [
              0.5555555555555556,
              "#d8576b"
             ],
             [
              0.6666666666666666,
              "#ed7953"
             ],
             [
              0.7777777777777778,
              "#fb9f3a"
             ],
             [
              0.8888888888888888,
              "#fdca26"
             ],
             [
              1,
              "#f0f921"
             ]
            ],
            "type": "contour"
           }
          ],
          "contourcarpet": [
           {
            "colorbar": {
             "outlinewidth": 0,
             "ticks": ""
            },
            "type": "contourcarpet"
           }
          ],
          "heatmap": [
           {
            "colorbar": {
             "outlinewidth": 0,
             "ticks": ""
            },
            "colorscale": [
             [
              0,
              "#0d0887"
             ],
             [
              0.1111111111111111,
              "#46039f"
             ],
             [
              0.2222222222222222,
              "#7201a8"
             ],
             [
              0.3333333333333333,
              "#9c179e"
             ],
             [
              0.4444444444444444,
              "#bd3786"
             ],
             [
              0.5555555555555556,
              "#d8576b"
             ],
             [
              0.6666666666666666,
              "#ed7953"
             ],
             [
              0.7777777777777778,
              "#fb9f3a"
             ],
             [
              0.8888888888888888,
              "#fdca26"
             ],
             [
              1,
              "#f0f921"
             ]
            ],
            "type": "heatmap"
           }
          ],
          "heatmapgl": [
           {
            "colorbar": {
             "outlinewidth": 0,
             "ticks": ""
            },
            "colorscale": [
             [
              0,
              "#0d0887"
             ],
             [
              0.1111111111111111,
              "#46039f"
             ],
             [
              0.2222222222222222,
              "#7201a8"
             ],
             [
              0.3333333333333333,
              "#9c179e"
             ],
             [
              0.4444444444444444,
              "#bd3786"
             ],
             [
              0.5555555555555556,
              "#d8576b"
             ],
             [
              0.6666666666666666,
              "#ed7953"
             ],
             [
              0.7777777777777778,
              "#fb9f3a"
             ],
             [
              0.8888888888888888,
              "#fdca26"
             ],
             [
              1,
              "#f0f921"
             ]
            ],
            "type": "heatmapgl"
           }
          ],
          "histogram": [
           {
            "marker": {
             "colorbar": {
              "outlinewidth": 0,
              "ticks": ""
             }
            },
            "type": "histogram"
           }
          ],
          "histogram2d": [
           {
            "colorbar": {
             "outlinewidth": 0,
             "ticks": ""
            },
            "colorscale": [
             [
              0,
              "#0d0887"
             ],
             [
              0.1111111111111111,
              "#46039f"
             ],
             [
              0.2222222222222222,
              "#7201a8"
             ],
             [
              0.3333333333333333,
              "#9c179e"
             ],
             [
              0.4444444444444444,
              "#bd3786"
             ],
             [
              0.5555555555555556,
              "#d8576b"
             ],
             [
              0.6666666666666666,
              "#ed7953"
             ],
             [
              0.7777777777777778,
              "#fb9f3a"
             ],
             [
              0.8888888888888888,
              "#fdca26"
             ],
             [
              1,
              "#f0f921"
             ]
            ],
            "type": "histogram2d"
           }
          ],
          "histogram2dcontour": [
           {
            "colorbar": {
             "outlinewidth": 0,
             "ticks": ""
            },
            "colorscale": [
             [
              0,
              "#0d0887"
             ],
             [
              0.1111111111111111,
              "#46039f"
             ],
             [
              0.2222222222222222,
              "#7201a8"
             ],
             [
              0.3333333333333333,
              "#9c179e"
             ],
             [
              0.4444444444444444,
              "#bd3786"
             ],
             [
              0.5555555555555556,
              "#d8576b"
             ],
             [
              0.6666666666666666,
              "#ed7953"
             ],
             [
              0.7777777777777778,
              "#fb9f3a"
             ],
             [
              0.8888888888888888,
              "#fdca26"
             ],
             [
              1,
              "#f0f921"
             ]
            ],
            "type": "histogram2dcontour"
           }
          ],
          "mesh3d": [
           {
            "colorbar": {
             "outlinewidth": 0,
             "ticks": ""
            },
            "type": "mesh3d"
           }
          ],
          "parcoords": [
           {
            "line": {
             "colorbar": {
              "outlinewidth": 0,
              "ticks": ""
             }
            },
            "type": "parcoords"
           }
          ],
          "pie": [
           {
            "automargin": true,
            "type": "pie"
           }
          ],
          "scatter": [
           {
            "marker": {
             "colorbar": {
              "outlinewidth": 0,
              "ticks": ""
             }
            },
            "type": "scatter"
           }
          ],
          "scatter3d": [
           {
            "line": {
             "colorbar": {
              "outlinewidth": 0,
              "ticks": ""
             }
            },
            "marker": {
             "colorbar": {
              "outlinewidth": 0,
              "ticks": ""
             }
            },
            "type": "scatter3d"
           }
          ],
          "scattercarpet": [
           {
            "marker": {
             "colorbar": {
              "outlinewidth": 0,
              "ticks": ""
             }
            },
            "type": "scattercarpet"
           }
          ],
          "scattergeo": [
           {
            "marker": {
             "colorbar": {
              "outlinewidth": 0,
              "ticks": ""
             }
            },
            "type": "scattergeo"
           }
          ],
          "scattergl": [
           {
            "marker": {
             "colorbar": {
              "outlinewidth": 0,
              "ticks": ""
             }
            },
            "type": "scattergl"
           }
          ],
          "scattermapbox": [
           {
            "marker": {
             "colorbar": {
              "outlinewidth": 0,
              "ticks": ""
             }
            },
            "type": "scattermapbox"
           }
          ],
          "scatterpolar": [
           {
            "marker": {
             "colorbar": {
              "outlinewidth": 0,
              "ticks": ""
             }
            },
            "type": "scatterpolar"
           }
          ],
          "scatterpolargl": [
           {
            "marker": {
             "colorbar": {
              "outlinewidth": 0,
              "ticks": ""
             }
            },
            "type": "scatterpolargl"
           }
          ],
          "scatterternary": [
           {
            "marker": {
             "colorbar": {
              "outlinewidth": 0,
              "ticks": ""
             }
            },
            "type": "scatterternary"
           }
          ],
          "surface": [
           {
            "colorbar": {
             "outlinewidth": 0,
             "ticks": ""
            },
            "colorscale": [
             [
              0,
              "#0d0887"
             ],
             [
              0.1111111111111111,
              "#46039f"
             ],
             [
              0.2222222222222222,
              "#7201a8"
             ],
             [
              0.3333333333333333,
              "#9c179e"
             ],
             [
              0.4444444444444444,
              "#bd3786"
             ],
             [
              0.5555555555555556,
              "#d8576b"
             ],
             [
              0.6666666666666666,
              "#ed7953"
             ],
             [
              0.7777777777777778,
              "#fb9f3a"
             ],
             [
              0.8888888888888888,
              "#fdca26"
             ],
             [
              1,
              "#f0f921"
             ]
            ],
            "type": "surface"
           }
          ],
          "table": [
           {
            "cells": {
             "fill": {
              "color": "#EBF0F8"
             },
             "line": {
              "color": "white"
             }
            },
            "header": {
             "fill": {
              "color": "#C8D4E3"
             },
             "line": {
              "color": "white"
             }
            },
            "type": "table"
           }
          ]
         },
         "layout": {
          "annotationdefaults": {
           "arrowcolor": "#2a3f5f",
           "arrowhead": 0,
           "arrowwidth": 1
          },
          "coloraxis": {
           "colorbar": {
            "outlinewidth": 0,
            "ticks": ""
           }
          },
          "colorscale": {
           "diverging": [
            [
             0,
             "#8e0152"
            ],
            [
             0.1,
             "#c51b7d"
            ],
            [
             0.2,
             "#de77ae"
            ],
            [
             0.3,
             "#f1b6da"
            ],
            [
             0.4,
             "#fde0ef"
            ],
            [
             0.5,
             "#f7f7f7"
            ],
            [
             0.6,
             "#e6f5d0"
            ],
            [
             0.7,
             "#b8e186"
            ],
            [
             0.8,
             "#7fbc41"
            ],
            [
             0.9,
             "#4d9221"
            ],
            [
             1,
             "#276419"
            ]
           ],
           "sequential": [
            [
             0,
             "#0d0887"
            ],
            [
             0.1111111111111111,
             "#46039f"
            ],
            [
             0.2222222222222222,
             "#7201a8"
            ],
            [
             0.3333333333333333,
             "#9c179e"
            ],
            [
             0.4444444444444444,
             "#bd3786"
            ],
            [
             0.5555555555555556,
             "#d8576b"
            ],
            [
             0.6666666666666666,
             "#ed7953"
            ],
            [
             0.7777777777777778,
             "#fb9f3a"
            ],
            [
             0.8888888888888888,
             "#fdca26"
            ],
            [
             1,
             "#f0f921"
            ]
           ],
           "sequentialminus": [
            [
             0,
             "#0d0887"
            ],
            [
             0.1111111111111111,
             "#46039f"
            ],
            [
             0.2222222222222222,
             "#7201a8"
            ],
            [
             0.3333333333333333,
             "#9c179e"
            ],
            [
             0.4444444444444444,
             "#bd3786"
            ],
            [
             0.5555555555555556,
             "#d8576b"
            ],
            [
             0.6666666666666666,
             "#ed7953"
            ],
            [
             0.7777777777777778,
             "#fb9f3a"
            ],
            [
             0.8888888888888888,
             "#fdca26"
            ],
            [
             1,
             "#f0f921"
            ]
           ]
          },
          "colorway": [
           "#636efa",
           "#EF553B",
           "#00cc96",
           "#ab63fa",
           "#FFA15A",
           "#19d3f3",
           "#FF6692",
           "#B6E880",
           "#FF97FF",
           "#FECB52"
          ],
          "font": {
           "color": "#2a3f5f"
          },
          "geo": {
           "bgcolor": "white",
           "lakecolor": "white",
           "landcolor": "#E5ECF6",
           "showlakes": true,
           "showland": true,
           "subunitcolor": "white"
          },
          "hoverlabel": {
           "align": "left"
          },
          "hovermode": "closest",
          "mapbox": {
           "style": "light"
          },
          "paper_bgcolor": "white",
          "plot_bgcolor": "#E5ECF6",
          "polar": {
           "angularaxis": {
            "gridcolor": "white",
            "linecolor": "white",
            "ticks": ""
           },
           "bgcolor": "#E5ECF6",
           "radialaxis": {
            "gridcolor": "white",
            "linecolor": "white",
            "ticks": ""
           }
          },
          "scene": {
           "xaxis": {
            "backgroundcolor": "#E5ECF6",
            "gridcolor": "white",
            "gridwidth": 2,
            "linecolor": "white",
            "showbackground": true,
            "ticks": "",
            "zerolinecolor": "white"
           },
           "yaxis": {
            "backgroundcolor": "#E5ECF6",
            "gridcolor": "white",
            "gridwidth": 2,
            "linecolor": "white",
            "showbackground": true,
            "ticks": "",
            "zerolinecolor": "white"
           },
           "zaxis": {
            "backgroundcolor": "#E5ECF6",
            "gridcolor": "white",
            "gridwidth": 2,
            "linecolor": "white",
            "showbackground": true,
            "ticks": "",
            "zerolinecolor": "white"
           }
          },
          "shapedefaults": {
           "line": {
            "color": "#2a3f5f"
           }
          },
          "ternary": {
           "aaxis": {
            "gridcolor": "white",
            "linecolor": "white",
            "ticks": ""
           },
           "baxis": {
            "gridcolor": "white",
            "linecolor": "white",
            "ticks": ""
           },
           "bgcolor": "#E5ECF6",
           "caxis": {
            "gridcolor": "white",
            "linecolor": "white",
            "ticks": ""
           }
          },
          "title": {
           "x": 0.05
          },
          "xaxis": {
           "automargin": true,
           "gridcolor": "white",
           "linecolor": "white",
           "ticks": "",
           "title": {
            "standoff": 15
           },
           "zerolinecolor": "white",
           "zerolinewidth": 2
          },
          "yaxis": {
           "automargin": true,
           "gridcolor": "white",
           "linecolor": "white",
           "ticks": "",
           "title": {
            "standoff": 15
           },
           "zerolinecolor": "white",
           "zerolinewidth": 2
          }
         }
        },
        "title": {
         "text": "Top-20 hotels in Collioure"
        }
       }
      },
      "image/png": "[encoded data removed]",
      "text/html": [
       "<div>\n",
       "        \n",
       "        \n",
       "            <div id=\"1afe7828-2a73-4314-a6ae-f5c64eb6da4d\" class=\"plotly-graph-div\" style=\"height:525px; width:100%;\"></div>\n",
       "            <script type=\"text/javascript\">\n",
       "                require([\"plotly\"], function(Plotly) {\n",
       "                    window.PLOTLYENV=window.PLOTLYENV || {};\n",
       "                    \n",
       "                if (document.getElementById(\"1afe7828-2a73-4314-a6ae-f5c64eb6da4d\")) {\n",
       "                    Plotly.newPlot(\n",
       "                        '1afe7828-2a73-4314-a6ae-f5c64eb6da4d',\n",
       "                        [{\"customdata\": [[4], [4], [4], [4], [3], [3], [3], [3], [3], [3], [3], [3], [3], [3], [3]], \"hovertemplate\": \"<b>%{hovertext}</b><br><br>score=%{marker.color}<br>lat=%{lat}<br>lon=%{lon}<extra></extra>\", \"hovertext\": [\"H\\u00f4tel La Casa Pairal\", \"Les mimosas\", \"Le Relais Des Trois Mas\", \"Les Suites de Collioure\", \"Residence Pierre & Vacances Les Balcons de Collioure\", \"La Chambre De Salome\", \"Les Jasmins\", \"RESIDENCE L'ALZINE 6ALZ8\", \"R\\u00e9sidence Saint Vincent\", \"appart central\", \"Au coeur de Collioure\", \"H\\u00f4tel Princes de Catalogne\", \"Les Imperiales\", \"Residence Les Balcons de Collioure - maeva Home\", \"Ibanova\"], \"lat\": [42.5261673320343, 42.5243249, 42.5241728057302, 42.52439, 42.5251063270837, 42.5211168959405, 42.5235480968202, 42.5249273, 42.5273009500615, 42.524882420258, 42.5273935, 42.5259143133936, 42.5227806768165, 42.5250726749784, 42.5231333], \"legendgroup\": \"\", \"lon\": [3.08235570788383, 3.0771752, 3.08931067585945, 3.082726, 3.09043619781733, 3.07730913162231, 3.08187379398294, 3.0904252, 3.08423268021818, 3.08187893170178, 3.0847579, 3.08268159627914, 3.09300944209099, 3.09015686742441, 3.0855761], \"marker\": {\"color\": [4, 4, 4, 4, 3, 3, 3, 3, 3, 3, 3, 3, 3, 3, 3], \"coloraxis\": \"coloraxis\", \"size\": [4, 4, 4, 4, 3, 3, 3, 3, 3, 3, 3, 3, 3, 3, 3], \"sizemode\": \"area\", \"sizeref\": 0.01}, \"mode\": \"markers\", \"name\": \"\", \"showlegend\": false, \"subplot\": \"mapbox\", \"type\": \"scattermapbox\"}],\n",
       "                        {\"coloraxis\": {\"colorbar\": {\"title\": {\"text\": \"score\"}}, \"colorscale\": [[0.0, \"#0d0887\"], [0.1111111111111111, \"#46039f\"], [0.2222222222222222, \"#7201a8\"], [0.3333333333333333, \"#9c179e\"], [0.4444444444444444, \"#bd3786\"], [0.5555555555555556, \"#d8576b\"], [0.6666666666666666, \"#ed7953\"], [0.7777777777777778, \"#fb9f3a\"], [0.8888888888888888, \"#fdca26\"], [1.0, \"#f0f921\"]]}, \"legend\": {\"itemsizing\": \"constant\", \"tracegroupgap\": 0}, \"mapbox\": {\"center\": {\"lat\": 42.52468209954113, \"lon\": 3.084927028325357}, \"domain\": {\"x\": [0.0, 1.0], \"y\": [0.0, 1.0]}, \"style\": \"carto-positron\", \"zoom\": 14}, \"template\": {\"data\": {\"bar\": [{\"error_x\": {\"color\": \"#2a3f5f\"}, \"error_y\": {\"color\": \"#2a3f5f\"}, \"marker\": {\"line\": {\"color\": \"#E5ECF6\", \"width\": 0.5}}, \"type\": \"bar\"}], \"barpolar\": [{\"marker\": {\"line\": {\"color\": \"#E5ECF6\", \"width\": 0.5}}, \"type\": \"barpolar\"}], \"carpet\": [{\"aaxis\": {\"endlinecolor\": \"#2a3f5f\", \"gridcolor\": \"white\", \"linecolor\": \"white\", \"minorgridcolor\": \"white\", \"startlinecolor\": \"#2a3f5f\"}, \"baxis\": {\"endlinecolor\": \"#2a3f5f\", \"gridcolor\": \"white\", \"linecolor\": \"white\", \"minorgridcolor\": \"white\", \"startlinecolor\": \"#2a3f5f\"}, \"type\": \"carpet\"}], \"choropleth\": [{\"colorbar\": {\"outlinewidth\": 0, \"ticks\": \"\"}, \"type\": \"choropleth\"}], \"contour\": [{\"colorbar\": {\"outlinewidth\": 0, \"ticks\": \"\"}, \"colorscale\": [[0.0, \"#0d0887\"], [0.1111111111111111, \"#46039f\"], [0.2222222222222222, \"#7201a8\"], [0.3333333333333333, \"#9c179e\"], [0.4444444444444444, \"#bd3786\"], [0.5555555555555556, \"#d8576b\"], [0.6666666666666666, \"#ed7953\"], [0.7777777777777778, \"#fb9f3a\"], [0.8888888888888888, \"#fdca26\"], [1.0, \"#f0f921\"]], \"type\": \"contour\"}], \"contourcarpet\": [{\"colorbar\": {\"outlinewidth\": 0, \"ticks\": \"\"}, \"type\": \"contourcarpet\"}], \"heatmap\": [{\"colorbar\": {\"outlinewidth\": 0, \"ticks\": \"\"}, \"colorscale\": [[0.0, \"#0d0887\"], [0.1111111111111111, \"#46039f\"], [0.2222222222222222, \"#7201a8\"], [0.3333333333333333, \"#9c179e\"], [0.4444444444444444, \"#bd3786\"], [0.5555555555555556, \"#d8576b\"], [0.6666666666666666, \"#ed7953\"], [0.7777777777777778, \"#fb9f3a\"], [0.8888888888888888, \"#fdca26\"], [1.0, \"#f0f921\"]], \"type\": \"heatmap\"}], \"heatmapgl\": [{\"colorbar\": {\"outlinewidth\": 0, \"ticks\": \"\"}, \"colorscale\": [[0.0, \"#0d0887\"], [0.1111111111111111, \"#46039f\"], [0.2222222222222222, \"#7201a8\"], [0.3333333333333333, \"#9c179e\"], [0.4444444444444444, \"#bd3786\"], [0.5555555555555556, \"#d8576b\"], [0.6666666666666666, \"#ed7953\"], [0.7777777777777778, \"#fb9f3a\"], [0.8888888888888888, \"#fdca26\"], [1.0, \"#f0f921\"]], \"type\": \"heatmapgl\"}], \"histogram\": [{\"marker\": {\"colorbar\": {\"outlinewidth\": 0, \"ticks\": \"\"}}, \"type\": \"histogram\"}], \"histogram2d\": [{\"colorbar\": {\"outlinewidth\": 0, \"ticks\": \"\"}, \"colorscale\": [[0.0, \"#0d0887\"], [0.1111111111111111, \"#46039f\"], [0.2222222222222222, \"#7201a8\"], [0.3333333333333333, \"#9c179e\"], [0.4444444444444444, \"#bd3786\"], [0.5555555555555556, \"#d8576b\"], [0.6666666666666666, \"#ed7953\"], [0.7777777777777778, \"#fb9f3a\"], [0.8888888888888888, \"#fdca26\"], [1.0, \"#f0f921\"]], \"type\": \"histogram2d\"}], \"histogram2dcontour\": [{\"colorbar\": {\"outlinewidth\": 0, \"ticks\": \"\"}, \"colorscale\": [[0.0, \"#0d0887\"], [0.1111111111111111, \"#46039f\"], [0.2222222222222222, \"#7201a8\"], [0.3333333333333333, \"#9c179e\"], [0.4444444444444444, \"#bd3786\"], [0.5555555555555556, \"#d8576b\"], [0.6666666666666666, \"#ed7953\"], [0.7777777777777778, \"#fb9f3a\"], [0.8888888888888888, \"#fdca26\"], [1.0, \"#f0f921\"]], \"type\": \"histogram2dcontour\"}], \"mesh3d\": [{\"colorbar\": {\"outlinewidth\": 0, \"ticks\": \"\"}, \"type\": \"mesh3d\"}], \"parcoords\": [{\"line\": {\"colorbar\": {\"outlinewidth\": 0, \"ticks\": \"\"}}, \"type\": \"parcoords\"}], \"pie\": [{\"automargin\": true, \"type\": \"pie\"}], \"scatter\": [{\"marker\": {\"colorbar\": {\"outlinewidth\": 0, \"ticks\": \"\"}}, \"type\": \"scatter\"}], \"scatter3d\": [{\"line\": {\"colorbar\": {\"outlinewidth\": 0, \"ticks\": \"\"}}, \"marker\": {\"colorbar\": {\"outlinewidth\": 0, \"ticks\": \"\"}}, \"type\": \"scatter3d\"}], \"scattercarpet\": [{\"marker\": {\"colorbar\": {\"outlinewidth\": 0, \"ticks\": \"\"}}, \"type\": \"scattercarpet\"}], \"scattergeo\": [{\"marker\": {\"colorbar\": {\"outlinewidth\": 0, \"ticks\": \"\"}}, \"type\": \"scattergeo\"}], \"scattergl\": [{\"marker\": {\"colorbar\": {\"outlinewidth\": 0, \"ticks\": \"\"}}, \"type\": \"scattergl\"}], \"scattermapbox\": [{\"marker\": {\"colorbar\": {\"outlinewidth\": 0, \"ticks\": \"\"}}, \"type\": \"scattermapbox\"}], \"scatterpolar\": [{\"marker\": {\"colorbar\": {\"outlinewidth\": 0, \"ticks\": \"\"}}, \"type\": \"scatterpolar\"}], \"scatterpolargl\": [{\"marker\": {\"colorbar\": {\"outlinewidth\": 0, \"ticks\": \"\"}}, \"type\": \"scatterpolargl\"}], \"scatterternary\": [{\"marker\": {\"colorbar\": {\"outlinewidth\": 0, \"ticks\": \"\"}}, \"type\": \"scatterternary\"}], \"surface\": [{\"colorbar\": {\"outlinewidth\": 0, \"ticks\": \"\"}, \"colorscale\": [[0.0, \"#0d0887\"], [0.1111111111111111, \"#46039f\"], [0.2222222222222222, \"#7201a8\"], [0.3333333333333333, \"#9c179e\"], [0.4444444444444444, \"#bd3786\"], [0.5555555555555556, \"#d8576b\"], [0.6666666666666666, \"#ed7953\"], [0.7777777777777778, \"#fb9f3a\"], [0.8888888888888888, \"#fdca26\"], [1.0, \"#f0f921\"]], \"type\": \"surface\"}], \"table\": [{\"cells\": {\"fill\": {\"color\": \"#EBF0F8\"}, \"line\": {\"color\": \"white\"}}, \"header\": {\"fill\": {\"color\": \"#C8D4E3\"}, \"line\": {\"color\": \"white\"}}, \"type\": \"table\"}]}, \"layout\": {\"annotationdefaults\": {\"arrowcolor\": \"#2a3f5f\", \"arrowhead\": 0, \"arrowwidth\": 1}, \"coloraxis\": {\"colorbar\": {\"outlinewidth\": 0, \"ticks\": \"\"}}, \"colorscale\": {\"diverging\": [[0, \"#8e0152\"], [0.1, \"#c51b7d\"], [0.2, \"#de77ae\"], [0.3, \"#f1b6da\"], [0.4, \"#fde0ef\"], [0.5, \"#f7f7f7\"], [0.6, \"#e6f5d0\"], [0.7, \"#b8e186\"], [0.8, \"#7fbc41\"], [0.9, \"#4d9221\"], [1, \"#276419\"]], \"sequential\": [[0.0, \"#0d0887\"], [0.1111111111111111, \"#46039f\"], [0.2222222222222222, \"#7201a8\"], [0.3333333333333333, \"#9c179e\"], [0.4444444444444444, \"#bd3786\"], [0.5555555555555556, \"#d8576b\"], [0.6666666666666666, \"#ed7953\"], [0.7777777777777778, \"#fb9f3a\"], [0.8888888888888888, \"#fdca26\"], [1.0, \"#f0f921\"]], \"sequentialminus\": [[0.0, \"#0d0887\"], [0.1111111111111111, \"#46039f\"], [0.2222222222222222, \"#7201a8\"], [0.3333333333333333, \"#9c179e\"], [0.4444444444444444, \"#bd3786\"], [0.5555555555555556, \"#d8576b\"], [0.6666666666666666, \"#ed7953\"], [0.7777777777777778, \"#fb9f3a\"], [0.8888888888888888, \"#fdca26\"], [1.0, \"#f0f921\"]]}, \"colorway\": [\"#636efa\", \"#EF553B\", \"#00cc96\", \"#ab63fa\", \"#FFA15A\", \"#19d3f3\", \"#FF6692\", \"#B6E880\", \"#FF97FF\", \"#FECB52\"], \"font\": {\"color\": \"#2a3f5f\"}, \"geo\": {\"bgcolor\": \"white\", \"lakecolor\": \"white\", \"landcolor\": \"#E5ECF6\", \"showlakes\": true, \"showland\": true, \"subunitcolor\": \"white\"}, \"hoverlabel\": {\"align\": \"left\"}, \"hovermode\": \"closest\", \"mapbox\": {\"style\": \"light\"}, \"paper_bgcolor\": \"white\", \"plot_bgcolor\": \"#E5ECF6\", \"polar\": {\"angularaxis\": {\"gridcolor\": \"white\", \"linecolor\": \"white\", \"ticks\": \"\"}, \"bgcolor\": \"#E5ECF6\", \"radialaxis\": {\"gridcolor\": \"white\", \"linecolor\": \"white\", \"ticks\": \"\"}}, \"scene\": {\"xaxis\": {\"backgroundcolor\": \"#E5ECF6\", \"gridcolor\": \"white\", \"gridwidth\": 2, \"linecolor\": \"white\", \"showbackground\": true, \"ticks\": \"\", \"zerolinecolor\": \"white\"}, \"yaxis\": {\"backgroundcolor\": \"#E5ECF6\", \"gridcolor\": \"white\", \"gridwidth\": 2, \"linecolor\": \"white\", \"showbackground\": true, \"ticks\": \"\", \"zerolinecolor\": \"white\"}, \"zaxis\": {\"backgroundcolor\": \"#E5ECF6\", \"gridcolor\": \"white\", \"gridwidth\": 2, \"linecolor\": \"white\", \"showbackground\": true, \"ticks\": \"\", \"zerolinecolor\": \"white\"}}, \"shapedefaults\": {\"line\": {\"color\": \"#2a3f5f\"}}, \"ternary\": {\"aaxis\": {\"gridcolor\": \"white\", \"linecolor\": \"white\", \"ticks\": \"\"}, \"baxis\": {\"gridcolor\": \"white\", \"linecolor\": \"white\", \"ticks\": \"\"}, \"bgcolor\": \"#E5ECF6\", \"caxis\": {\"gridcolor\": \"white\", \"linecolor\": \"white\", \"ticks\": \"\"}}, \"title\": {\"x\": 0.05}, \"xaxis\": {\"automargin\": true, \"gridcolor\": \"white\", \"linecolor\": \"white\", \"ticks\": \"\", \"title\": {\"standoff\": 15}, \"zerolinecolor\": \"white\", \"zerolinewidth\": 2}, \"yaxis\": {\"automargin\": true, \"gridcolor\": \"white\", \"linecolor\": \"white\", \"ticks\": \"\", \"title\": {\"standoff\": 15}, \"zerolinecolor\": \"white\", \"zerolinewidth\": 2}}}, \"title\": {\"text\": \"Top-20 hotels in Collioure\"}},\n",
       "                        {\"responsive\": true}\n",
       "                    ).then(function(){\n",
       "                            \n",
       "var gd = document.getElementById('1afe7828-2a73-4314-a6ae-f5c64eb6da4d');\n",
       "var x = new MutationObserver(function (mutations, observer) {{\n",
       "        var display = window.getComputedStyle(gd).display;\n",
       "        if (!display || display === 'none') {{\n",
       "            console.log([gd, 'removed!']);\n",
       "            Plotly.purge(gd);\n",
       "            observer.disconnect();\n",
       "        }}\n",
       "}});\n",
       "\n",
       "// Listen for the removal of the full notebook cells\n",
       "var notebookContainer = gd.closest('#notebook-container');\n",
       "if (notebookContainer) {{\n",
       "    x.observe(notebookContainer, {childList: true});\n",
       "}}\n",
       "\n",
       "// Listen for the clearing of the current output cell\n",
       "var outputEl = gd.closest('.output');\n",
       "if (outputEl) {{\n",
       "    x.observe(outputEl, {childList: true});\n",
       "}}\n",
       "\n",
       "                        })\n",
       "                };\n",
       "                });\n",
       "            </script>\n",
       "        </div>"
      ]
     },
     "metadata": {},
     "output_type": "display_data"
    }
   ],
   "source": [
    "fig = px.scatter_mapbox(best_hotels.head(15), lat=\"lat\", lon=\"lon\", color=\"score\", \\\n",
    "                        size=\"score\",hover_name=\"name\", hover_data=[\"score\"], zoom=14,\\\n",
    "                        mapbox_style=\"carto-positron\",title= title_str)\n",
    "fig.show()"
   ]
  },
  {
   "cell_type": "code",
   "execution_count": null,
   "metadata": {},
   "outputs": [],
   "source": []
  },
  {
   "cell_type": "code",
   "execution_count": null,
   "metadata": {},
   "outputs": [],
   "source": []
  },
  {
   "cell_type": "code",
   "execution_count": 111,
   "metadata": {},
   "outputs": [
    {
     "data": {
      "application/vnd.plotly.v1+json": {
       "config": {
        "plotlyServerURL": "https://plot.ly"
       },
       "data": [
        {
         "hovertemplate": "feels_like.day=%{marker.color}<br>lat=%{lat}<br>lon=%{lon}<extra></extra>",
         "lat": [
          42.52505,
          43.5298424,
          43.2961743,
          43.2140359,
          43.1506968,
          43.740335,
          43.2130358,
          43.9492493,
          44.0175835,
          43.6044622,
          45.1875602,
          45.7578137,
          44.0121279,
          43.4522771,
          43.8374249,
          43.5658225,
          46.1591126,
          45.8992348,
          48.0777517,
          48.0447968,
          47.3215806,
          49.2764624,
          49.4404591,
          48.584614,
          48.8566969,
          48.649518,
          47.2380222,
          42.9455368,
          48.6355232,
          48.249489800000006,
          50.6365654,
          49.4938975,
          43.4933379,
          43.471143749999996,
          49.8941708
         ],
         "legendgroup": "",
         "lon": [
          3.0831554,
          5.4474738,
          5.3699525,
          5.5396318,
          6.3419285,
          6.3799984,
          2.3491069,
          4.8059012,
          1.3549991,
          1.4442469,
          5.7357819,
          4.8320114,
          4.4196718,
          4.4287172,
          4.3600687,
          4.1912837,
          -1.1520434,
          6.1288847,
          7.3579641,
          7.3079618,
          5.0414701,
          -0.7024738,
          1.0939658,
          7.7507127,
          2.3514616,
          -2.0260409,
          6.0243622,
          1.4065544156065486,
          -1.5102571,
          7.34429620253195,
          3.0635282,
          0.1079732,
          -1.475099,
          -1.552726590666314,
          2.2956951
         ],
         "marker": {
          "color": [
           18.869999999999997,
           17.36375,
           17.89875,
           18.2775,
           18.50375,
           16.48375,
           16.5775,
           16.936250000000005,
           16.62625,
           16.148750000000003,
           15.74875,
           14.584999999999999,
           16.5925,
           17.167499999999997,
           17.3475,
           17.359999999999996,
           15.706249999999999,
           13.721250000000001,
           13.495,
           13.669999999999998,
           12.901250000000001,
           15.292499999999999,
           14.370000000000001,
           12.525,
           14.6675,
           15.34,
           12.7975,
           10.742500000000001,
           15.218750000000002,
           10.528749999999999,
           13.941249999999998,
           14.4725,
           17.09875,
           16.525000000000002,
           13.59875
          ],
          "coloraxis": "coloraxis",
          "size": [
           18.869999999999997,
           17.36375,
           17.89875,
           18.2775,
           18.50375,
           16.48375,
           16.5775,
           16.936250000000005,
           16.62625,
           16.148750000000003,
           15.74875,
           14.584999999999999,
           16.5925,
           17.167499999999997,
           17.3475,
           17.359999999999996,
           15.706249999999999,
           13.721250000000001,
           13.495,
           13.669999999999998,
           12.901250000000001,
           15.292499999999999,
           14.370000000000001,
           12.525,
           14.6675,
           15.34,
           12.7975,
           10.742500000000001,
           15.218750000000002,
           10.528749999999999,
           13.941249999999998,
           14.4725,
           17.09875,
           16.525000000000002,
           13.59875
          ],
          "sizemode": "area",
          "sizeref": 0.08386666666666666
         },
         "mode": "markers",
         "name": "",
         "showlegend": false,
         "subplot": "mapbox",
         "type": "scattermapbox"
        }
       ],
       "layout": {
        "coloraxis": {
         "colorbar": {
          "title": {
           "text": "feels_like.day"
          }
         },
         "colorscale": [
          [
           0,
           "#0d0887"
          ],
          [
           0.1111111111111111,
           "#46039f"
          ],
          [
           0.2222222222222222,
           "#7201a8"
          ],
          [
           0.3333333333333333,
           "#9c179e"
          ],
          [
           0.4444444444444444,
           "#bd3786"
          ],
          [
           0.5555555555555556,
           "#d8576b"
          ],
          [
           0.6666666666666666,
           "#ed7953"
          ],
          [
           0.7777777777777778,
           "#fb9f3a"
          ],
          [
           0.8888888888888888,
           "#fdca26"
          ],
          [
           1,
           "#f0f921"
          ]
         ]
        },
        "legend": {
         "itemsizing": "constant",
         "tracegroupgap": 0
        },
        "mapbox": {
         "center": {
          "lat": 45.840611592857144,
          "lon": 3.3982891007849196
         },
         "domain": {
          "x": [
           0,
           1
          ],
          "y": [
           0,
           1
          ]
         },
         "zoom": 10
        },
        "margin": {
         "t": 60
        },
        "template": {
         "data": {
          "bar": [
           {
            "error_x": {
             "color": "#2a3f5f"
            },
            "error_y": {
             "color": "#2a3f5f"
            },
            "marker": {
             "line": {
              "color": "#E5ECF6",
              "width": 0.5
             }
            },
            "type": "bar"
           }
          ],
          "barpolar": [
           {
            "marker": {
             "line": {
              "color": "#E5ECF6",
              "width": 0.5
             }
            },
            "type": "barpolar"
           }
          ],
          "carpet": [
           {
            "aaxis": {
             "endlinecolor": "#2a3f5f",
             "gridcolor": "white",
             "linecolor": "white",
             "minorgridcolor": "white",
             "startlinecolor": "#2a3f5f"
            },
            "baxis": {
             "endlinecolor": "#2a3f5f",
             "gridcolor": "white",
             "linecolor": "white",
             "minorgridcolor": "white",
             "startlinecolor": "#2a3f5f"
            },
            "type": "carpet"
           }
          ],
          "choropleth": [
           {
            "colorbar": {
             "outlinewidth": 0,
             "ticks": ""
            },
            "type": "choropleth"
           }
          ],
          "contour": [
           {
            "colorbar": {
             "outlinewidth": 0,
             "ticks": ""
            },
            "colorscale": [
             [
              0,
              "#0d0887"
             ],
             [
              0.1111111111111111,
              "#46039f"
             ],
             [
              0.2222222222222222,
              "#7201a8"
             ],
             [
              0.3333333333333333,
              "#9c179e"
             ],
             [
              0.4444444444444444,
              "#bd3786"
             ],
             [
              0.5555555555555556,
              "#d8576b"
             ],
             [
              0.6666666666666666,
              "#ed7953"
             ],
             [
              0.7777777777777778,
              "#fb9f3a"
             ],
             [
              0.8888888888888888,
              "#fdca26"
             ],
             [
              1,
              "#f0f921"
             ]
            ],
            "type": "contour"
           }
          ],
          "contourcarpet": [
           {
            "colorbar": {
             "outlinewidth": 0,
             "ticks": ""
            },
            "type": "contourcarpet"
           }
          ],
          "heatmap": [
           {
            "colorbar": {
             "outlinewidth": 0,
             "ticks": ""
            },
            "colorscale": [
             [
              0,
              "#0d0887"
             ],
             [
              0.1111111111111111,
              "#46039f"
             ],
             [
              0.2222222222222222,
              "#7201a8"
             ],
             [
              0.3333333333333333,
              "#9c179e"
             ],
             [
              0.4444444444444444,
              "#bd3786"
             ],
             [
              0.5555555555555556,
              "#d8576b"
             ],
             [
              0.6666666666666666,
              "#ed7953"
             ],
             [
              0.7777777777777778,
              "#fb9f3a"
             ],
             [
              0.8888888888888888,
              "#fdca26"
             ],
             [
              1,
              "#f0f921"
             ]
            ],
            "type": "heatmap"
           }
          ],
          "heatmapgl": [
           {
            "colorbar": {
             "outlinewidth": 0,
             "ticks": ""
            },
            "colorscale": [
             [
              0,
              "#0d0887"
             ],
             [
              0.1111111111111111,
              "#46039f"
             ],
             [
              0.2222222222222222,
              "#7201a8"
             ],
             [
              0.3333333333333333,
              "#9c179e"
             ],
             [
              0.4444444444444444,
              "#bd3786"
             ],
             [
              0.5555555555555556,
              "#d8576b"
             ],
             [
              0.6666666666666666,
              "#ed7953"
             ],
             [
              0.7777777777777778,
              "#fb9f3a"
             ],
             [
              0.8888888888888888,
              "#fdca26"
             ],
             [
              1,
              "#f0f921"
             ]
            ],
            "type": "heatmapgl"
           }
          ],
          "histogram": [
           {
            "marker": {
             "colorbar": {
              "outlinewidth": 0,
              "ticks": ""
             }
            },
            "type": "histogram"
           }
          ],
          "histogram2d": [
           {
            "colorbar": {
             "outlinewidth": 0,
             "ticks": ""
            },
            "colorscale": [
             [
              0,
              "#0d0887"
             ],
             [
              0.1111111111111111,
              "#46039f"
             ],
             [
              0.2222222222222222,
              "#7201a8"
             ],
             [
              0.3333333333333333,
              "#9c179e"
             ],
             [
              0.4444444444444444,
              "#bd3786"
             ],
             [
              0.5555555555555556,
              "#d8576b"
             ],
             [
              0.6666666666666666,
              "#ed7953"
             ],
             [
              0.7777777777777778,
              "#fb9f3a"
             ],
             [
              0.8888888888888888,
              "#fdca26"
             ],
             [
              1,
              "#f0f921"
             ]
            ],
            "type": "histogram2d"
           }
          ],
          "histogram2dcontour": [
           {
            "colorbar": {
             "outlinewidth": 0,
             "ticks": ""
            },
            "colorscale": [
             [
              0,
              "#0d0887"
             ],
             [
              0.1111111111111111,
              "#46039f"
             ],
             [
              0.2222222222222222,
              "#7201a8"
             ],
             [
              0.3333333333333333,
              "#9c179e"
             ],
             [
              0.4444444444444444,
              "#bd3786"
             ],
             [
              0.5555555555555556,
              "#d8576b"
             ],
             [
              0.6666666666666666,
              "#ed7953"
             ],
             [
              0.7777777777777778,
              "#fb9f3a"
             ],
             [
              0.8888888888888888,
              "#fdca26"
             ],
             [
              1,
              "#f0f921"
             ]
            ],
            "type": "histogram2dcontour"
           }
          ],
          "mesh3d": [
           {
            "colorbar": {
             "outlinewidth": 0,
             "ticks": ""
            },
            "type": "mesh3d"
           }
          ],
          "parcoords": [
           {
            "line": {
             "colorbar": {
              "outlinewidth": 0,
              "ticks": ""
             }
            },
            "type": "parcoords"
           }
          ],
          "pie": [
           {
            "automargin": true,
            "type": "pie"
           }
          ],
          "scatter": [
           {
            "marker": {
             "colorbar": {
              "outlinewidth": 0,
              "ticks": ""
             }
            },
            "type": "scatter"
           }
          ],
          "scatter3d": [
           {
            "line": {
             "colorbar": {
              "outlinewidth": 0,
              "ticks": ""
             }
            },
            "marker": {
             "colorbar": {
              "outlinewidth": 0,
              "ticks": ""
             }
            },
            "type": "scatter3d"
           }
          ],
          "scattercarpet": [
           {
            "marker": {
             "colorbar": {
              "outlinewidth": 0,
              "ticks": ""
             }
            },
            "type": "scattercarpet"
           }
          ],
          "scattergeo": [
           {
            "marker": {
             "colorbar": {
              "outlinewidth": 0,
              "ticks": ""
             }
            },
            "type": "scattergeo"
           }
          ],
          "scattergl": [
           {
            "marker": {
             "colorbar": {
              "outlinewidth": 0,
              "ticks": ""
             }
            },
            "type": "scattergl"
           }
          ],
          "scattermapbox": [
           {
            "marker": {
             "colorbar": {
              "outlinewidth": 0,
              "ticks": ""
             }
            },
            "type": "scattermapbox"
           }
          ],
          "scatterpolar": [
           {
            "marker": {
             "colorbar": {
              "outlinewidth": 0,
              "ticks": ""
             }
            },
            "type": "scatterpolar"
           }
          ],
          "scatterpolargl": [
           {
            "marker": {
             "colorbar": {
              "outlinewidth": 0,
              "ticks": ""
             }
            },
            "type": "scatterpolargl"
           }
          ],
          "scatterternary": [
           {
            "marker": {
             "colorbar": {
              "outlinewidth": 0,
              "ticks": ""
             }
            },
            "type": "scatterternary"
           }
          ],
          "surface": [
           {
            "colorbar": {
             "outlinewidth": 0,
             "ticks": ""
            },
            "colorscale": [
             [
              0,
              "#0d0887"
             ],
             [
              0.1111111111111111,
              "#46039f"
             ],
             [
              0.2222222222222222,
              "#7201a8"
             ],
             [
              0.3333333333333333,
              "#9c179e"
             ],
             [
              0.4444444444444444,
              "#bd3786"
             ],
             [
              0.5555555555555556,
              "#d8576b"
             ],
             [
              0.6666666666666666,
              "#ed7953"
             ],
             [
              0.7777777777777778,
              "#fb9f3a"
             ],
             [
              0.8888888888888888,
              "#fdca26"
             ],
             [
              1,
              "#f0f921"
             ]
            ],
            "type": "surface"
           }
          ],
          "table": [
           {
            "cells": {
             "fill": {
              "color": "#EBF0F8"
             },
             "line": {
              "color": "white"
             }
            },
            "header": {
             "fill": {
              "color": "#C8D4E3"
             },
             "line": {
              "color": "white"
             }
            },
            "type": "table"
           }
          ]
         },
         "layout": {
          "annotationdefaults": {
           "arrowcolor": "#2a3f5f",
           "arrowhead": 0,
           "arrowwidth": 1
          },
          "coloraxis": {
           "colorbar": {
            "outlinewidth": 0,
            "ticks": ""
           }
          },
          "colorscale": {
           "diverging": [
            [
             0,
             "#8e0152"
            ],
            [
             0.1,
             "#c51b7d"
            ],
            [
             0.2,
             "#de77ae"
            ],
            [
             0.3,
             "#f1b6da"
            ],
            [
             0.4,
             "#fde0ef"
            ],
            [
             0.5,
             "#f7f7f7"
            ],
            [
             0.6,
             "#e6f5d0"
            ],
            [
             0.7,
             "#b8e186"
            ],
            [
             0.8,
             "#7fbc41"
            ],
            [
             0.9,
             "#4d9221"
            ],
            [
             1,
             "#276419"
            ]
           ],
           "sequential": [
            [
             0,
             "#0d0887"
            ],
            [
             0.1111111111111111,
             "#46039f"
            ],
            [
             0.2222222222222222,
             "#7201a8"
            ],
            [
             0.3333333333333333,
             "#9c179e"
            ],
            [
             0.4444444444444444,
             "#bd3786"
            ],
            [
             0.5555555555555556,
             "#d8576b"
            ],
            [
             0.6666666666666666,
             "#ed7953"
            ],
            [
             0.7777777777777778,
             "#fb9f3a"
            ],
            [
             0.8888888888888888,
             "#fdca26"
            ],
            [
             1,
             "#f0f921"
            ]
           ],
           "sequentialminus": [
            [
             0,
             "#0d0887"
            ],
            [
             0.1111111111111111,
             "#46039f"
            ],
            [
             0.2222222222222222,
             "#7201a8"
            ],
            [
             0.3333333333333333,
             "#9c179e"
            ],
            [
             0.4444444444444444,
             "#bd3786"
            ],
            [
             0.5555555555555556,
             "#d8576b"
            ],
            [
             0.6666666666666666,
             "#ed7953"
            ],
            [
             0.7777777777777778,
             "#fb9f3a"
            ],
            [
             0.8888888888888888,
             "#fdca26"
            ],
            [
             1,
             "#f0f921"
            ]
           ]
          },
          "colorway": [
           "#636efa",
           "#EF553B",
           "#00cc96",
           "#ab63fa",
           "#FFA15A",
           "#19d3f3",
           "#FF6692",
           "#B6E880",
           "#FF97FF",
           "#FECB52"
          ],
          "font": {
           "color": "#2a3f5f"
          },
          "geo": {
           "bgcolor": "white",
           "lakecolor": "white",
           "landcolor": "#E5ECF6",
           "showlakes": true,
           "showland": true,
           "subunitcolor": "white"
          },
          "hoverlabel": {
           "align": "left"
          },
          "hovermode": "closest",
          "mapbox": {
           "style": "light"
          },
          "paper_bgcolor": "white",
          "plot_bgcolor": "#E5ECF6",
          "polar": {
           "angularaxis": {
            "gridcolor": "white",
            "linecolor": "white",
            "ticks": ""
           },
           "bgcolor": "#E5ECF6",
           "radialaxis": {
            "gridcolor": "white",
            "linecolor": "white",
            "ticks": ""
           }
          },
          "scene": {
           "xaxis": {
            "backgroundcolor": "#E5ECF6",
            "gridcolor": "white",
            "gridwidth": 2,
            "linecolor": "white",
            "showbackground": true,
            "ticks": "",
            "zerolinecolor": "white"
           },
           "yaxis": {
            "backgroundcolor": "#E5ECF6",
            "gridcolor": "white",
            "gridwidth": 2,
            "linecolor": "white",
            "showbackground": true,
            "ticks": "",
            "zerolinecolor": "white"
           },
           "zaxis": {
            "backgroundcolor": "#E5ECF6",
            "gridcolor": "white",
            "gridwidth": 2,
            "linecolor": "white",
            "showbackground": true,
            "ticks": "",
            "zerolinecolor": "white"
           }
          },
          "shapedefaults": {
           "line": {
            "color": "#2a3f5f"
           }
          },
          "ternary": {
           "aaxis": {
            "gridcolor": "white",
            "linecolor": "white",
            "ticks": ""
           },
           "baxis": {
            "gridcolor": "white",
            "linecolor": "white",
            "ticks": ""
           },
           "bgcolor": "#E5ECF6",
           "caxis": {
            "gridcolor": "white",
            "linecolor": "white",
            "ticks": ""
           }
          },
          "title": {
           "x": 0.05
          },
          "xaxis": {
           "automargin": true,
           "gridcolor": "white",
           "linecolor": "white",
           "ticks": "",
           "title": {
            "standoff": 15
           },
           "zerolinecolor": "white",
           "zerolinewidth": 2
          },
          "yaxis": {
           "automargin": true,
           "gridcolor": "white",
           "linecolor": "white",
           "ticks": "",
           "title": {
            "standoff": 15
           },
           "zerolinecolor": "white",
           "zerolinewidth": 2
          }
         }
        }
       }
      },
      "text/html": [
       "<div>\n",
       "        \n",
       "        \n",
       "            <div id=\"c718eaf4-1c89-4d70-9e13-67f77111cab2\" class=\"plotly-graph-div\" style=\"height:525px; width:100%;\"></div>\n",
       "            <script type=\"text/javascript\">\n",
       "                require([\"plotly\"], function(Plotly) {\n",
       "                    window.PLOTLYENV=window.PLOTLYENV || {};\n",
       "                    \n",
       "                if (document.getElementById(\"c718eaf4-1c89-4d70-9e13-67f77111cab2\")) {\n",
       "                    Plotly.newPlot(\n",
       "                        'c718eaf4-1c89-4d70-9e13-67f77111cab2',\n",
       "                        [{\"hovertemplate\": \"feels_like.day=%{marker.color}<br>lat=%{lat}<br>lon=%{lon}<extra></extra>\", \"lat\": [42.52505, 43.5298424, 43.2961743, 43.2140359, 43.1506968, 43.740335, 43.2130358, 43.9492493, 44.0175835, 43.6044622, 45.1875602, 45.7578137, 44.0121279, 43.4522771, 43.8374249, 43.5658225, 46.1591126, 45.8992348, 48.0777517, 48.0447968, 47.3215806, 49.2764624, 49.4404591, 48.584614, 48.8566969, 48.649518, 47.2380222, 42.9455368, 48.6355232, 48.249489800000006, 50.6365654, 49.4938975, 43.4933379, 43.471143749999996, 49.8941708], \"legendgroup\": \"\", \"lon\": [3.0831554, 5.4474738, 5.3699525, 5.5396318, 6.3419285, 6.3799984, 2.3491069, 4.8059012, 1.3549991, 1.4442469, 5.7357819, 4.8320114, 4.4196718, 4.4287172, 4.3600687, 4.1912837, -1.1520434, 6.1288847, 7.3579641, 7.3079618, 5.0414701, -0.7024738, 1.0939658, 7.7507127, 2.3514616, -2.0260409, 6.0243622, 1.4065544156065486, -1.5102571, 7.34429620253195, 3.0635282, 0.1079732, -1.475099, -1.552726590666314, 2.2956951], \"marker\": {\"color\": [18.869999999999997, 17.36375, 17.89875, 18.2775, 18.50375, 16.48375, 16.5775, 16.936250000000005, 16.62625, 16.148750000000003, 15.74875, 14.584999999999999, 16.5925, 17.167499999999997, 17.3475, 17.359999999999996, 15.706249999999999, 13.721250000000001, 13.495, 13.669999999999998, 12.901250000000001, 15.292499999999999, 14.370000000000001, 12.525, 14.6675, 15.34, 12.7975, 10.742500000000001, 15.218750000000002, 10.528749999999999, 13.941249999999998, 14.4725, 17.09875, 16.525000000000002, 13.59875], \"coloraxis\": \"coloraxis\", \"size\": [18.869999999999997, 17.36375, 17.89875, 18.2775, 18.50375, 16.48375, 16.5775, 16.936250000000005, 16.62625, 16.148750000000003, 15.74875, 14.584999999999999, 16.5925, 17.167499999999997, 17.3475, 17.359999999999996, 15.706249999999999, 13.721250000000001, 13.495, 13.669999999999998, 12.901250000000001, 15.292499999999999, 14.370000000000001, 12.525, 14.6675, 15.34, 12.7975, 10.742500000000001, 15.218750000000002, 10.528749999999999, 13.941249999999998, 14.4725, 17.09875, 16.525000000000002, 13.59875], \"sizemode\": \"area\", \"sizeref\": 0.08386666666666666}, \"mode\": \"markers\", \"name\": \"\", \"showlegend\": false, \"subplot\": \"mapbox\", \"type\": \"scattermapbox\"}],\n",
       "                        {\"coloraxis\": {\"colorbar\": {\"title\": {\"text\": \"feels_like.day\"}}, \"colorscale\": [[0.0, \"#0d0887\"], [0.1111111111111111, \"#46039f\"], [0.2222222222222222, \"#7201a8\"], [0.3333333333333333, \"#9c179e\"], [0.4444444444444444, \"#bd3786\"], [0.5555555555555556, \"#d8576b\"], [0.6666666666666666, \"#ed7953\"], [0.7777777777777778, \"#fb9f3a\"], [0.8888888888888888, \"#fdca26\"], [1.0, \"#f0f921\"]]}, \"legend\": {\"itemsizing\": \"constant\", \"tracegroupgap\": 0}, \"mapbox\": {\"center\": {\"lat\": 45.840611592857144, \"lon\": 3.3982891007849196}, \"domain\": {\"x\": [0.0, 1.0], \"y\": [0.0, 1.0]}, \"zoom\": 10}, \"margin\": {\"t\": 60}, \"template\": {\"data\": {\"bar\": [{\"error_x\": {\"color\": \"#2a3f5f\"}, \"error_y\": {\"color\": \"#2a3f5f\"}, \"marker\": {\"line\": {\"color\": \"#E5ECF6\", \"width\": 0.5}}, \"type\": \"bar\"}], \"barpolar\": [{\"marker\": {\"line\": {\"color\": \"#E5ECF6\", \"width\": 0.5}}, \"type\": \"barpolar\"}], \"carpet\": [{\"aaxis\": {\"endlinecolor\": \"#2a3f5f\", \"gridcolor\": \"white\", \"linecolor\": \"white\", \"minorgridcolor\": \"white\", \"startlinecolor\": \"#2a3f5f\"}, \"baxis\": {\"endlinecolor\": \"#2a3f5f\", \"gridcolor\": \"white\", \"linecolor\": \"white\", \"minorgridcolor\": \"white\", \"startlinecolor\": \"#2a3f5f\"}, \"type\": \"carpet\"}], \"choropleth\": [{\"colorbar\": {\"outlinewidth\": 0, \"ticks\": \"\"}, \"type\": \"choropleth\"}], \"contour\": [{\"colorbar\": {\"outlinewidth\": 0, \"ticks\": \"\"}, \"colorscale\": [[0.0, \"#0d0887\"], [0.1111111111111111, \"#46039f\"], [0.2222222222222222, \"#7201a8\"], [0.3333333333333333, \"#9c179e\"], [0.4444444444444444, \"#bd3786\"], [0.5555555555555556, \"#d8576b\"], [0.6666666666666666, \"#ed7953\"], [0.7777777777777778, \"#fb9f3a\"], [0.8888888888888888, \"#fdca26\"], [1.0, \"#f0f921\"]], \"type\": \"contour\"}], \"contourcarpet\": [{\"colorbar\": {\"outlinewidth\": 0, \"ticks\": \"\"}, \"type\": \"contourcarpet\"}], \"heatmap\": [{\"colorbar\": {\"outlinewidth\": 0, \"ticks\": \"\"}, \"colorscale\": [[0.0, \"#0d0887\"], [0.1111111111111111, \"#46039f\"], [0.2222222222222222, \"#7201a8\"], [0.3333333333333333, \"#9c179e\"], [0.4444444444444444, \"#bd3786\"], [0.5555555555555556, \"#d8576b\"], [0.6666666666666666, \"#ed7953\"], [0.7777777777777778, \"#fb9f3a\"], [0.8888888888888888, \"#fdca26\"], [1.0, \"#f0f921\"]], \"type\": \"heatmap\"}], \"heatmapgl\": [{\"colorbar\": {\"outlinewidth\": 0, \"ticks\": \"\"}, \"colorscale\": [[0.0, \"#0d0887\"], [0.1111111111111111, \"#46039f\"], [0.2222222222222222, \"#7201a8\"], [0.3333333333333333, \"#9c179e\"], [0.4444444444444444, \"#bd3786\"], [0.5555555555555556, \"#d8576b\"], [0.6666666666666666, \"#ed7953\"], [0.7777777777777778, \"#fb9f3a\"], [0.8888888888888888, \"#fdca26\"], [1.0, \"#f0f921\"]], \"type\": \"heatmapgl\"}], \"histogram\": [{\"marker\": {\"colorbar\": {\"outlinewidth\": 0, \"ticks\": \"\"}}, \"type\": \"histogram\"}], \"histogram2d\": [{\"colorbar\": {\"outlinewidth\": 0, \"ticks\": \"\"}, \"colorscale\": [[0.0, \"#0d0887\"], [0.1111111111111111, \"#46039f\"], [0.2222222222222222, \"#7201a8\"], [0.3333333333333333, \"#9c179e\"], [0.4444444444444444, \"#bd3786\"], [0.5555555555555556, \"#d8576b\"], [0.6666666666666666, \"#ed7953\"], [0.7777777777777778, \"#fb9f3a\"], [0.8888888888888888, \"#fdca26\"], [1.0, \"#f0f921\"]], \"type\": \"histogram2d\"}], \"histogram2dcontour\": [{\"colorbar\": {\"outlinewidth\": 0, \"ticks\": \"\"}, \"colorscale\": [[0.0, \"#0d0887\"], [0.1111111111111111, \"#46039f\"], [0.2222222222222222, \"#7201a8\"], [0.3333333333333333, \"#9c179e\"], [0.4444444444444444, \"#bd3786\"], [0.5555555555555556, \"#d8576b\"], [0.6666666666666666, \"#ed7953\"], [0.7777777777777778, \"#fb9f3a\"], [0.8888888888888888, \"#fdca26\"], [1.0, \"#f0f921\"]], \"type\": \"histogram2dcontour\"}], \"mesh3d\": [{\"colorbar\": {\"outlinewidth\": 0, \"ticks\": \"\"}, \"type\": \"mesh3d\"}], \"parcoords\": [{\"line\": {\"colorbar\": {\"outlinewidth\": 0, \"ticks\": \"\"}}, \"type\": \"parcoords\"}], \"pie\": [{\"automargin\": true, \"type\": \"pie\"}], \"scatter\": [{\"marker\": {\"colorbar\": {\"outlinewidth\": 0, \"ticks\": \"\"}}, \"type\": \"scatter\"}], \"scatter3d\": [{\"line\": {\"colorbar\": {\"outlinewidth\": 0, \"ticks\": \"\"}}, \"marker\": {\"colorbar\": {\"outlinewidth\": 0, \"ticks\": \"\"}}, \"type\": \"scatter3d\"}], \"scattercarpet\": [{\"marker\": {\"colorbar\": {\"outlinewidth\": 0, \"ticks\": \"\"}}, \"type\": \"scattercarpet\"}], \"scattergeo\": [{\"marker\": {\"colorbar\": {\"outlinewidth\": 0, \"ticks\": \"\"}}, \"type\": \"scattergeo\"}], \"scattergl\": [{\"marker\": {\"colorbar\": {\"outlinewidth\": 0, \"ticks\": \"\"}}, \"type\": \"scattergl\"}], \"scattermapbox\": [{\"marker\": {\"colorbar\": {\"outlinewidth\": 0, \"ticks\": \"\"}}, \"type\": \"scattermapbox\"}], \"scatterpolar\": [{\"marker\": {\"colorbar\": {\"outlinewidth\": 0, \"ticks\": \"\"}}, \"type\": \"scatterpolar\"}], \"scatterpolargl\": [{\"marker\": {\"colorbar\": {\"outlinewidth\": 0, \"ticks\": \"\"}}, \"type\": \"scatterpolargl\"}], \"scatterternary\": [{\"marker\": {\"colorbar\": {\"outlinewidth\": 0, \"ticks\": \"\"}}, \"type\": \"scatterternary\"}], \"surface\": [{\"colorbar\": {\"outlinewidth\": 0, \"ticks\": \"\"}, \"colorscale\": [[0.0, \"#0d0887\"], [0.1111111111111111, \"#46039f\"], [0.2222222222222222, \"#7201a8\"], [0.3333333333333333, \"#9c179e\"], [0.4444444444444444, \"#bd3786\"], [0.5555555555555556, \"#d8576b\"], [0.6666666666666666, \"#ed7953\"], [0.7777777777777778, \"#fb9f3a\"], [0.8888888888888888, \"#fdca26\"], [1.0, \"#f0f921\"]], \"type\": \"surface\"}], \"table\": [{\"cells\": {\"fill\": {\"color\": \"#EBF0F8\"}, \"line\": {\"color\": \"white\"}}, \"header\": {\"fill\": {\"color\": \"#C8D4E3\"}, \"line\": {\"color\": \"white\"}}, \"type\": \"table\"}]}, \"layout\": {\"annotationdefaults\": {\"arrowcolor\": \"#2a3f5f\", \"arrowhead\": 0, \"arrowwidth\": 1}, \"coloraxis\": {\"colorbar\": {\"outlinewidth\": 0, \"ticks\": \"\"}}, \"colorscale\": {\"diverging\": [[0, \"#8e0152\"], [0.1, \"#c51b7d\"], [0.2, \"#de77ae\"], [0.3, \"#f1b6da\"], [0.4, \"#fde0ef\"], [0.5, \"#f7f7f7\"], [0.6, \"#e6f5d0\"], [0.7, \"#b8e186\"], [0.8, \"#7fbc41\"], [0.9, \"#4d9221\"], [1, \"#276419\"]], \"sequential\": [[0.0, \"#0d0887\"], [0.1111111111111111, \"#46039f\"], [0.2222222222222222, \"#7201a8\"], [0.3333333333333333, \"#9c179e\"], [0.4444444444444444, \"#bd3786\"], [0.5555555555555556, \"#d8576b\"], [0.6666666666666666, \"#ed7953\"], [0.7777777777777778, \"#fb9f3a\"], [0.8888888888888888, \"#fdca26\"], [1.0, \"#f0f921\"]], \"sequentialminus\": [[0.0, \"#0d0887\"], [0.1111111111111111, \"#46039f\"], [0.2222222222222222, \"#7201a8\"], [0.3333333333333333, \"#9c179e\"], [0.4444444444444444, \"#bd3786\"], [0.5555555555555556, \"#d8576b\"], [0.6666666666666666, \"#ed7953\"], [0.7777777777777778, \"#fb9f3a\"], [0.8888888888888888, \"#fdca26\"], [1.0, \"#f0f921\"]]}, \"colorway\": [\"#636efa\", \"#EF553B\", \"#00cc96\", \"#ab63fa\", \"#FFA15A\", \"#19d3f3\", \"#FF6692\", \"#B6E880\", \"#FF97FF\", \"#FECB52\"], \"font\": {\"color\": \"#2a3f5f\"}, \"geo\": {\"bgcolor\": \"white\", \"lakecolor\": \"white\", \"landcolor\": \"#E5ECF6\", \"showlakes\": true, \"showland\": true, \"subunitcolor\": \"white\"}, \"hoverlabel\": {\"align\": \"left\"}, \"hovermode\": \"closest\", \"mapbox\": {\"style\": \"light\"}, \"paper_bgcolor\": \"white\", \"plot_bgcolor\": \"#E5ECF6\", \"polar\": {\"angularaxis\": {\"gridcolor\": \"white\", \"linecolor\": \"white\", \"ticks\": \"\"}, \"bgcolor\": \"#E5ECF6\", \"radialaxis\": {\"gridcolor\": \"white\", \"linecolor\": \"white\", \"ticks\": \"\"}}, \"scene\": {\"xaxis\": {\"backgroundcolor\": \"#E5ECF6\", \"gridcolor\": \"white\", \"gridwidth\": 2, \"linecolor\": \"white\", \"showbackground\": true, \"ticks\": \"\", \"zerolinecolor\": \"white\"}, \"yaxis\": {\"backgroundcolor\": \"#E5ECF6\", \"gridcolor\": \"white\", \"gridwidth\": 2, \"linecolor\": \"white\", \"showbackground\": true, \"ticks\": \"\", \"zerolinecolor\": \"white\"}, \"zaxis\": {\"backgroundcolor\": \"#E5ECF6\", \"gridcolor\": \"white\", \"gridwidth\": 2, \"linecolor\": \"white\", \"showbackground\": true, \"ticks\": \"\", \"zerolinecolor\": \"white\"}}, \"shapedefaults\": {\"line\": {\"color\": \"#2a3f5f\"}}, \"ternary\": {\"aaxis\": {\"gridcolor\": \"white\", \"linecolor\": \"white\", \"ticks\": \"\"}, \"baxis\": {\"gridcolor\": \"white\", \"linecolor\": \"white\", \"ticks\": \"\"}, \"bgcolor\": \"#E5ECF6\", \"caxis\": {\"gridcolor\": \"white\", \"linecolor\": \"white\", \"ticks\": \"\"}}, \"title\": {\"x\": 0.05}, \"xaxis\": {\"automargin\": true, \"gridcolor\": \"white\", \"linecolor\": \"white\", \"ticks\": \"\", \"title\": {\"standoff\": 15}, \"zerolinecolor\": \"white\", \"zerolinewidth\": 2}, \"yaxis\": {\"automargin\": true, \"gridcolor\": \"white\", \"linecolor\": \"white\", \"ticks\": \"\", \"title\": {\"standoff\": 15}, \"zerolinecolor\": \"white\", \"zerolinewidth\": 2}}}},\n",
       "                        {\"responsive\": true}\n",
       "                    ).then(function(){\n",
       "                            \n",
       "var gd = document.getElementById('c718eaf4-1c89-4d70-9e13-67f77111cab2');\n",
       "var x = new MutationObserver(function (mutations, observer) {{\n",
       "        var display = window.getComputedStyle(gd).display;\n",
       "        if (!display || display === 'none') {{\n",
       "            console.log([gd, 'removed!']);\n",
       "            Plotly.purge(gd);\n",
       "            observer.disconnect();\n",
       "        }}\n",
       "}});\n",
       "\n",
       "// Listen for the removal of the full notebook cells\n",
       "var notebookContainer = gd.closest('#notebook-container');\n",
       "if (notebookContainer) {{\n",
       "    x.observe(notebookContainer, {childList: true});\n",
       "}}\n",
       "\n",
       "// Listen for the clearing of the current output cell\n",
       "var outputEl = gd.closest('.output');\n",
       "if (outputEl) {{\n",
       "    x.observe(outputEl, {childList: true});\n",
       "}}\n",
       "\n",
       "                        })\n",
       "                };\n",
       "                });\n",
       "            </script>\n",
       "        </div>"
      ]
     },
     "metadata": {},
     "output_type": "display_data"
    }
   ],
   "source": [
    "fig = px.scatter_mapbox(cities_weather, lat = \"lat\", lon=\"lon\",     color=\"feels_like.day\", size=\"feels_like.day\",\n",
    "                   size_max=15, zoom=10)\n",
    "fig.show()"
   ]
  },
  {
   "cell_type": "code",
   "execution_count": 112,
   "metadata": {},
   "outputs": [],
   "source": [
    "#Store data in S3"
   ]
  },
  {
   "cell_type": "code",
   "execution_count": 113,
   "metadata": {},
   "outputs": [],
   "source": [
    "#save cities, hotels and weather in S3"
   ]
  },
  {
   "cell_type": "code",
   "execution_count": 114,
   "metadata": {},
   "outputs": [],
   "source": [
    "session = boto3.Session(aws_access_key_id=aws_access_key_id, aws_secret_access_key=aws_secret_access_key)"
   ]
  },
  {
   "cell_type": "code",
   "execution_count": 115,
   "metadata": {},
   "outputs": [],
   "source": [
    "#Create S3 bucket if exist delete it before"
   ]
  },
  {
   "cell_type": "code",
   "execution_count": 116,
   "metadata": {},
   "outputs": [],
   "source": [
    "#s3 = boto3.resource(\"s3\")\n",
    "s3 = session.client(\"s3\")"
   ]
  },
  {
   "cell_type": "code",
   "execution_count": null,
   "metadata": {},
   "outputs": [],
   "source": []
  },
  {
   "cell_type": "code",
   "execution_count": 118,
   "metadata": {},
   "outputs": [
    {
     "name": "stdout",
     "output_type": "stream",
     "text": [
      "[]\n"
     ]
    }
   ],
   "source": [
    "response = s3.list_buckets()\n",
    "buckets = [bucket[\"Name\"] for bucket in response['Buckets']]\n",
    "print(buckets)\n",
    "\n",
    "#Create the bucket if does not exist\n",
    "if kayak_bucket  in buckets :\n",
    "    s3.delete_bucket(Bucket=kayak_bucket)\n",
    "bucket = s3.create_bucket(Bucket=kayak_bucket, CreateBucketConfiguration={'LocationConstraint': 'eu-west-3'})"
   ]
  },
  {
   "cell_type": "code",
   "execution_count": null,
   "metadata": {},
   "outputs": [],
   "source": [
    "s3.put_object(Bucket=kayak_bucket, Key=\"hotels.csv\", Body=hotels.to_csv(index = False))"
   ]
  },
  {
   "cell_type": "code",
   "execution_count": null,
   "metadata": {},
   "outputs": [],
   "source": [
    "s3.put_object(Bucket=kayak_bucket, Key=\"cities.csv\", Body=cities.to_csv(index = False))"
   ]
  },
  {
   "cell_type": "code",
   "execution_count": null,
   "metadata": {},
   "outputs": [],
   "source": []
  },
  {
   "cell_type": "code",
   "execution_count": null,
   "metadata": {},
   "outputs": [],
   "source": [
    "cities.to_csv('results/cities.csv', index = False)"
   ]
  },
  {
   "cell_type": "code",
   "execution_count": null,
   "metadata": {},
   "outputs": [],
   "source": [
    "response = s3.put_object(Bucket=kayak_bucket, Key=\"weather.csv\", Body=weather.to_csv(index = False))"
   ]
  },
  {
   "cell_type": "code",
   "execution_count": null,
   "metadata": {},
   "outputs": [],
   "source": [
    "weather.to_csv('results/weather.csv', index = False)"
   ]
  },
  {
   "cell_type": "code",
   "execution_count": null,
   "metadata": {},
   "outputs": [],
   "source": [
    "hotels.to_csv('results/hotels.csv', index = False)"
   ]
  },
  {
   "cell_type": "code",
   "execution_count": null,
   "metadata": {},
   "outputs": [],
   "source": []
  },
  {
   "cell_type": "code",
   "execution_count": null,
   "metadata": {},
   "outputs": [],
   "source": []
  },
  {
   "cell_type": "markdown",
   "metadata": {},
   "source": [
    "## Helpers 🦮\n",
    "\n",
    "To help you achieve this project, here are a few tips that should help you\n",
    "\n",
    "### Get weather data with an API \n",
    "\n",
    "*   Use https://nominatim.org/ to get the gps coordinates of all the cities (no subscription required) Documentation : https://nominatim.org/release-docs/develop/api/Search/\n",
    "\n",
    "*   Use https://openweathermap.org/appid (you have to subscribe to get a free apikey) and https://openweathermap.org/api/one-call-api to get some information about the weather for the 35 cities and put it in a DataFrame\n",
    "\n",
    "*   Determine the list of cities where the weather will be the nicest within the next 7 days For example, you can use the values of daily.pop and daily.rain to compute the expected volume of rain within the next 7 days... But it's only an example, actually you can have different opinions on a what a nice weather would be like 😎 Maybe the most important criterion for you is the temperature or humidity, so feel free to change the rules !\n",
    "\n",
    "*   Save all the results in a `.csv` file, you will use it later 😉 You can save all the informations that seem important to you ! Don't forget to save the name of the cities, and also to create a column containing a unique identifier (id) of each city (this is important for what's next in the project)\n",
    "\n",
    "*   Use plotly to display the best destinations on a map\n",
    "\n",
    "### Scrape Booking.com \n",
    "\n",
    "Since BookingHoldings doesn't have aggregated databases, it will be much faster to scrape data directly from booking.com \n",
    "\n",
    "You can scrap as many information asyou want, but we suggest that you get at least:\n",
    "\n",
    "*   hotel name,\n",
    "*   Url to its booking.com page,\n",
    "*   Its coordinates: latitude and longitude\n",
    "*   Score given by the website users\n",
    "*   Text description of the hotel\n",
    "\n",
    "\n",
    "### Create your data lake using S3 \n",
    "\n",
    "Once you managed to build your dataset, you should store into S3 as a csv file. \n",
    "\n",
    "### ETL \n",
    "\n",
    "Once you uploaded your data onto S3, it will be better for the next data analysis team to extract clean data directly from a Data Warehouse. Therefore, create a SQL Database using AWS RDS, extract your data from S3 and store it in your newly created DB. "
   ]
  },
  {
   "cell_type": "code",
   "execution_count": null,
   "metadata": {},
   "outputs": [],
   "source": []
  },
  {
   "cell_type": "markdown",
   "metadata": {},
   "source": [
    "## Deliverable 📬\n",
    "\n",
    "To complete this project, your team should deliver:\n",
    "\n",
    "* A `.csv` file in an S3 bucket containing enriched information about weather and hotels for each french city\n",
    "\n",
    "* A SQL Database where we should be able to get the same cleaned data from S3 \n",
    "\n",
    "* Two maps where you should have a Top-5 destinations and a Top-20 hotels in the area. You can use plotly or any other library to do so. It should look something like this: \n",
    "\n",
    "![Map](https://full-stack-assets.s3.eu-west-3.amazonaws.com/images/Kayak_best_destination_project.png)"
   ]
  }
 ],
 "metadata": {
  "kernelspec": {
   "display_name": "Python 3",
   "language": "python",
   "name": "python3"
  },
  "language_info": {
   "codemirror_mode": {
    "name": "ipython",
    "version": 3
   },
   "file_extension": ".py",
   "mimetype": "text/x-python",
   "name": "python",
   "nbconvert_exporter": "python",
   "pygments_lexer": "ipython3",
   "version": "3.8.6"
  }
 },
 "nbformat": 4,
 "nbformat_minor": 4
}
