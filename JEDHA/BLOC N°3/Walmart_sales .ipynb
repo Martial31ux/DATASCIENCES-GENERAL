{
 "cells": [
  {
   "cell_type": "markdown",
   "metadata": {
    "id": "8ulUdF2fnWXx"
   },
   "source": [
    "<img src=\"https://www.bestdesigns.co/uploads/inspiration_images/4350/990__1511457498_404_walmart.png\" alt=\"WALMART LOGO\" />\n",
    "\n",
    "# Walmart : predict weekly sales\n",
    "\n",
    "## Company's Description 📇\n",
    "\n",
    "Walmart Inc. is an American multinational retail corporation that operates a chain of hypermarkets, discount department stores, and grocery stores from the United States, headquartered in Bentonville, Arkansas. The company was founded by Sam Walton in 1962.\n",
    "\n",
    "## Project 🚧\n",
    "\n",
    "Walmart's marketing service has asked you to build a machine learning model able to estimate the weekly sales in their stores, with the best precision possible on the predictions made. Such a model would help them understand better how the sales are influenced by economic indicators, and might be used to plan future marketing campaigns.\n",
    "\n",
    "## Goals 🎯\n",
    "\n",
    "The project can be divided into three steps:\n",
    "\n",
    "- Part 1 : make an EDA and all the necessary preprocessings to prepare data for machine learning\n",
    "- Part 2 : train a **linear regression model** (baseline)\n",
    "- Part 3 : avoid overfitting by training a **regularized regression model**"
   ]
  },
  {
   "cell_type": "code",
   "execution_count": 1,
   "metadata": {
    "executionInfo": {
     "elapsed": 1368,
     "status": "ok",
     "timestamp": 1629631873869,
     "user": {
      "displayName": "Samuel Millan",
      "photoUrl": "https://lh3.googleusercontent.com/a-/AOh14GjgVJ2HzaT3wGyHqXii7WWDHcLYjN6Sf6vPoMXBLg=s64",
      "userId": "14023525847477791880"
     },
     "user_tz": -120
    },
    "id": "-M_IEgaknWX1"
   },
   "outputs": [],
   "source": [
    "#Import usual modules and librairies\n",
    "\n",
    "import numpy as np\n",
    "import pandas as pd\n",
    "import matplotlib.pyplot as plt\n",
    "import seaborn as sns\n",
    "from sklearn.model_selection import train_test_split, GridSearchCV, learning_curve\n",
    "\n",
    "from sklearn.preprocessing import StandardScaler, OneHotEncoder\n",
    "from sklearn.pipeline import Pipeline\n",
    "from sklearn.impute import SimpleImputer\n",
    "from sklearn.compose import ColumnTransformer\n",
    "from sklearn.linear_model import LinearRegression, Lasso, Ridge\n",
    "from sklearn.metrics import r2_score"
   ]
  },
  {
   "cell_type": "code",
   "execution_count": 2,
   "metadata": {
    "colab": {
     "base_uri": "https://localhost:8080/",
     "height": 392
    },
    "executionInfo": {
     "elapsed": 242,
     "status": "error",
     "timestamp": 1629631888904,
     "user": {
      "displayName": "Samuel Millan",
      "photoUrl": "https://lh3.googleusercontent.com/a-/AOh14GjgVJ2HzaT3wGyHqXii7WWDHcLYjN6Sf6vPoMXBLg=s64",
      "userId": "14023525847477791880"
     },
     "user_tz": -120
    },
    "id": "QPktIcESnWX2",
    "outputId": "4fb0c9cc-87b7-4688-c153-15a77fbe1bd0"
   },
   "outputs": [],
   "source": [
    "#read sales data\n",
    "data = pd.read_csv('datasets/Walmart_Store_sales.csv')"
   ]
  },
  {
   "cell_type": "markdown",
   "metadata": {
    "id": "bTIg4yvynWX2"
   },
   "source": [
    "### Part 1 : EDA and data preprocessing"
   ]
  },
  {
   "cell_type": "code",
   "execution_count": 3,
   "metadata": {
    "id": "h6a52tdcnWX2"
   },
   "outputs": [],
   "source": [
    "walmart_sales = data.copy()"
   ]
  },
  {
   "cell_type": "code",
   "execution_count": null,
   "metadata": {
    "id": "_BNXfM8ZnWX3"
   },
   "outputs": [],
   "source": []
  },
  {
   "cell_type": "markdown",
   "metadata": {
    "id": "m7rBiA1QnWX4"
   },
   "source": [
    "#### 1. Statistics of Data set"
   ]
  },
  {
   "cell_type": "markdown",
   "metadata": {
    "id": "nh7cXDoJnWX4"
   },
   "source": [
    "Number of rows"
   ]
  },
  {
   "cell_type": "code",
   "execution_count": null,
   "metadata": {
    "id": "WOCcyGiQnWX5"
   },
   "outputs": [],
   "source": []
  },
  {
   "cell_type": "code",
   "execution_count": 4,
   "metadata": {
    "id": "CYFMJ98XnWX5",
    "outputId": "bc5f41e9-897c-47e1-f0ad-bb3fcab25152"
   },
   "outputs": [
    {
     "name": "stdout",
     "output_type": "stream",
     "text": [
      "Number of rows : 150\n",
      "\n"
     ]
    }
   ],
   "source": [
    "print(\"Number of rows : {}\".format(walmart_sales.shape[0]))\n",
    "print()"
   ]
  },
  {
   "cell_type": "markdown",
   "metadata": {
    "id": "6Tv0qhL9nWX7"
   },
   "source": [
    "Display of dataset"
   ]
  },
  {
   "cell_type": "code",
   "execution_count": 5,
   "metadata": {
    "id": "8EOCXZYrnWX7",
    "outputId": "2fc86ca7-ed5e-4c1b-8082-bd73fb7d19da"
   },
   "outputs": [
    {
     "data": {
      "text/html": [
       "<div>\n",
       "<style scoped>\n",
       "    .dataframe tbody tr th:only-of-type {\n",
       "        vertical-align: middle;\n",
       "    }\n",
       "\n",
       "    .dataframe tbody tr th {\n",
       "        vertical-align: top;\n",
       "    }\n",
       "\n",
       "    .dataframe thead th {\n",
       "        text-align: right;\n",
       "    }\n",
       "</style>\n",
       "<table border=\"1\" class=\"dataframe\">\n",
       "  <thead>\n",
       "    <tr style=\"text-align: right;\">\n",
       "      <th></th>\n",
       "      <th>Store</th>\n",
       "      <th>Date</th>\n",
       "      <th>Weekly_Sales</th>\n",
       "      <th>Holiday_Flag</th>\n",
       "      <th>Temperature</th>\n",
       "      <th>Fuel_Price</th>\n",
       "      <th>CPI</th>\n",
       "      <th>Unemployment</th>\n",
       "    </tr>\n",
       "  </thead>\n",
       "  <tbody>\n",
       "    <tr>\n",
       "      <th>0</th>\n",
       "      <td>6.0</td>\n",
       "      <td>18-02-2011</td>\n",
       "      <td>1572117.54</td>\n",
       "      <td>NaN</td>\n",
       "      <td>59.61</td>\n",
       "      <td>3.045</td>\n",
       "      <td>214.777523</td>\n",
       "      <td>6.858</td>\n",
       "    </tr>\n",
       "    <tr>\n",
       "      <th>1</th>\n",
       "      <td>13.0</td>\n",
       "      <td>25-03-2011</td>\n",
       "      <td>1807545.43</td>\n",
       "      <td>0.0</td>\n",
       "      <td>42.38</td>\n",
       "      <td>3.435</td>\n",
       "      <td>128.616064</td>\n",
       "      <td>7.470</td>\n",
       "    </tr>\n",
       "    <tr>\n",
       "      <th>2</th>\n",
       "      <td>17.0</td>\n",
       "      <td>27-07-2012</td>\n",
       "      <td>NaN</td>\n",
       "      <td>0.0</td>\n",
       "      <td>NaN</td>\n",
       "      <td>NaN</td>\n",
       "      <td>130.719581</td>\n",
       "      <td>5.936</td>\n",
       "    </tr>\n",
       "    <tr>\n",
       "      <th>3</th>\n",
       "      <td>11.0</td>\n",
       "      <td>NaN</td>\n",
       "      <td>1244390.03</td>\n",
       "      <td>0.0</td>\n",
       "      <td>84.57</td>\n",
       "      <td>NaN</td>\n",
       "      <td>214.556497</td>\n",
       "      <td>7.346</td>\n",
       "    </tr>\n",
       "    <tr>\n",
       "      <th>4</th>\n",
       "      <td>6.0</td>\n",
       "      <td>28-05-2010</td>\n",
       "      <td>1644470.66</td>\n",
       "      <td>0.0</td>\n",
       "      <td>78.89</td>\n",
       "      <td>2.759</td>\n",
       "      <td>212.412888</td>\n",
       "      <td>7.092</td>\n",
       "    </tr>\n",
       "  </tbody>\n",
       "</table>\n",
       "</div>"
      ],
      "text/plain": [
       "   Store        Date  Weekly_Sales  Holiday_Flag  Temperature  Fuel_Price  \\\n",
       "0    6.0  18-02-2011    1572117.54           NaN        59.61       3.045   \n",
       "1   13.0  25-03-2011    1807545.43           0.0        42.38       3.435   \n",
       "2   17.0  27-07-2012           NaN           0.0          NaN         NaN   \n",
       "3   11.0         NaN    1244390.03           0.0        84.57         NaN   \n",
       "4    6.0  28-05-2010    1644470.66           0.0        78.89       2.759   \n",
       "\n",
       "          CPI  Unemployment  \n",
       "0  214.777523         6.858  \n",
       "1  128.616064         7.470  \n",
       "2  130.719581         5.936  \n",
       "3  214.556497         7.346  \n",
       "4  212.412888         7.092  "
      ]
     },
     "metadata": {},
     "output_type": "display_data"
    },
    {
     "name": "stdout",
     "output_type": "stream",
     "text": [
      "\n"
     ]
    }
   ],
   "source": [
    "display(walmart_sales.head())\n",
    "print()"
   ]
  },
  {
   "cell_type": "markdown",
   "metadata": {
    "id": "LjKdird9nWX8"
   },
   "source": [
    "Basics statistics:"
   ]
  },
  {
   "cell_type": "code",
   "execution_count": 6,
   "metadata": {
    "id": "sEjGaobZnWX8",
    "outputId": "043695fa-d3f5-48de-ce3f-0b609e3a9dc7"
   },
   "outputs": [
    {
     "data": {
      "text/html": [
       "<div>\n",
       "<style scoped>\n",
       "    .dataframe tbody tr th:only-of-type {\n",
       "        vertical-align: middle;\n",
       "    }\n",
       "\n",
       "    .dataframe tbody tr th {\n",
       "        vertical-align: top;\n",
       "    }\n",
       "\n",
       "    .dataframe thead th {\n",
       "        text-align: right;\n",
       "    }\n",
       "</style>\n",
       "<table border=\"1\" class=\"dataframe\">\n",
       "  <thead>\n",
       "    <tr style=\"text-align: right;\">\n",
       "      <th></th>\n",
       "      <th>Store</th>\n",
       "      <th>Date</th>\n",
       "      <th>Weekly_Sales</th>\n",
       "      <th>Holiday_Flag</th>\n",
       "      <th>Temperature</th>\n",
       "      <th>Fuel_Price</th>\n",
       "      <th>CPI</th>\n",
       "      <th>Unemployment</th>\n",
       "    </tr>\n",
       "  </thead>\n",
       "  <tbody>\n",
       "    <tr>\n",
       "      <th>count</th>\n",
       "      <td>150.000000</td>\n",
       "      <td>132</td>\n",
       "      <td>1.360000e+02</td>\n",
       "      <td>138.000000</td>\n",
       "      <td>132.000000</td>\n",
       "      <td>136.000000</td>\n",
       "      <td>138.000000</td>\n",
       "      <td>135.000000</td>\n",
       "    </tr>\n",
       "    <tr>\n",
       "      <th>unique</th>\n",
       "      <td>NaN</td>\n",
       "      <td>85</td>\n",
       "      <td>NaN</td>\n",
       "      <td>NaN</td>\n",
       "      <td>NaN</td>\n",
       "      <td>NaN</td>\n",
       "      <td>NaN</td>\n",
       "      <td>NaN</td>\n",
       "    </tr>\n",
       "    <tr>\n",
       "      <th>top</th>\n",
       "      <td>NaN</td>\n",
       "      <td>07-01-2011</td>\n",
       "      <td>NaN</td>\n",
       "      <td>NaN</td>\n",
       "      <td>NaN</td>\n",
       "      <td>NaN</td>\n",
       "      <td>NaN</td>\n",
       "      <td>NaN</td>\n",
       "    </tr>\n",
       "    <tr>\n",
       "      <th>freq</th>\n",
       "      <td>NaN</td>\n",
       "      <td>4</td>\n",
       "      <td>NaN</td>\n",
       "      <td>NaN</td>\n",
       "      <td>NaN</td>\n",
       "      <td>NaN</td>\n",
       "      <td>NaN</td>\n",
       "      <td>NaN</td>\n",
       "    </tr>\n",
       "    <tr>\n",
       "      <th>mean</th>\n",
       "      <td>9.866667</td>\n",
       "      <td>NaN</td>\n",
       "      <td>1.249536e+06</td>\n",
       "      <td>0.079710</td>\n",
       "      <td>61.398106</td>\n",
       "      <td>3.320853</td>\n",
       "      <td>179.898509</td>\n",
       "      <td>7.598430</td>\n",
       "    </tr>\n",
       "    <tr>\n",
       "      <th>std</th>\n",
       "      <td>6.231191</td>\n",
       "      <td>NaN</td>\n",
       "      <td>6.474630e+05</td>\n",
       "      <td>0.271831</td>\n",
       "      <td>18.378901</td>\n",
       "      <td>0.478149</td>\n",
       "      <td>40.274956</td>\n",
       "      <td>1.577173</td>\n",
       "    </tr>\n",
       "    <tr>\n",
       "      <th>min</th>\n",
       "      <td>1.000000</td>\n",
       "      <td>NaN</td>\n",
       "      <td>2.689290e+05</td>\n",
       "      <td>0.000000</td>\n",
       "      <td>18.790000</td>\n",
       "      <td>2.514000</td>\n",
       "      <td>126.111903</td>\n",
       "      <td>5.143000</td>\n",
       "    </tr>\n",
       "    <tr>\n",
       "      <th>25%</th>\n",
       "      <td>4.000000</td>\n",
       "      <td>NaN</td>\n",
       "      <td>6.050757e+05</td>\n",
       "      <td>0.000000</td>\n",
       "      <td>45.587500</td>\n",
       "      <td>2.852250</td>\n",
       "      <td>131.970831</td>\n",
       "      <td>6.597500</td>\n",
       "    </tr>\n",
       "    <tr>\n",
       "      <th>50%</th>\n",
       "      <td>9.000000</td>\n",
       "      <td>NaN</td>\n",
       "      <td>1.261424e+06</td>\n",
       "      <td>0.000000</td>\n",
       "      <td>62.985000</td>\n",
       "      <td>3.451000</td>\n",
       "      <td>197.908893</td>\n",
       "      <td>7.470000</td>\n",
       "    </tr>\n",
       "    <tr>\n",
       "      <th>75%</th>\n",
       "      <td>15.750000</td>\n",
       "      <td>NaN</td>\n",
       "      <td>1.806386e+06</td>\n",
       "      <td>0.000000</td>\n",
       "      <td>76.345000</td>\n",
       "      <td>3.706250</td>\n",
       "      <td>214.934616</td>\n",
       "      <td>8.150000</td>\n",
       "    </tr>\n",
       "    <tr>\n",
       "      <th>max</th>\n",
       "      <td>20.000000</td>\n",
       "      <td>NaN</td>\n",
       "      <td>2.771397e+06</td>\n",
       "      <td>1.000000</td>\n",
       "      <td>91.650000</td>\n",
       "      <td>4.193000</td>\n",
       "      <td>226.968844</td>\n",
       "      <td>14.313000</td>\n",
       "    </tr>\n",
       "  </tbody>\n",
       "</table>\n",
       "</div>"
      ],
      "text/plain": [
       "             Store        Date  Weekly_Sales  Holiday_Flag  Temperature  \\\n",
       "count   150.000000         132  1.360000e+02    138.000000   132.000000   \n",
       "unique         NaN          85           NaN           NaN          NaN   \n",
       "top            NaN  07-01-2011           NaN           NaN          NaN   \n",
       "freq           NaN           4           NaN           NaN          NaN   \n",
       "mean      9.866667         NaN  1.249536e+06      0.079710    61.398106   \n",
       "std       6.231191         NaN  6.474630e+05      0.271831    18.378901   \n",
       "min       1.000000         NaN  2.689290e+05      0.000000    18.790000   \n",
       "25%       4.000000         NaN  6.050757e+05      0.000000    45.587500   \n",
       "50%       9.000000         NaN  1.261424e+06      0.000000    62.985000   \n",
       "75%      15.750000         NaN  1.806386e+06      0.000000    76.345000   \n",
       "max      20.000000         NaN  2.771397e+06      1.000000    91.650000   \n",
       "\n",
       "        Fuel_Price         CPI  Unemployment  \n",
       "count   136.000000  138.000000    135.000000  \n",
       "unique         NaN         NaN           NaN  \n",
       "top            NaN         NaN           NaN  \n",
       "freq           NaN         NaN           NaN  \n",
       "mean      3.320853  179.898509      7.598430  \n",
       "std       0.478149   40.274956      1.577173  \n",
       "min       2.514000  126.111903      5.143000  \n",
       "25%       2.852250  131.970831      6.597500  \n",
       "50%       3.451000  197.908893      7.470000  \n",
       "75%       3.706250  214.934616      8.150000  \n",
       "max       4.193000  226.968844     14.313000  "
      ]
     },
     "metadata": {},
     "output_type": "display_data"
    },
    {
     "name": "stdout",
     "output_type": "stream",
     "text": [
      "\n"
     ]
    }
   ],
   "source": [
    "data_desc = walmart_sales.describe(include='all')\n",
    "display(data_desc)\n",
    "print()"
   ]
  },
  {
   "cell_type": "markdown",
   "metadata": {
    "id": "RjbNRPl1nWX8"
   },
   "source": [
    "Missing  values "
   ]
  },
  {
   "cell_type": "code",
   "execution_count": 7,
   "metadata": {
    "id": "EoctPy_RnWX8",
    "outputId": "9341f498-3a6d-426a-fce0-df66e042a871"
   },
   "outputs": [
    {
     "name": "stdout",
     "output_type": "stream",
     "text": [
      "Percentage of missing values: \n"
     ]
    },
    {
     "data": {
      "text/plain": [
       "Store            0.000000\n",
       "Holiday_Flag     8.000000\n",
       "CPI              8.000000\n",
       "Weekly_Sales     9.333333\n",
       "Fuel_Price       9.333333\n",
       "Unemployment    10.000000\n",
       "Date            12.000000\n",
       "Temperature     12.000000\n",
       "dtype: float64"
      ]
     },
     "metadata": {},
     "output_type": "display_data"
    },
    {
     "name": "stdout",
     "output_type": "stream",
     "text": [
      "\n"
     ]
    },
    {
     "data": {
      "image/png": "[encoded data removed]",
      "text/plain": [
       "<Figure size 1440x720 with 1 Axes>"
      ]
     },
     "metadata": {
      "needs_background": "light"
     },
     "output_type": "display_data"
    }
   ],
   "source": [
    "print(\"Percentage of missing values: \")\n",
    "plt.figure(figsize=(20,10))\n",
    "sns.heatmap(walmart_sales.isna(), cbar = False);\n",
    "display((100*walmart_sales.isnull().sum()/walmart_sales.shape[0]).sort_values())\n",
    "print()\n"
   ]
  },
  {
   "cell_type": "markdown",
   "metadata": {
    "id": "E7-KWyeLnWX9"
   },
   "source": [
    "Data set Columns"
   ]
  },
  {
   "cell_type": "code",
   "execution_count": 8,
   "metadata": {
    "id": "pocEWQntnWX9",
    "outputId": "f2329d69-68f8-411b-cfee-0b8b9e0980b5"
   },
   "outputs": [
    {
     "name": "stdout",
     "output_type": "stream",
     "text": [
      "Data Set Columns: \n",
      "<class 'pandas.core.frame.DataFrame'>\n",
      "RangeIndex: 150 entries, 0 to 149\n",
      "Data columns (total 8 columns):\n",
      " #   Column        Non-Null Count  Dtype  \n",
      "---  ------        --------------  -----  \n",
      " 0   Store         150 non-null    float64\n",
      " 1   Date          132 non-null    object \n",
      " 2   Weekly_Sales  136 non-null    float64\n",
      " 3   Holiday_Flag  138 non-null    float64\n",
      " 4   Temperature   132 non-null    float64\n",
      " 5   Fuel_Price    136 non-null    float64\n",
      " 6   CPI           138 non-null    float64\n",
      " 7   Unemployment  135 non-null    float64\n",
      "dtypes: float64(7), object(1)\n",
      "memory usage: 9.5+ KB\n"
     ]
    },
    {
     "data": {
      "text/plain": [
       "None"
      ]
     },
     "metadata": {},
     "output_type": "display_data"
    },
    {
     "name": "stdout",
     "output_type": "stream",
     "text": [
      "\n"
     ]
    }
   ],
   "source": [
    "print(\"Data Set Columns: \")\n",
    "display(walmart_sales.info())\n",
    "print()"
   ]
  },
  {
   "cell_type": "code",
   "execution_count": null,
   "metadata": {
    "id": "L_aQp-d4nWX9"
   },
   "outputs": [],
   "source": []
  },
  {
   "cell_type": "markdown",
   "metadata": {
    "id": "RXL75Q6WnWX9"
   },
   "source": [
    "#### 2. Preprocessing  with pandas"
   ]
  },
  {
   "cell_type": "code",
   "execution_count": 9,
   "metadata": {
    "id": "3ju2ZvNlnWX9"
   },
   "outputs": [],
   "source": [
    "target = ['Weekly_Sales']"
   ]
  },
  {
   "cell_type": "markdown",
   "metadata": {
    "id": "n3vuLYp0nWX9"
   },
   "source": [
    "**2.1 Drop lines where target values are missing**"
   ]
  },
  {
   "cell_type": "code",
   "execution_count": 10,
   "metadata": {
    "id": "HOc8fq1xnWX9"
   },
   "outputs": [],
   "source": [
    "#Drop lines with Weekly_Sales (target variable) missing\n",
    "walmart_sales =  walmart_sales.dropna(axis = 0, subset=target)\n"
   ]
  },
  {
   "cell_type": "code",
   "execution_count": 11,
   "metadata": {
    "id": "NO8YQaZrnWX-",
    "outputId": "ed50dd21-52c1-4b45-a846-0f8ff350d5d8"
   },
   "outputs": [
    {
     "data": {
      "text/plain": [
       "(136, 8)"
      ]
     },
     "execution_count": 11,
     "metadata": {},
     "output_type": "execute_result"
    }
   ],
   "source": [
    "walmart_sales.shape"
   ]
  },
  {
   "cell_type": "markdown",
   "metadata": {
    "id": "pgXyFqtEnWX-"
   },
   "source": [
    "**2.2 Drop Date column**"
   ]
  },
  {
   "cell_type": "code",
   "execution_count": 12,
   "metadata": {
    "id": "2I19su5rnWX-"
   },
   "outputs": [],
   "source": [
    "walmart_sales = walmart_sales.drop('Date', axis = 1)"
   ]
  },
  {
   "cell_type": "markdown",
   "metadata": {
    "id": "FXKJBl2BnWX-"
   },
   "source": [
    "**2.3 Drop lines containing invalid values or outliers :**\n",
    "In this project, will be considered as outliers all the numeric features that don't fall within the range : $[\\bar{X} - 3\\sigma, \\bar{X} + 3\\sigma]$. This concerns the columns : *Temperature*, *Fuel_price*, *CPI* and *Unemployment*"
   ]
  },
  {
   "cell_type": "code",
   "execution_count": 13,
   "metadata": {
    "id": "LjZEF333nWX-",
    "outputId": "738cb05d-4542-405f-922a-3497089d1b41"
   },
   "outputs": [
    {
     "name": "stdout",
     "output_type": "stream",
     "text": [
      "Numerical features : Temperature\n",
      "Data Leng : (121, 7)\n",
      "Numerical features : Fuel_Price\n",
      "Data Leng : (109, 7)\n",
      "Numerical features : CPI\n",
      "Data Leng : (102, 7)\n",
      "Numerical features : Unemployment\n",
      "Data Leng : (90, 7)\n"
     ]
    }
   ],
   "source": [
    "numerical_features = ['Temperature', 'Fuel_Price', 'CPI', 'Unemployment']\n",
    "for feature in numerical_features :\n",
    "    print('Numerical features :', feature)\n",
    "    to_keep = (walmart_sales[feature] > walmart_sales[feature].mean() - 3*walmart_sales[feature].std()) & (walmart_sales[feature] < walmart_sales[feature].mean() + 3*walmart_sales[feature].std())\n",
    "    walmart_sales = walmart_sales.loc[to_keep,:]\n",
    "    print('Data Leng :', walmart_sales.shape)"
   ]
  },
  {
   "cell_type": "code",
   "execution_count": null,
   "metadata": {
    "id": "t4G3I-f9nWX_"
   },
   "outputs": [],
   "source": []
  },
  {
   "cell_type": "code",
   "execution_count": 14,
   "metadata": {
    "id": "RmxHjdpmnWX_",
    "outputId": "885fd4ce-8e8d-408a-cb5c-ccf5fd3d6a8c"
   },
   "outputs": [
    {
     "data": {
      "text/plain": [
       "(90, 7)"
      ]
     },
     "execution_count": 14,
     "metadata": {},
     "output_type": "execute_result"
    }
   ],
   "source": [
    "walmart_sales.shape"
   ]
  },
  {
   "cell_type": "markdown",
   "metadata": {
    "id": "n7KKBaXFnWX_"
   },
   "source": [
    "**2.4 Replace Nan in  Holiday_Flag by 0:**"
   ]
  },
  {
   "cell_type": "code",
   "execution_count": 15,
   "metadata": {
    "id": "sWAFDM2GnWX_"
   },
   "outputs": [],
   "source": [
    " walmart_sales['Holiday_Flag'] = walmart_sales['Holiday_Flag'].fillna(0)"
   ]
  },
  {
   "cell_type": "code",
   "execution_count": 16,
   "metadata": {
    "id": "1p-DKkV2nWX_",
    "outputId": "50b18f02-b963-4b34-8979-9a01ac319744"
   },
   "outputs": [
    {
     "data": {
      "text/plain": [
       "(90, 7)"
      ]
     },
     "execution_count": 16,
     "metadata": {},
     "output_type": "execute_result"
    }
   ],
   "source": [
    "walmart_sales.shape\n"
   ]
  },
  {
   "cell_type": "code",
   "execution_count": 17,
   "metadata": {
    "id": "qDsz38y6nWX_",
    "outputId": "5b6944c7-3dbe-4f63-a17a-17002cce1473"
   },
   "outputs": [
    {
     "data": {
      "text/html": [
       "<div>\n",
       "<style scoped>\n",
       "    .dataframe tbody tr th:only-of-type {\n",
       "        vertical-align: middle;\n",
       "    }\n",
       "\n",
       "    .dataframe tbody tr th {\n",
       "        vertical-align: top;\n",
       "    }\n",
       "\n",
       "    .dataframe thead th {\n",
       "        text-align: right;\n",
       "    }\n",
       "</style>\n",
       "<table border=\"1\" class=\"dataframe\">\n",
       "  <thead>\n",
       "    <tr style=\"text-align: right;\">\n",
       "      <th></th>\n",
       "      <th>Store</th>\n",
       "      <th>Weekly_Sales</th>\n",
       "      <th>Holiday_Flag</th>\n",
       "      <th>Temperature</th>\n",
       "      <th>Fuel_Price</th>\n",
       "      <th>CPI</th>\n",
       "      <th>Unemployment</th>\n",
       "    </tr>\n",
       "  </thead>\n",
       "  <tbody>\n",
       "    <tr>\n",
       "      <th>count</th>\n",
       "      <td>90.000000</td>\n",
       "      <td>9.000000e+01</td>\n",
       "      <td>90.000000</td>\n",
       "      <td>90.00000</td>\n",
       "      <td>90.000000</td>\n",
       "      <td>90.000000</td>\n",
       "      <td>90.000000</td>\n",
       "    </tr>\n",
       "    <tr>\n",
       "      <th>mean</th>\n",
       "      <td>9.900000</td>\n",
       "      <td>1.233865e+06</td>\n",
       "      <td>0.066667</td>\n",
       "      <td>61.06100</td>\n",
       "      <td>3.318444</td>\n",
       "      <td>179.524905</td>\n",
       "      <td>7.389733</td>\n",
       "    </tr>\n",
       "    <tr>\n",
       "      <th>std</th>\n",
       "      <td>6.204475</td>\n",
       "      <td>6.647250e+05</td>\n",
       "      <td>0.250841</td>\n",
       "      <td>17.74604</td>\n",
       "      <td>0.484399</td>\n",
       "      <td>39.554303</td>\n",
       "      <td>0.982729</td>\n",
       "    </tr>\n",
       "    <tr>\n",
       "      <th>min</th>\n",
       "      <td>1.000000</td>\n",
       "      <td>2.689290e+05</td>\n",
       "      <td>0.000000</td>\n",
       "      <td>18.79000</td>\n",
       "      <td>2.548000</td>\n",
       "      <td>126.128355</td>\n",
       "      <td>5.143000</td>\n",
       "    </tr>\n",
       "    <tr>\n",
       "      <th>25%</th>\n",
       "      <td>4.000000</td>\n",
       "      <td>5.617240e+05</td>\n",
       "      <td>0.000000</td>\n",
       "      <td>45.34250</td>\n",
       "      <td>2.814750</td>\n",
       "      <td>132.602339</td>\n",
       "      <td>6.642250</td>\n",
       "    </tr>\n",
       "    <tr>\n",
       "      <th>50%</th>\n",
       "      <td>9.000000</td>\n",
       "      <td>1.260826e+06</td>\n",
       "      <td>0.000000</td>\n",
       "      <td>61.45000</td>\n",
       "      <td>3.468000</td>\n",
       "      <td>197.166416</td>\n",
       "      <td>7.419000</td>\n",
       "    </tr>\n",
       "    <tr>\n",
       "      <th>75%</th>\n",
       "      <td>15.750000</td>\n",
       "      <td>1.807159e+06</td>\n",
       "      <td>0.000000</td>\n",
       "      <td>75.79250</td>\n",
       "      <td>3.737750</td>\n",
       "      <td>214.855374</td>\n",
       "      <td>8.099000</td>\n",
       "    </tr>\n",
       "    <tr>\n",
       "      <th>max</th>\n",
       "      <td>20.000000</td>\n",
       "      <td>2.771397e+06</td>\n",
       "      <td>1.000000</td>\n",
       "      <td>91.65000</td>\n",
       "      <td>4.170000</td>\n",
       "      <td>226.968844</td>\n",
       "      <td>9.342000</td>\n",
       "    </tr>\n",
       "  </tbody>\n",
       "</table>\n",
       "</div>"
      ],
      "text/plain": [
       "           Store  Weekly_Sales  Holiday_Flag  Temperature  Fuel_Price  \\\n",
       "count  90.000000  9.000000e+01     90.000000     90.00000   90.000000   \n",
       "mean    9.900000  1.233865e+06      0.066667     61.06100    3.318444   \n",
       "std     6.204475  6.647250e+05      0.250841     17.74604    0.484399   \n",
       "min     1.000000  2.689290e+05      0.000000     18.79000    2.548000   \n",
       "25%     4.000000  5.617240e+05      0.000000     45.34250    2.814750   \n",
       "50%     9.000000  1.260826e+06      0.000000     61.45000    3.468000   \n",
       "75%    15.750000  1.807159e+06      0.000000     75.79250    3.737750   \n",
       "max    20.000000  2.771397e+06      1.000000     91.65000    4.170000   \n",
       "\n",
       "              CPI  Unemployment  \n",
       "count   90.000000     90.000000  \n",
       "mean   179.524905      7.389733  \n",
       "std     39.554303      0.982729  \n",
       "min    126.128355      5.143000  \n",
       "25%    132.602339      6.642250  \n",
       "50%    197.166416      7.419000  \n",
       "75%    214.855374      8.099000  \n",
       "max    226.968844      9.342000  "
      ]
     },
     "execution_count": 17,
     "metadata": {},
     "output_type": "execute_result"
    }
   ],
   "source": [
    "walmart_sales.describe(include = 'all')"
   ]
  },
  {
   "cell_type": "markdown",
   "metadata": {
    "id": "neMKmzqGnWYA"
   },
   "source": [
    "#### 2. Data Visualization with searborn"
   ]
  },
  {
   "cell_type": "code",
   "execution_count": 18,
   "metadata": {
    "id": "bmC-cVFAnWYA"
   },
   "outputs": [],
   "source": [
    "features = [col for col in walmart_sales.columns if col != 'Weekly_Sales']"
   ]
  },
  {
   "cell_type": "markdown",
   "metadata": {
    "id": "lNxqMupqnWYA"
   },
   "source": [
    "**2.1 Continuous column distribution**"
   ]
  },
  {
   "cell_type": "code",
   "execution_count": 19,
   "metadata": {
    "id": "jw8-WskTnWYA",
    "outputId": "1bd4e370-2a4f-43a2-ea62-22f5c8ba8691"
   },
   "outputs": [
    {
     "name": "stderr",
     "output_type": "stream",
     "text": [
      "/opt/conda/lib/python3.8/site-packages/seaborn/distributions.py:2551: FutureWarning: `distplot` is a deprecated function and will be removed in a future version. Please adapt your code to use either `displot` (a figure-level function with similar flexibility) or `histplot` (an axes-level function for histograms).\n",
      "  warnings.warn(msg, FutureWarning)\n"
     ]
    },
    {
     "data": {
      "image/png": "[encoded data removed]",
      "text/plain": [
       "<Figure size 432x288 with 1 Axes>"
      ]
     },
     "metadata": {
      "needs_background": "light"
     },
     "output_type": "display_data"
    },
    {
     "name": "stderr",
     "output_type": "stream",
     "text": [
      "/opt/conda/lib/python3.8/site-packages/seaborn/distributions.py:2551: FutureWarning: `distplot` is a deprecated function and will be removed in a future version. Please adapt your code to use either `displot` (a figure-level function with similar flexibility) or `histplot` (an axes-level function for histograms).\n",
      "  warnings.warn(msg, FutureWarning)\n"
     ]
    },
    {
     "data": {
      "image/png": "[encoded data removed]",
      "text/plain": [
       "<Figure size 432x288 with 1 Axes>"
      ]
     },
     "metadata": {
      "needs_background": "light"
     },
     "output_type": "display_data"
    },
    {
     "name": "stderr",
     "output_type": "stream",
     "text": [
      "/opt/conda/lib/python3.8/site-packages/seaborn/distributions.py:2551: FutureWarning: `distplot` is a deprecated function and will be removed in a future version. Please adapt your code to use either `displot` (a figure-level function with similar flexibility) or `histplot` (an axes-level function for histograms).\n",
      "  warnings.warn(msg, FutureWarning)\n"
     ]
    },
    {
     "data": {
      "image/png": "[encoded data removed]",
      "text/plain": [
       "<Figure size 432x288 with 1 Axes>"
      ]
     },
     "metadata": {
      "needs_background": "light"
     },
     "output_type": "display_data"
    },
    {
     "name": "stderr",
     "output_type": "stream",
     "text": [
      "/opt/conda/lib/python3.8/site-packages/seaborn/distributions.py:2551: FutureWarning: `distplot` is a deprecated function and will be removed in a future version. Please adapt your code to use either `displot` (a figure-level function with similar flexibility) or `histplot` (an axes-level function for histograms).\n",
      "  warnings.warn(msg, FutureWarning)\n"
     ]
    },
    {
     "data": {
      "image/png": "[encoded data removed]",
      "text/plain": [
       "<Figure size 432x288 with 1 Axes>"
      ]
     },
     "metadata": {
      "needs_background": "light"
     },
     "output_type": "display_data"
    },
    {
     "name": "stderr",
     "output_type": "stream",
     "text": [
      "/opt/conda/lib/python3.8/site-packages/seaborn/distributions.py:2551: FutureWarning: `distplot` is a deprecated function and will be removed in a future version. Please adapt your code to use either `displot` (a figure-level function with similar flexibility) or `histplot` (an axes-level function for histograms).\n",
      "  warnings.warn(msg, FutureWarning)\n"
     ]
    },
    {
     "data": {
      "image/png": "[encoded data removed]",
      "text/plain": [
       "<Figure size 432x288 with 1 Axes>"
      ]
     },
     "metadata": {
      "needs_background": "light"
     },
     "output_type": "display_data"
    },
    {
     "name": "stderr",
     "output_type": "stream",
     "text": [
      "/opt/conda/lib/python3.8/site-packages/seaborn/distributions.py:2551: FutureWarning: `distplot` is a deprecated function and will be removed in a future version. Please adapt your code to use either `displot` (a figure-level function with similar flexibility) or `histplot` (an axes-level function for histograms).\n",
      "  warnings.warn(msg, FutureWarning)\n"
     ]
    },
    {
     "data": {
      "image/png": "[encoded data removed]",
      "text/plain": [
       "<Figure size 432x288 with 1 Axes>"
      ]
     },
     "metadata": {
      "needs_background": "light"
     },
     "output_type": "display_data"
    },
    {
     "name": "stderr",
     "output_type": "stream",
     "text": [
      "/opt/conda/lib/python3.8/site-packages/seaborn/distributions.py:2551: FutureWarning: `distplot` is a deprecated function and will be removed in a future version. Please adapt your code to use either `displot` (a figure-level function with similar flexibility) or `histplot` (an axes-level function for histograms).\n",
      "  warnings.warn(msg, FutureWarning)\n"
     ]
    },
    {
     "data": {
      "image/png": "[encoded data removed]",
      "text/plain": [
       "<Figure size 432x288 with 1 Axes>"
      ]
     },
     "metadata": {
      "needs_background": "light"
     },
     "output_type": "display_data"
    }
   ],
   "source": [
    "#walmart_sales.columns[]\n",
    "\n",
    "for col in walmart_sales.select_dtypes('float') :\n",
    "    plt.figure();\n",
    "    sns.distplot(walmart_sales[col]);\n",
    "    plt.show()"
   ]
  },
  {
   "cell_type": "markdown",
   "metadata": {
    "id": "94GxAB-snWYA"
   },
   "source": [
    "**2.1 RelationShip Features /  Target (Weekly_Sales)**"
   ]
  },
  {
   "cell_type": "code",
   "execution_count": 20,
   "metadata": {
    "id": "MJTmdPBsnWYA",
    "outputId": "55b41220-823d-4823-a85b-7db4a4fff242"
   },
   "outputs": [
    {
     "data": {
      "text/plain": [
       "<Figure size 432x288 with 0 Axes>"
      ]
     },
     "metadata": {},
     "output_type": "display_data"
    },
    {
     "data": {
      "image/png": "[encoded data removed]",
      "text/plain": [
       "<Figure size 360x360 with 1 Axes>"
      ]
     },
     "metadata": {
      "needs_background": "light"
     },
     "output_type": "display_data"
    },
    {
     "data": {
      "text/plain": [
       "<Figure size 432x288 with 0 Axes>"
      ]
     },
     "metadata": {},
     "output_type": "display_data"
    },
    {
     "data": {
      "image/png": "[encoded data removed]",
      "text/plain": [
       "<Figure size 360x360 with 1 Axes>"
      ]
     },
     "metadata": {
      "needs_background": "light"
     },
     "output_type": "display_data"
    },
    {
     "data": {
      "text/plain": [
       "<Figure size 432x288 with 0 Axes>"
      ]
     },
     "metadata": {},
     "output_type": "display_data"
    },
    {
     "data": {
      "image/png": "[encoded data removed]",
      "text/plain": [
       "<Figure size 360x360 with 1 Axes>"
      ]
     },
     "metadata": {
      "needs_background": "light"
     },
     "output_type": "display_data"
    },
    {
     "data": {
      "text/plain": [
       "<Figure size 432x288 with 0 Axes>"
      ]
     },
     "metadata": {},
     "output_type": "display_data"
    },
    {
     "data": {
      "image/png": "[encoded data removed]",
      "text/plain": [
       "<Figure size 360x360 with 1 Axes>"
      ]
     },
     "metadata": {
      "needs_background": "light"
     },
     "output_type": "display_data"
    },
    {
     "data": {
      "text/plain": [
       "<Figure size 432x288 with 0 Axes>"
      ]
     },
     "metadata": {},
     "output_type": "display_data"
    },
    {
     "data": {
      "image/png": "[encoded data removed]",
      "text/plain": [
       "<Figure size 360x360 with 1 Axes>"
      ]
     },
     "metadata": {
      "needs_background": "light"
     },
     "output_type": "display_data"
    },
    {
     "data": {
      "text/plain": [
       "<Figure size 432x288 with 0 Axes>"
      ]
     },
     "metadata": {},
     "output_type": "display_data"
    },
    {
     "data": {
      "image/png": "[encoded data removed]",
      "text/plain": [
       "<Figure size 360x360 with 1 Axes>"
      ]
     },
     "metadata": {
      "needs_background": "light"
     },
     "output_type": "display_data"
    }
   ],
   "source": [
    "for col in features:\n",
    "    plt.figure();\n",
    "    sns.relplot(x=col, y=\"Weekly_Sales\", data=walmart_sales, kind=\"line\");\n",
    "    plt.show()"
   ]
  },
  {
   "cell_type": "markdown",
   "metadata": {
    "id": "67195JfFnWYA"
   },
   "source": [
    "**2.3 Correlation Matrix**"
   ]
  },
  {
   "cell_type": "code",
   "execution_count": 21,
   "metadata": {
    "id": "zmZfddE2nWYB",
    "outputId": "574d9101-f118-4d39-aea9-66671a595dd4"
   },
   "outputs": [
    {
     "data": {
      "image/png": "[encoded data removed]",
      "text/plain": [
       "<Figure size 432x288 with 2 Axes>"
      ]
     },
     "metadata": {
      "needs_background": "light"
     },
     "output_type": "display_data"
    }
   ],
   "source": [
    "# Correlation matrix\n",
    "corr_matrix = walmart_sales.corr()\n",
    "sns.heatmap(corr_matrix);"
   ]
  },
  {
   "cell_type": "code",
   "execution_count": 22,
   "metadata": {
    "id": "PDwtrvN8nWYB",
    "outputId": "7324b1c3-a74d-41dd-b26e-b5a977341e51"
   },
   "outputs": [
    {
     "data": {
      "text/html": [
       "<div>\n",
       "<style scoped>\n",
       "    .dataframe tbody tr th:only-of-type {\n",
       "        vertical-align: middle;\n",
       "    }\n",
       "\n",
       "    .dataframe tbody tr th {\n",
       "        vertical-align: top;\n",
       "    }\n",
       "\n",
       "    .dataframe thead th {\n",
       "        text-align: right;\n",
       "    }\n",
       "</style>\n",
       "<table border=\"1\" class=\"dataframe\">\n",
       "  <thead>\n",
       "    <tr style=\"text-align: right;\">\n",
       "      <th></th>\n",
       "      <th>Store</th>\n",
       "      <th>Weekly_Sales</th>\n",
       "      <th>Holiday_Flag</th>\n",
       "      <th>Temperature</th>\n",
       "      <th>Fuel_Price</th>\n",
       "      <th>CPI</th>\n",
       "      <th>Unemployment</th>\n",
       "    </tr>\n",
       "  </thead>\n",
       "  <tbody>\n",
       "    <tr>\n",
       "      <th>Store</th>\n",
       "      <td>1.000000</td>\n",
       "      <td>0.140426</td>\n",
       "      <td>-0.038985</td>\n",
       "      <td>-0.322778</td>\n",
       "      <td>0.195787</td>\n",
       "      <td>-0.568758</td>\n",
       "      <td>0.285240</td>\n",
       "    </tr>\n",
       "    <tr>\n",
       "      <th>Weekly_Sales</th>\n",
       "      <td>0.140426</td>\n",
       "      <td>1.000000</td>\n",
       "      <td>-0.003242</td>\n",
       "      <td>-0.091299</td>\n",
       "      <td>-0.018320</td>\n",
       "      <td>-0.373895</td>\n",
       "      <td>0.094047</td>\n",
       "    </tr>\n",
       "    <tr>\n",
       "      <th>Holiday_Flag</th>\n",
       "      <td>-0.038985</td>\n",
       "      <td>-0.003242</td>\n",
       "      <td>1.000000</td>\n",
       "      <td>-0.300713</td>\n",
       "      <td>-0.203592</td>\n",
       "      <td>0.185079</td>\n",
       "      <td>0.056638</td>\n",
       "    </tr>\n",
       "    <tr>\n",
       "      <th>Temperature</th>\n",
       "      <td>-0.322778</td>\n",
       "      <td>-0.091299</td>\n",
       "      <td>-0.300713</td>\n",
       "      <td>1.000000</td>\n",
       "      <td>-0.035225</td>\n",
       "      <td>0.155212</td>\n",
       "      <td>-0.201256</td>\n",
       "    </tr>\n",
       "    <tr>\n",
       "      <th>Fuel_Price</th>\n",
       "      <td>0.195787</td>\n",
       "      <td>-0.018320</td>\n",
       "      <td>-0.203592</td>\n",
       "      <td>-0.035225</td>\n",
       "      <td>1.000000</td>\n",
       "      <td>-0.206546</td>\n",
       "      <td>-0.026149</td>\n",
       "    </tr>\n",
       "    <tr>\n",
       "      <th>CPI</th>\n",
       "      <td>-0.568758</td>\n",
       "      <td>-0.373895</td>\n",
       "      <td>0.185079</td>\n",
       "      <td>0.155212</td>\n",
       "      <td>-0.206546</td>\n",
       "      <td>1.000000</td>\n",
       "      <td>-0.205179</td>\n",
       "    </tr>\n",
       "    <tr>\n",
       "      <th>Unemployment</th>\n",
       "      <td>0.285240</td>\n",
       "      <td>0.094047</td>\n",
       "      <td>0.056638</td>\n",
       "      <td>-0.201256</td>\n",
       "      <td>-0.026149</td>\n",
       "      <td>-0.205179</td>\n",
       "      <td>1.000000</td>\n",
       "    </tr>\n",
       "  </tbody>\n",
       "</table>\n",
       "</div>"
      ],
      "text/plain": [
       "                 Store  Weekly_Sales  Holiday_Flag  Temperature  Fuel_Price  \\\n",
       "Store         1.000000      0.140426     -0.038985    -0.322778    0.195787   \n",
       "Weekly_Sales  0.140426      1.000000     -0.003242    -0.091299   -0.018320   \n",
       "Holiday_Flag -0.038985     -0.003242      1.000000    -0.300713   -0.203592   \n",
       "Temperature  -0.322778     -0.091299     -0.300713     1.000000   -0.035225   \n",
       "Fuel_Price    0.195787     -0.018320     -0.203592    -0.035225    1.000000   \n",
       "CPI          -0.568758     -0.373895      0.185079     0.155212   -0.206546   \n",
       "Unemployment  0.285240      0.094047      0.056638    -0.201256   -0.026149   \n",
       "\n",
       "                   CPI  Unemployment  \n",
       "Store        -0.568758      0.285240  \n",
       "Weekly_Sales -0.373895      0.094047  \n",
       "Holiday_Flag  0.185079      0.056638  \n",
       "Temperature   0.155212     -0.201256  \n",
       "Fuel_Price   -0.206546     -0.026149  \n",
       "CPI           1.000000     -0.205179  \n",
       "Unemployment -0.205179      1.000000  "
      ]
     },
     "execution_count": 22,
     "metadata": {},
     "output_type": "execute_result"
    }
   ],
   "source": [
    "corr_matrix"
   ]
  },
  {
   "cell_type": "markdown",
   "metadata": {
    "id": "-pwGuetOnWYB"
   },
   "source": [
    "### Part 2 : Baseline model (linear regression)"
   ]
  },
  {
   "cell_type": "code",
   "execution_count": 23,
   "metadata": {
    "id": "PD7gdAVanWYB",
    "outputId": "150b654e-e5df-4669-f57b-037d7b5c1a0f"
   },
   "outputs": [
    {
     "data": {
      "text/html": [
       "<div>\n",
       "<style scoped>\n",
       "    .dataframe tbody tr th:only-of-type {\n",
       "        vertical-align: middle;\n",
       "    }\n",
       "\n",
       "    .dataframe tbody tr th {\n",
       "        vertical-align: top;\n",
       "    }\n",
       "\n",
       "    .dataframe thead th {\n",
       "        text-align: right;\n",
       "    }\n",
       "</style>\n",
       "<table border=\"1\" class=\"dataframe\">\n",
       "  <thead>\n",
       "    <tr style=\"text-align: right;\">\n",
       "      <th></th>\n",
       "      <th>Store</th>\n",
       "      <th>Holiday_Flag</th>\n",
       "      <th>Temperature</th>\n",
       "      <th>Fuel_Price</th>\n",
       "      <th>CPI</th>\n",
       "      <th>Unemployment</th>\n",
       "    </tr>\n",
       "  </thead>\n",
       "  <tbody>\n",
       "    <tr>\n",
       "      <th>0</th>\n",
       "      <td>6.0</td>\n",
       "      <td>0.0</td>\n",
       "      <td>59.61</td>\n",
       "      <td>3.045</td>\n",
       "      <td>214.777523</td>\n",
       "      <td>6.858</td>\n",
       "    </tr>\n",
       "    <tr>\n",
       "      <th>1</th>\n",
       "      <td>13.0</td>\n",
       "      <td>0.0</td>\n",
       "      <td>42.38</td>\n",
       "      <td>3.435</td>\n",
       "      <td>128.616064</td>\n",
       "      <td>7.470</td>\n",
       "    </tr>\n",
       "    <tr>\n",
       "      <th>4</th>\n",
       "      <td>6.0</td>\n",
       "      <td>0.0</td>\n",
       "      <td>78.89</td>\n",
       "      <td>2.759</td>\n",
       "      <td>212.412888</td>\n",
       "      <td>7.092</td>\n",
       "    </tr>\n",
       "    <tr>\n",
       "      <th>6</th>\n",
       "      <td>15.0</td>\n",
       "      <td>0.0</td>\n",
       "      <td>69.80</td>\n",
       "      <td>4.069</td>\n",
       "      <td>134.855161</td>\n",
       "      <td>7.658</td>\n",
       "    </tr>\n",
       "    <tr>\n",
       "      <th>7</th>\n",
       "      <td>20.0</td>\n",
       "      <td>0.0</td>\n",
       "      <td>39.93</td>\n",
       "      <td>3.617</td>\n",
       "      <td>213.023623</td>\n",
       "      <td>6.961</td>\n",
       "    </tr>\n",
       "    <tr>\n",
       "      <th>...</th>\n",
       "      <td>...</td>\n",
       "      <td>...</td>\n",
       "      <td>...</td>\n",
       "      <td>...</td>\n",
       "      <td>...</td>\n",
       "      <td>...</td>\n",
       "    </tr>\n",
       "    <tr>\n",
       "      <th>139</th>\n",
       "      <td>7.0</td>\n",
       "      <td>0.0</td>\n",
       "      <td>50.60</td>\n",
       "      <td>3.804</td>\n",
       "      <td>197.588605</td>\n",
       "      <td>8.090</td>\n",
       "    </tr>\n",
       "    <tr>\n",
       "      <th>143</th>\n",
       "      <td>3.0</td>\n",
       "      <td>0.0</td>\n",
       "      <td>78.53</td>\n",
       "      <td>2.705</td>\n",
       "      <td>214.495838</td>\n",
       "      <td>7.343</td>\n",
       "    </tr>\n",
       "    <tr>\n",
       "      <th>144</th>\n",
       "      <td>3.0</td>\n",
       "      <td>0.0</td>\n",
       "      <td>73.44</td>\n",
       "      <td>3.594</td>\n",
       "      <td>226.968844</td>\n",
       "      <td>6.034</td>\n",
       "    </tr>\n",
       "    <tr>\n",
       "      <th>145</th>\n",
       "      <td>14.0</td>\n",
       "      <td>0.0</td>\n",
       "      <td>72.62</td>\n",
       "      <td>2.780</td>\n",
       "      <td>182.442420</td>\n",
       "      <td>8.899</td>\n",
       "    </tr>\n",
       "    <tr>\n",
       "      <th>149</th>\n",
       "      <td>19.0</td>\n",
       "      <td>0.0</td>\n",
       "      <td>55.20</td>\n",
       "      <td>4.170</td>\n",
       "      <td>137.923067</td>\n",
       "      <td>8.150</td>\n",
       "    </tr>\n",
       "  </tbody>\n",
       "</table>\n",
       "<p>90 rows × 6 columns</p>\n",
       "</div>"
      ],
      "text/plain": [
       "     Store  Holiday_Flag  Temperature  Fuel_Price         CPI  Unemployment\n",
       "0      6.0           0.0        59.61       3.045  214.777523         6.858\n",
       "1     13.0           0.0        42.38       3.435  128.616064         7.470\n",
       "4      6.0           0.0        78.89       2.759  212.412888         7.092\n",
       "6     15.0           0.0        69.80       4.069  134.855161         7.658\n",
       "7     20.0           0.0        39.93       3.617  213.023623         6.961\n",
       "..     ...           ...          ...         ...         ...           ...\n",
       "139    7.0           0.0        50.60       3.804  197.588605         8.090\n",
       "143    3.0           0.0        78.53       2.705  214.495838         7.343\n",
       "144    3.0           0.0        73.44       3.594  226.968844         6.034\n",
       "145   14.0           0.0        72.62       2.780  182.442420         8.899\n",
       "149   19.0           0.0        55.20       4.170  137.923067         8.150\n",
       "\n",
       "[90 rows x 6 columns]"
      ]
     },
     "execution_count": 23,
     "metadata": {},
     "output_type": "execute_result"
    }
   ],
   "source": [
    "X = walmart_sales.loc[:,features]\n",
    "X"
   ]
  },
  {
   "cell_type": "code",
   "execution_count": 24,
   "metadata": {
    "id": "NDwxEWLknWYB",
    "outputId": "f3fcad76-b879-414f-e943-aa326095aab0"
   },
   "outputs": [
    {
     "data": {
      "text/html": [
       "<div>\n",
       "<style scoped>\n",
       "    .dataframe tbody tr th:only-of-type {\n",
       "        vertical-align: middle;\n",
       "    }\n",
       "\n",
       "    .dataframe tbody tr th {\n",
       "        vertical-align: top;\n",
       "    }\n",
       "\n",
       "    .dataframe thead th {\n",
       "        text-align: right;\n",
       "    }\n",
       "</style>\n",
       "<table border=\"1\" class=\"dataframe\">\n",
       "  <thead>\n",
       "    <tr style=\"text-align: right;\">\n",
       "      <th></th>\n",
       "      <th>Weekly_Sales</th>\n",
       "    </tr>\n",
       "  </thead>\n",
       "  <tbody>\n",
       "    <tr>\n",
       "      <th>0</th>\n",
       "      <td>1572117.54</td>\n",
       "    </tr>\n",
       "    <tr>\n",
       "      <th>1</th>\n",
       "      <td>1807545.43</td>\n",
       "    </tr>\n",
       "    <tr>\n",
       "      <th>4</th>\n",
       "      <td>1644470.66</td>\n",
       "    </tr>\n",
       "    <tr>\n",
       "      <th>6</th>\n",
       "      <td>695396.19</td>\n",
       "    </tr>\n",
       "    <tr>\n",
       "      <th>7</th>\n",
       "      <td>2203523.20</td>\n",
       "    </tr>\n",
       "    <tr>\n",
       "      <th>...</th>\n",
       "      <td>...</td>\n",
       "    </tr>\n",
       "    <tr>\n",
       "      <th>139</th>\n",
       "      <td>532739.77</td>\n",
       "    </tr>\n",
       "    <tr>\n",
       "      <th>143</th>\n",
       "      <td>396968.80</td>\n",
       "    </tr>\n",
       "    <tr>\n",
       "      <th>144</th>\n",
       "      <td>424513.08</td>\n",
       "    </tr>\n",
       "    <tr>\n",
       "      <th>145</th>\n",
       "      <td>2248645.59</td>\n",
       "    </tr>\n",
       "    <tr>\n",
       "      <th>149</th>\n",
       "      <td>1255087.26</td>\n",
       "    </tr>\n",
       "  </tbody>\n",
       "</table>\n",
       "<p>90 rows × 1 columns</p>\n",
       "</div>"
      ],
      "text/plain": [
       "     Weekly_Sales\n",
       "0      1572117.54\n",
       "1      1807545.43\n",
       "4      1644470.66\n",
       "6       695396.19\n",
       "7      2203523.20\n",
       "..            ...\n",
       "139     532739.77\n",
       "143     396968.80\n",
       "144     424513.08\n",
       "145    2248645.59\n",
       "149    1255087.26\n",
       "\n",
       "[90 rows x 1 columns]"
      ]
     },
     "execution_count": 24,
     "metadata": {},
     "output_type": "execute_result"
    }
   ],
   "source": [
    "y = walmart_sales.loc[:,target]\n",
    "y"
   ]
  },
  {
   "cell_type": "code",
   "execution_count": 25,
   "metadata": {
    "id": "ZrayebDEnWYB",
    "outputId": "beda940a-bd13-4fd7-a611-45900de508bf"
   },
   "outputs": [
    {
     "name": "stdout",
     "output_type": "stream",
     "text": [
      "Dividing into train and test sets...\n",
      "...Done.\n",
      "\n"
     ]
    }
   ],
   "source": [
    "# Divide dataset Train set & Test set \n",
    "print(\"Dividing into train and test sets...\")\n",
    "X_train, X_test, y_train, y_test = train_test_split(X, y, test_size=0.2, \n",
    "                                                    random_state=0)\n",
    "print(\"...Done.\")\n",
    "print()"
   ]
  },
  {
   "cell_type": "code",
   "execution_count": 26,
   "metadata": {
    "id": "y3FcobdbnWYC"
   },
   "outputs": [],
   "source": [
    "cat_features = ['Store', 'Holiday_Flag']"
   ]
  },
  {
   "cell_type": "markdown",
   "metadata": {
    "id": "S10wIHB0nWYC"
   },
   "source": [
    " #### 1. Preprocessings with scikit-learn"
   ]
  },
  {
   "cell_type": "code",
   "execution_count": 27,
   "metadata": {
    "id": "6q3Cn7O5nWYC"
   },
   "outputs": [],
   "source": [
    "# Create pipeline for numeric features\n",
    "numeric_features = [2,3,4,5] # Positions of numeric columns in X_train/X_test\n",
    "numeric_transformer = Pipeline(steps=[\n",
    "    ('imputer', SimpleImputer(strategy='median')), # missing values will be replaced by columns' median\n",
    "    ('scaler', StandardScaler())\n",
    "])"
   ]
  },
  {
   "cell_type": "code",
   "execution_count": 28,
   "metadata": {
    "id": "32wenTA6nWYD"
   },
   "outputs": [],
   "source": [
    "categorical_features = [0, 1] # Positions of categorical columns in X_train/X_test\n",
    "encoder = OneHotEncoder(drop='first')\n",
    "categorical_transformer = Pipeline(\n",
    "    steps=[\n",
    "    ('imputer', SimpleImputer(strategy='most_frequent')), # missing values will be replaced by most frequent value\n",
    "    ('encoder', OneHotEncoder(drop='first')) # first column will be dropped to avoid creating correlations between features\n",
    "    ])\n"
   ]
  },
  {
   "cell_type": "code",
   "execution_count": 29,
   "metadata": {
    "id": "TSXDptxInWYD"
   },
   "outputs": [],
   "source": [
    "# Use ColumnTransformer to make a preprocessor object that describes all the treatments to be done\n",
    "preprocessor = ColumnTransformer(\n",
    "    transformers=[\n",
    "        ('num', numeric_transformer, numeric_features),\n",
    "        ('cat', categorical_transformer, categorical_features)\n",
    "    ])"
   ]
  },
  {
   "cell_type": "code",
   "execution_count": 30,
   "metadata": {
    "id": "fSqCx06cnWYD"
   },
   "outputs": [],
   "source": [
    "X_train = preprocessor.fit_transform(X_train)"
   ]
  },
  {
   "cell_type": "code",
   "execution_count": 31,
   "metadata": {
    "id": "dxN2Pp38nWYE"
   },
   "outputs": [],
   "source": [
    "X_test = preprocessor.transform(X_test)"
   ]
  },
  {
   "cell_type": "markdown",
   "metadata": {
    "id": "UrBdfvaunWYE"
   },
   "source": [
    " **2. Training model with a Linear Regression**"
   ]
  },
  {
   "cell_type": "code",
   "execution_count": 32,
   "metadata": {
    "id": "uXFtarJUnWYE",
    "outputId": "504153ee-4e8d-4bee-acbb-ffab6f191a7f"
   },
   "outputs": [
    {
     "name": "stdout",
     "output_type": "stream",
     "text": [
      "Train model...\n",
      "...Done.\n"
     ]
    }
   ],
   "source": [
    "# Train model\n",
    "print(\"Train model...\")\n",
    "regressor = LinearRegression()\n",
    "egressor = regressor.fit(X_train, y_train)\n",
    "print(\"...Done.\")"
   ]
  },
  {
   "cell_type": "markdown",
   "metadata": {
    "id": "Y180bueFnWYE"
   },
   "source": [
    " **3. Model predictions  and performances**"
   ]
  },
  {
   "cell_type": "code",
   "execution_count": 33,
   "metadata": {
    "id": "qyO_UC45nWYE",
    "outputId": "3e2570b5-048c-4243-9ccb-9d4e498e3f73"
   },
   "outputs": [
    {
     "name": "stdout",
     "output_type": "stream",
     "text": [
      "Predictions on training set...\n",
      "...Done.\n",
      "\n"
     ]
    }
   ],
   "source": [
    "# Predictions on training set\n",
    "print(\"Predictions on training set...\")\n",
    "y_train_pred = regressor.predict(X_train)\n",
    "print(\"...Done.\")\n",
    "#print(y_train_pred)\n",
    "print()"
   ]
  },
  {
   "cell_type": "code",
   "execution_count": 34,
   "metadata": {
    "id": "CXVkHpB0nWYE",
    "outputId": "1905d3f5-b2a4-44fa-87ff-3a460af95b04"
   },
   "outputs": [
    {
     "name": "stdout",
     "output_type": "stream",
     "text": [
      "Predictions on test set...\n",
      "...Done.\n",
      "\n"
     ]
    }
   ],
   "source": [
    "# Predictions on test set\n",
    "print(\"Predictions on test set...\")\n",
    "y_test_pred = regressor.predict(X_test)\n",
    "print(\"...Done.\")\n",
    "#print(y_test_pred)\n",
    "print()"
   ]
  },
  {
   "cell_type": "code",
   "execution_count": 35,
   "metadata": {
    "id": "h1qrh9EZnWYE",
    "outputId": "e68ae24a-d0fe-431a-ffc3-c2f4e4017206"
   },
   "outputs": [
    {
     "data": {
      "text/plain": [
       "<matplotlib.legend.Legend at 0x7f228e42cfa0>"
      ]
     },
     "execution_count": 35,
     "metadata": {},
     "output_type": "execute_result"
    },
    {
     "data": {
      "image/png": "[encoded data removed]",
      "text/plain": [
       "<Figure size 864x576 with 1 Axes>"
      ]
     },
     "metadata": {
      "needs_background": "light"
     },
     "output_type": "display_data"
    }
   ],
   "source": [
    "train_sizes, train_scores, valid_scores = learning_curve(regressor, X_train, y_train, \n",
    "                                                         train_sizes=[10, 40], cv=3)\n",
    "plt.figure(figsize=(12,8))\n",
    "plt.plot(train_sizes, train_scores.mean(axis=1), label = 'Train score')\n",
    "plt.plot(train_sizes, valid_scores.mean(axis=1), label = 'Validation score')\n",
    "plt.legend()"
   ]
  },
  {
   "cell_type": "code",
   "execution_count": 36,
   "metadata": {
    "id": "y7COLAf3nWYF",
    "outputId": "b598ce19-fa70-44c1-8021-c690d7050315"
   },
   "outputs": [
    {
     "name": "stdout",
     "output_type": "stream",
     "text": [
      "Linear R2 score on training set :  0.9820617245920473\n",
      "Linear R2 score on test set :  0.9344198126038252\n"
     ]
    }
   ],
   "source": [
    "print(\"Linear R2 score on training set : \", regressor.score(X_train, y_train))\n",
    "print(\"Linear R2 score on test set : \", regressor.score(X_test, y_test))"
   ]
  },
  {
   "cell_type": "code",
   "execution_count": 37,
   "metadata": {
    "id": "lnA0F8renWYF",
    "outputId": "f45a8b02-be6e-404a-b22c-7e8fc4a1c9bb"
   },
   "outputs": [
    {
     "data": {
      "text/plain": [
       "array([[-1.23104098e+03, -7.49677420e+04,  8.75655239e+05,\n",
       "         4.57835651e+04,  2.84319143e+05, -1.23887594e+06,\n",
       "         2.61975083e+06, -1.21008322e+06,  5.55093653e+04,\n",
       "        -5.58675445e+05, -6.66213556e+05, -1.07797784e+06,\n",
       "         2.17107371e+06,  1.44621554e+05,  2.46490564e+06,\n",
       "         1.11309595e+06,  9.61587802e+05, -4.37963728e+05,\n",
       "         1.29658565e+06,  1.33309443e+06,  1.67351001e+06,\n",
       "         6.22065956e+05, -1.87867282e+04]])"
      ]
     },
     "execution_count": 37,
     "metadata": {},
     "output_type": "execute_result"
    }
   ],
   "source": [
    "regressor.coef_"
   ]
  },
  {
   "cell_type": "markdown",
   "metadata": {
    "id": "6k6AOyB-nWYF"
   },
   "source": [
    "### Part 3 : Fight overfitting"
   ]
  },
  {
   "cell_type": "markdown",
   "metadata": {
    "id": "9v13-F-KnWYF"
   },
   "source": [
    " **1. Using Ridge**"
   ]
  },
  {
   "cell_type": "code",
   "execution_count": 38,
   "metadata": {
    "id": "sw3MheOmnWYF"
   },
   "outputs": [],
   "source": [
    "ridge_regressor = Ridge()"
   ]
  },
  {
   "cell_type": "code",
   "execution_count": 39,
   "metadata": {
    "id": "fkQ8iDu1nWYF",
    "outputId": "751f290e-91c3-4f38-d336-42555058eb1e"
   },
   "outputs": [
    {
     "data": {
      "text/plain": [
       "Ridge()"
      ]
     },
     "execution_count": 39,
     "metadata": {},
     "output_type": "execute_result"
    }
   ],
   "source": [
    "ridge_regressor.fit(X_train, y_train)"
   ]
  },
  {
   "cell_type": "code",
   "execution_count": 40,
   "metadata": {
    "id": "7pRjBTSnnWYF",
    "outputId": "07f0c23f-78ff-4ce0-b80b-f1ce2d4def23"
   },
   "outputs": [
    {
     "name": "stdout",
     "output_type": "stream",
     "text": [
      "Ridge R2 Score on training set :  0.9244828390188061\n",
      "Ridge R2 Score on test set : 0.82142510322106\n"
     ]
    }
   ],
   "source": [
    "print(\"Ridge R2 Score on training set :  {}\".format(ridge_regressor.score(X_train, y_train)))\n",
    "print(\"Ridge R2 Score on test set : {}\".format(ridge_regressor.score(X_test, y_test)))"
   ]
  },
  {
   "cell_type": "code",
   "execution_count": null,
   "metadata": {
    "id": "bHUGfR6AnWYF"
   },
   "outputs": [],
   "source": []
  },
  {
   "cell_type": "code",
   "execution_count": null,
   "metadata": {
    "id": "RsYCotgonWYF"
   },
   "outputs": [],
   "source": []
  },
  {
   "cell_type": "markdown",
   "metadata": {
    "id": "TrPi-m-mnWYG"
   },
   "source": [
    " **2. Using Lasso**"
   ]
  },
  {
   "cell_type": "code",
   "execution_count": 41,
   "metadata": {
    "id": "RULP2uh-nWYG"
   },
   "outputs": [],
   "source": [
    " lasso = Lasso()"
   ]
  },
  {
   "cell_type": "code",
   "execution_count": 42,
   "metadata": {
    "id": "L0RzGDZ6nWYG",
    "outputId": "e49f5d4e-60d8-4134-d53b-7fd912550ed3"
   },
   "outputs": [
    {
     "name": "stderr",
     "output_type": "stream",
     "text": [
      "/opt/conda/lib/python3.8/site-packages/sklearn/linear_model/_coordinate_descent.py:512: ConvergenceWarning: Objective did not converge. You might want to increase the number of iterations. Duality gap: 275015434875.24817, tolerance: 3009808860.5723906\n",
      "  model = cd_fast.sparse_enet_coordinate_descent(\n"
     ]
    }
   ],
   "source": [
    "lasso = lasso.fit(X_train, y_train)"
   ]
  },
  {
   "cell_type": "code",
   "execution_count": 43,
   "metadata": {
    "id": "__NnT4i-nWYG",
    "outputId": "469d12d3-53f9-4e40-a836-631245045c7e"
   },
   "outputs": [
    {
     "name": "stdout",
     "output_type": "stream",
     "text": [
      "Lasso R2 score on training set :  0.9816949448903775\n",
      "Lasso R2 score on test set :  0.9374693840645092\n"
     ]
    }
   ],
   "source": [
    "print(\"Lasso R2 score on training set : \", lasso.score(X_train, y_train))\n",
    "print(\"Lasso R2 score on test set : \", lasso.score(X_test, y_test))"
   ]
  },
  {
   "cell_type": "markdown",
   "metadata": {
    "id": "1a0Vb4O2nWYG"
   },
   "source": [
    " **3. GridSearchCV**"
   ]
  },
  {
   "cell_type": "code",
   "execution_count": null,
   "metadata": {
    "id": "kiH7M3pOnWYG"
   },
   "outputs": [],
   "source": []
  },
  {
   "cell_type": "code",
   "execution_count": 44,
   "metadata": {
    "id": "QJpKuXaZnWYG",
    "outputId": "6e8afbc2-4fd0-406c-e151-10fa88dd1913"
   },
   "outputs": [
    {
     "name": "stdout",
     "output_type": "stream",
     "text": [
      "Grid search with Ridge...\n",
      "...Done.\n",
      "Best hyperparameters for gridSearch Ridge :  {'alpha': 0.0}\n",
      "Best R2 score for gridSearch Ridge  :  0.8491982990450676\n"
     ]
    }
   ],
   "source": [
    "# Perform grid search\n",
    "print(\"Grid search with Ridge...\")\n",
    "regressor2 = Ridge()\n",
    "# Grid of values to be tested\n",
    "params = {\n",
    "    'alpha': [0.0, 0.1, 0.5, 1.0] # 0 corresponds to no regularization\n",
    "}\n",
    "gridsearch = GridSearchCV(regressor2, param_grid = params, cv = 3) # cv : the number of folds to be used for CV\n",
    "gridsearch.fit(X_train, y_train)\n",
    "print(\"...Done.\")\n",
    "print(\"Best hyperparameters for gridSearch Ridge : \", gridsearch.best_params_)\n",
    "print(\"Best R2 score for gridSearch Ridge  : \", gridsearch.best_score_)"
   ]
  },
  {
   "cell_type": "code",
   "execution_count": 45,
   "metadata": {
    "id": "zqC48YQZnWYG",
    "outputId": "aa7f0c09-04b5-4520-a06a-190888b87b97"
   },
   "outputs": [
    {
     "name": "stdout",
     "output_type": "stream",
     "text": [
      "Grid search with Lasso...\n"
     ]
    },
    {
     "name": "stderr",
     "output_type": "stream",
     "text": [
      "/opt/conda/lib/python3.8/site-packages/sklearn/model_selection/_validation.py:531: UserWarning: With alpha=0, this algorithm does not converge well. You are advised to use the LinearRegression estimator\n",
      "  estimator.fit(X_train, y_train, **fit_params)\n",
      "/opt/conda/lib/python3.8/site-packages/sklearn/linear_model/_coordinate_descent.py:512: ConvergenceWarning: Objective did not converge. You might want to increase the number of iterations. Duality gap: 166476414219.94153, tolerance: 2132244736.4906783\n",
      "  model = cd_fast.sparse_enet_coordinate_descent(\n",
      "/opt/conda/lib/python3.8/site-packages/sklearn/model_selection/_validation.py:531: UserWarning: With alpha=0, this algorithm does not converge well. You are advised to use the LinearRegression estimator\n",
      "  estimator.fit(X_train, y_train, **fit_params)\n",
      "/opt/conda/lib/python3.8/site-packages/sklearn/linear_model/_coordinate_descent.py:512: ConvergenceWarning: Objective did not converge. You might want to increase the number of iterations. Duality gap: 148329101228.09335, tolerance: 1940510871.4329298\n",
      "  model = cd_fast.sparse_enet_coordinate_descent(\n",
      "/opt/conda/lib/python3.8/site-packages/sklearn/model_selection/_validation.py:531: UserWarning: With alpha=0, this algorithm does not converge well. You are advised to use the LinearRegression estimator\n",
      "  estimator.fit(X_train, y_train, **fit_params)\n",
      "/opt/conda/lib/python3.8/site-packages/sklearn/linear_model/_coordinate_descent.py:512: ConvergenceWarning: Objective did not converge. You might want to increase the number of iterations. Duality gap: 78456906212.41849, tolerance: 1907460795.372512\n",
      "  model = cd_fast.sparse_enet_coordinate_descent(\n",
      "/opt/conda/lib/python3.8/site-packages/sklearn/linear_model/_coordinate_descent.py:512: ConvergenceWarning: Objective did not converge. You might want to increase the number of iterations. Duality gap: 166486405023.36804, tolerance: 2132244736.4906783\n",
      "  model = cd_fast.sparse_enet_coordinate_descent(\n",
      "/opt/conda/lib/python3.8/site-packages/sklearn/linear_model/_coordinate_descent.py:512: ConvergenceWarning: Objective did not converge. You might want to increase the number of iterations. Duality gap: 148328763484.63318, tolerance: 1940510871.4329298\n",
      "  model = cd_fast.sparse_enet_coordinate_descent(\n",
      "/opt/conda/lib/python3.8/site-packages/sklearn/linear_model/_coordinate_descent.py:512: ConvergenceWarning: Objective did not converge. You might want to increase the number of iterations. Duality gap: 78409638917.85301, tolerance: 1907460795.372512\n",
      "  model = cd_fast.sparse_enet_coordinate_descent(\n",
      "/opt/conda/lib/python3.8/site-packages/sklearn/linear_model/_coordinate_descent.py:512: ConvergenceWarning: Objective did not converge. You might want to increase the number of iterations. Duality gap: 166523638063.96487, tolerance: 2132244736.4906783\n",
      "  model = cd_fast.sparse_enet_coordinate_descent(\n",
      "/opt/conda/lib/python3.8/site-packages/sklearn/linear_model/_coordinate_descent.py:512: ConvergenceWarning: Objective did not converge. You might want to increase the number of iterations. Duality gap: 148323722907.9641, tolerance: 1940510871.4329298\n",
      "  model = cd_fast.sparse_enet_coordinate_descent(\n",
      "/opt/conda/lib/python3.8/site-packages/sklearn/linear_model/_coordinate_descent.py:512: ConvergenceWarning: Objective did not converge. You might want to increase the number of iterations. Duality gap: 78220799777.54985, tolerance: 1907460795.372512\n",
      "  model = cd_fast.sparse_enet_coordinate_descent(\n"
     ]
    },
    {
     "name": "stdout",
     "output_type": "stream",
     "text": [
      "...Done.\n",
      "Best hyperparameters for gridSearch Lasso :  {'alpha': 1.0}\n",
      "Best R2 score for gridSearch Lasso  :  0.8821520558071366\n"
     ]
    },
    {
     "name": "stderr",
     "output_type": "stream",
     "text": [
      "/opt/conda/lib/python3.8/site-packages/sklearn/linear_model/_coordinate_descent.py:512: ConvergenceWarning: Objective did not converge. You might want to increase the number of iterations. Duality gap: 166564131695.70712, tolerance: 2132244736.4906783\n",
      "  model = cd_fast.sparse_enet_coordinate_descent(\n",
      "/opt/conda/lib/python3.8/site-packages/sklearn/linear_model/_coordinate_descent.py:512: ConvergenceWarning: Objective did not converge. You might want to increase the number of iterations. Duality gap: 148308951253.67142, tolerance: 1940510871.4329298\n",
      "  model = cd_fast.sparse_enet_coordinate_descent(\n",
      "/opt/conda/lib/python3.8/site-packages/sklearn/linear_model/_coordinate_descent.py:512: ConvergenceWarning: Objective did not converge. You might want to increase the number of iterations. Duality gap: 77985271702.58081, tolerance: 1907460795.372512\n",
      "  model = cd_fast.sparse_enet_coordinate_descent(\n",
      "/opt/conda/lib/python3.8/site-packages/sklearn/linear_model/_coordinate_descent.py:512: ConvergenceWarning: Objective did not converge. You might want to increase the number of iterations. Duality gap: 275015434875.24817, tolerance: 3009808860.5723906\n",
      "  model = cd_fast.sparse_enet_coordinate_descent(\n"
     ]
    }
   ],
   "source": [
    "# Perform grid search\n",
    "print(\"Grid search with Lasso...\")\n",
    "lasso2 = Lasso()\n",
    "# Grid of values to be tested\n",
    "params = {\n",
    "    'alpha': [0.0, 0.1, 0.5, 1.0] # 0 corresponds to no regularization\n",
    "}\n",
    "gridsearch2 = GridSearchCV(lasso2, param_grid = params, cv = 3) # cv : the number of folds to be used for CV\n",
    "gridsearch2.fit(X_train, y_train)\n",
    "print(\"...Done.\")\n",
    "print(\"Best hyperparameters for gridSearch Lasso : \", gridsearch2.best_params_)\n",
    "print(\"Best R2 score for gridSearch Lasso  : \", gridsearch2.best_score_)"
   ]
  },
  {
   "cell_type": "code",
   "execution_count": null,
   "metadata": {
    "id": "uIVCREiSnWYH"
   },
   "outputs": [],
   "source": []
  }
 ],
 "metadata": {
  "colab": {
   "name": "Walmart_sales.ipynb",
   "provenance": []
  },
  "kernelspec": {
   "display_name": "Python 3",
   "language": "python",
   "name": "python3"
  },
  "language_info": {
   "codemirror_mode": {
    "name": "ipython",
    "version": 3
   },
   "file_extension": ".py",
   "mimetype": "text/x-python",
   "name": "python",
   "nbconvert_exporter": "python",
   "pygments_lexer": "ipython3",
   "version": "3.8.6"
  }
 },
 "nbformat": 4,
 "nbformat_minor": 4
}
